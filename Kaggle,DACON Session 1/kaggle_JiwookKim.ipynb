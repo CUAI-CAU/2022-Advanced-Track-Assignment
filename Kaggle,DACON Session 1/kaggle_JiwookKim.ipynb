{
 "cells": [
  {
   "cell_type": "code",
   "execution_count": 23,
   "metadata": {
    "collapsed": true
   },
   "outputs": [],
   "source": [
    "import numpy as np\n",
    "import pandas as pd\n",
    "import matplotlib.pyplot as plt\n",
    "from sklearn.preprocessing import LabelEncoder\n",
    "from sklearn.model_selection import train_test_split\n",
    "from catboost import CatBoostRegressor\n",
    "import seaborn as sns\n",
    "from statsmodels.tsa.seasonal import seasonal_decompose\n",
    "from statsmodels.graphics.tsaplots import plot_acf\n",
    "from statsmodels.graphics.tsaplots import plot_acf\n",
    "from collections import Counter\n",
    "import os"
   ]
  },
  {
   "cell_type": "code",
   "execution_count": 24,
   "outputs": [],
   "source": [
    "train = pd.read_csv('./train.csv')\n",
    "test = pd.read_csv('./test.csv')\n",
    "df = pd.concat([train, test], axis=0)"
   ],
   "metadata": {
    "collapsed": false,
    "pycharm": {
     "name": "#%%\n"
    }
   }
  },
  {
   "cell_type": "code",
   "execution_count": 25,
   "outputs": [
    {
     "data": {
      "text/plain": "      row_id                 time  x  y direction  congestion\n0          0  1991-04-01 00:00:00  0  0        EB        70.0\n1          1  1991-04-01 00:00:00  0  0        NB        49.0\n2          2  1991-04-01 00:00:00  0  0        SB        24.0\n3          3  1991-04-01 00:00:00  0  1        EB        18.0\n4          4  1991-04-01 00:00:00  0  1        NB        60.0\n...      ...                  ... .. ..       ...         ...\n2335  851170  1991-09-30 23:40:00  2  3        NB         NaN\n2336  851171  1991-09-30 23:40:00  2  3        NE         NaN\n2337  851172  1991-09-30 23:40:00  2  3        SB         NaN\n2338  851173  1991-09-30 23:40:00  2  3        SW         NaN\n2339  851174  1991-09-30 23:40:00  2  3        WB         NaN\n\n[851175 rows x 6 columns]",
      "text/html": "<div>\n<style scoped>\n    .dataframe tbody tr th:only-of-type {\n        vertical-align: middle;\n    }\n\n    .dataframe tbody tr th {\n        vertical-align: top;\n    }\n\n    .dataframe thead th {\n        text-align: right;\n    }\n</style>\n<table border=\"1\" class=\"dataframe\">\n  <thead>\n    <tr style=\"text-align: right;\">\n      <th></th>\n      <th>row_id</th>\n      <th>time</th>\n      <th>x</th>\n      <th>y</th>\n      <th>direction</th>\n      <th>congestion</th>\n    </tr>\n  </thead>\n  <tbody>\n    <tr>\n      <th>0</th>\n      <td>0</td>\n      <td>1991-04-01 00:00:00</td>\n      <td>0</td>\n      <td>0</td>\n      <td>EB</td>\n      <td>70.0</td>\n    </tr>\n    <tr>\n      <th>1</th>\n      <td>1</td>\n      <td>1991-04-01 00:00:00</td>\n      <td>0</td>\n      <td>0</td>\n      <td>NB</td>\n      <td>49.0</td>\n    </tr>\n    <tr>\n      <th>2</th>\n      <td>2</td>\n      <td>1991-04-01 00:00:00</td>\n      <td>0</td>\n      <td>0</td>\n      <td>SB</td>\n      <td>24.0</td>\n    </tr>\n    <tr>\n      <th>3</th>\n      <td>3</td>\n      <td>1991-04-01 00:00:00</td>\n      <td>0</td>\n      <td>1</td>\n      <td>EB</td>\n      <td>18.0</td>\n    </tr>\n    <tr>\n      <th>4</th>\n      <td>4</td>\n      <td>1991-04-01 00:00:00</td>\n      <td>0</td>\n      <td>1</td>\n      <td>NB</td>\n      <td>60.0</td>\n    </tr>\n    <tr>\n      <th>...</th>\n      <td>...</td>\n      <td>...</td>\n      <td>...</td>\n      <td>...</td>\n      <td>...</td>\n      <td>...</td>\n    </tr>\n    <tr>\n      <th>2335</th>\n      <td>851170</td>\n      <td>1991-09-30 23:40:00</td>\n      <td>2</td>\n      <td>3</td>\n      <td>NB</td>\n      <td>NaN</td>\n    </tr>\n    <tr>\n      <th>2336</th>\n      <td>851171</td>\n      <td>1991-09-30 23:40:00</td>\n      <td>2</td>\n      <td>3</td>\n      <td>NE</td>\n      <td>NaN</td>\n    </tr>\n    <tr>\n      <th>2337</th>\n      <td>851172</td>\n      <td>1991-09-30 23:40:00</td>\n      <td>2</td>\n      <td>3</td>\n      <td>SB</td>\n      <td>NaN</td>\n    </tr>\n    <tr>\n      <th>2338</th>\n      <td>851173</td>\n      <td>1991-09-30 23:40:00</td>\n      <td>2</td>\n      <td>3</td>\n      <td>SW</td>\n      <td>NaN</td>\n    </tr>\n    <tr>\n      <th>2339</th>\n      <td>851174</td>\n      <td>1991-09-30 23:40:00</td>\n      <td>2</td>\n      <td>3</td>\n      <td>WB</td>\n      <td>NaN</td>\n    </tr>\n  </tbody>\n</table>\n<p>851175 rows × 6 columns</p>\n</div>"
     },
     "execution_count": 25,
     "metadata": {},
     "output_type": "execute_result"
    }
   ],
   "source": [
    "df"
   ],
   "metadata": {
    "collapsed": false,
    "pycharm": {
     "name": "#%%\n"
    }
   }
  },
  {
   "cell_type": "code",
   "execution_count": 26,
   "outputs": [
    {
     "data": {
      "text/plain": "row_id           0\ntime             0\nx                0\ny                0\ndirection        0\ncongestion    2340\ndtype: int64"
     },
     "execution_count": 26,
     "metadata": {},
     "output_type": "execute_result"
    }
   ],
   "source": [
    "df.isnull().sum()"
   ],
   "metadata": {
    "collapsed": false,
    "pycharm": {
     "name": "#%%\n"
    }
   }
  },
  {
   "cell_type": "code",
   "execution_count": 27,
   "outputs": [
    {
     "name": "stdout",
     "output_type": "stream",
     "text": [
      "[0 1 2] [0 1 2 3] ['EB' 'NB' 'SB' 'WB' 'NE' 'SW' 'NW' 'SE']\n"
     ]
    }
   ],
   "source": [
    "unique_x = df.x.unique()\n",
    "unique_y = df.y.unique()\n",
    "unique_direction = df.direction.unique()\n",
    "\n",
    "print(unique_x, unique_y, unique_direction)"
   ],
   "metadata": {
    "collapsed": false,
    "pycharm": {
     "name": "#%%\n"
    }
   }
  },
  {
   "cell_type": "code",
   "execution_count": 28,
   "outputs": [
    {
     "data": {
      "text/plain": "count    848835.000000\nmean         47.815305\nstd          16.799392\nmin           0.000000\n25%          35.000000\n50%          47.000000\n75%          60.000000\nmax         100.000000\nName: congestion, dtype: float64"
     },
     "execution_count": 28,
     "metadata": {},
     "output_type": "execute_result"
    }
   ],
   "source": [
    "df['congestion'].describe()"
   ],
   "metadata": {
    "collapsed": false,
    "pycharm": {
     "name": "#%%\n"
    }
   }
  },
  {
   "cell_type": "code",
   "execution_count": 29,
   "outputs": [],
   "source": [
    "df['DateTime'] = pd.to_datetime(df['time'])"
   ],
   "metadata": {
    "collapsed": false,
    "pycharm": {
     "name": "#%%\n"
    }
   }
  },
  {
   "cell_type": "code",
   "execution_count": 30,
   "outputs": [
    {
     "name": "stderr",
     "output_type": "stream",
     "text": [
      "C:\\Users\\tom65\\AppData\\Local\\Temp\\ipykernel_11012\\2335927070.py:11: FutureWarning: Series.dt.weekofyear and Series.dt.week have been deprecated.  Please use Series.dt.isocalendar().week instead.\n",
      "  df['weekofyear'] = df['date'].dt.weekofyear\n"
     ]
    }
   ],
   "source": [
    "df = df.set_index(df[\"DateTime\"])\n",
    "df['date'] = df.index\n",
    "dayofyear = df['date'].dt.dayofyear\n",
    "df['hour'] = df['date'].dt.hour\n",
    "df['day_of_week'] = df['date'].dt.dayofweek\n",
    "df['quarter'] = df['date'].dt.quarter\n",
    "df['year'] = df['date'].dt.year\n",
    "df['month'] = df['date'].dt.month\n",
    "df['dayofyear'] = df['date'].dt.dayofyear\n",
    "df['dayofmonth'] = df['date'].dt.day\n",
    "df['weekofyear'] = df['date'].dt.weekofyear\n",
    "df['minute'] = df[\"date\"].dt.minute\n",
    "df['afternoon'] = df['hour'] >= 12\n",
    "df['moment']  = df['date'].dt.hour * 3 + df['date'].dt.minute // 20\n",
    "is_weekend = np.where(df[\"day_of_week\"]>5,1,0)\n",
    "df[\"is_weekend\"] = is_weekend"
   ],
   "metadata": {
    "collapsed": false,
    "pycharm": {
     "name": "#%%\n"
    }
   }
  },
  {
   "cell_type": "code",
   "execution_count": 31,
   "outputs": [
    {
     "data": {
      "text/plain": "                     row_id                 time  x  y direction  congestion  \\\nDateTime                                                                       \n1991-04-01 00:00:00       0  1991-04-01 00:00:00  0  0        EB        70.0   \n1991-04-01 00:00:00       1  1991-04-01 00:00:00  0  0        NB        49.0   \n1991-04-01 00:00:00       2  1991-04-01 00:00:00  0  0        SB        24.0   \n1991-04-01 00:00:00       3  1991-04-01 00:00:00  0  1        EB        18.0   \n1991-04-01 00:00:00       4  1991-04-01 00:00:00  0  1        NB        60.0   \n...                     ...                  ... .. ..       ...         ...   \n1991-09-30 23:40:00  851170  1991-09-30 23:40:00  2  3        NB         NaN   \n1991-09-30 23:40:00  851171  1991-09-30 23:40:00  2  3        NE         NaN   \n1991-09-30 23:40:00  851172  1991-09-30 23:40:00  2  3        SB         NaN   \n1991-09-30 23:40:00  851173  1991-09-30 23:40:00  2  3        SW         NaN   \n1991-09-30 23:40:00  851174  1991-09-30 23:40:00  2  3        WB         NaN   \n\n                               DateTime                date  hour  \\\nDateTime                                                            \n1991-04-01 00:00:00 1991-04-01 00:00:00 1991-04-01 00:00:00     0   \n1991-04-01 00:00:00 1991-04-01 00:00:00 1991-04-01 00:00:00     0   \n1991-04-01 00:00:00 1991-04-01 00:00:00 1991-04-01 00:00:00     0   \n1991-04-01 00:00:00 1991-04-01 00:00:00 1991-04-01 00:00:00     0   \n1991-04-01 00:00:00 1991-04-01 00:00:00 1991-04-01 00:00:00     0   \n...                                 ...                 ...   ...   \n1991-09-30 23:40:00 1991-09-30 23:40:00 1991-09-30 23:40:00    23   \n1991-09-30 23:40:00 1991-09-30 23:40:00 1991-09-30 23:40:00    23   \n1991-09-30 23:40:00 1991-09-30 23:40:00 1991-09-30 23:40:00    23   \n1991-09-30 23:40:00 1991-09-30 23:40:00 1991-09-30 23:40:00    23   \n1991-09-30 23:40:00 1991-09-30 23:40:00 1991-09-30 23:40:00    23   \n\n                     day_of_week  quarter  year  month  dayofyear  dayofmonth  \\\nDateTime                                                                        \n1991-04-01 00:00:00            0        2  1991      4         91           1   \n1991-04-01 00:00:00            0        2  1991      4         91           1   \n1991-04-01 00:00:00            0        2  1991      4         91           1   \n1991-04-01 00:00:00            0        2  1991      4         91           1   \n1991-04-01 00:00:00            0        2  1991      4         91           1   \n...                          ...      ...   ...    ...        ...         ...   \n1991-09-30 23:40:00            0        3  1991      9        273          30   \n1991-09-30 23:40:00            0        3  1991      9        273          30   \n1991-09-30 23:40:00            0        3  1991      9        273          30   \n1991-09-30 23:40:00            0        3  1991      9        273          30   \n1991-09-30 23:40:00            0        3  1991      9        273          30   \n\n                     weekofyear  minute  afternoon  moment  is_weekend  \nDateTime                                                                \n1991-04-01 00:00:00          14       0      False       0           0  \n1991-04-01 00:00:00          14       0      False       0           0  \n1991-04-01 00:00:00          14       0      False       0           0  \n1991-04-01 00:00:00          14       0      False       0           0  \n1991-04-01 00:00:00          14       0      False       0           0  \n...                         ...     ...        ...     ...         ...  \n1991-09-30 23:40:00          40      40       True      71           0  \n1991-09-30 23:40:00          40      40       True      71           0  \n1991-09-30 23:40:00          40      40       True      71           0  \n1991-09-30 23:40:00          40      40       True      71           0  \n1991-09-30 23:40:00          40      40       True      71           0  \n\n[851175 rows x 20 columns]",
      "text/html": "<div>\n<style scoped>\n    .dataframe tbody tr th:only-of-type {\n        vertical-align: middle;\n    }\n\n    .dataframe tbody tr th {\n        vertical-align: top;\n    }\n\n    .dataframe thead th {\n        text-align: right;\n    }\n</style>\n<table border=\"1\" class=\"dataframe\">\n  <thead>\n    <tr style=\"text-align: right;\">\n      <th></th>\n      <th>row_id</th>\n      <th>time</th>\n      <th>x</th>\n      <th>y</th>\n      <th>direction</th>\n      <th>congestion</th>\n      <th>DateTime</th>\n      <th>date</th>\n      <th>hour</th>\n      <th>day_of_week</th>\n      <th>quarter</th>\n      <th>year</th>\n      <th>month</th>\n      <th>dayofyear</th>\n      <th>dayofmonth</th>\n      <th>weekofyear</th>\n      <th>minute</th>\n      <th>afternoon</th>\n      <th>moment</th>\n      <th>is_weekend</th>\n    </tr>\n    <tr>\n      <th>DateTime</th>\n      <th></th>\n      <th></th>\n      <th></th>\n      <th></th>\n      <th></th>\n      <th></th>\n      <th></th>\n      <th></th>\n      <th></th>\n      <th></th>\n      <th></th>\n      <th></th>\n      <th></th>\n      <th></th>\n      <th></th>\n      <th></th>\n      <th></th>\n      <th></th>\n      <th></th>\n      <th></th>\n    </tr>\n  </thead>\n  <tbody>\n    <tr>\n      <th>1991-04-01 00:00:00</th>\n      <td>0</td>\n      <td>1991-04-01 00:00:00</td>\n      <td>0</td>\n      <td>0</td>\n      <td>EB</td>\n      <td>70.0</td>\n      <td>1991-04-01 00:00:00</td>\n      <td>1991-04-01 00:00:00</td>\n      <td>0</td>\n      <td>0</td>\n      <td>2</td>\n      <td>1991</td>\n      <td>4</td>\n      <td>91</td>\n      <td>1</td>\n      <td>14</td>\n      <td>0</td>\n      <td>False</td>\n      <td>0</td>\n      <td>0</td>\n    </tr>\n    <tr>\n      <th>1991-04-01 00:00:00</th>\n      <td>1</td>\n      <td>1991-04-01 00:00:00</td>\n      <td>0</td>\n      <td>0</td>\n      <td>NB</td>\n      <td>49.0</td>\n      <td>1991-04-01 00:00:00</td>\n      <td>1991-04-01 00:00:00</td>\n      <td>0</td>\n      <td>0</td>\n      <td>2</td>\n      <td>1991</td>\n      <td>4</td>\n      <td>91</td>\n      <td>1</td>\n      <td>14</td>\n      <td>0</td>\n      <td>False</td>\n      <td>0</td>\n      <td>0</td>\n    </tr>\n    <tr>\n      <th>1991-04-01 00:00:00</th>\n      <td>2</td>\n      <td>1991-04-01 00:00:00</td>\n      <td>0</td>\n      <td>0</td>\n      <td>SB</td>\n      <td>24.0</td>\n      <td>1991-04-01 00:00:00</td>\n      <td>1991-04-01 00:00:00</td>\n      <td>0</td>\n      <td>0</td>\n      <td>2</td>\n      <td>1991</td>\n      <td>4</td>\n      <td>91</td>\n      <td>1</td>\n      <td>14</td>\n      <td>0</td>\n      <td>False</td>\n      <td>0</td>\n      <td>0</td>\n    </tr>\n    <tr>\n      <th>1991-04-01 00:00:00</th>\n      <td>3</td>\n      <td>1991-04-01 00:00:00</td>\n      <td>0</td>\n      <td>1</td>\n      <td>EB</td>\n      <td>18.0</td>\n      <td>1991-04-01 00:00:00</td>\n      <td>1991-04-01 00:00:00</td>\n      <td>0</td>\n      <td>0</td>\n      <td>2</td>\n      <td>1991</td>\n      <td>4</td>\n      <td>91</td>\n      <td>1</td>\n      <td>14</td>\n      <td>0</td>\n      <td>False</td>\n      <td>0</td>\n      <td>0</td>\n    </tr>\n    <tr>\n      <th>1991-04-01 00:00:00</th>\n      <td>4</td>\n      <td>1991-04-01 00:00:00</td>\n      <td>0</td>\n      <td>1</td>\n      <td>NB</td>\n      <td>60.0</td>\n      <td>1991-04-01 00:00:00</td>\n      <td>1991-04-01 00:00:00</td>\n      <td>0</td>\n      <td>0</td>\n      <td>2</td>\n      <td>1991</td>\n      <td>4</td>\n      <td>91</td>\n      <td>1</td>\n      <td>14</td>\n      <td>0</td>\n      <td>False</td>\n      <td>0</td>\n      <td>0</td>\n    </tr>\n    <tr>\n      <th>...</th>\n      <td>...</td>\n      <td>...</td>\n      <td>...</td>\n      <td>...</td>\n      <td>...</td>\n      <td>...</td>\n      <td>...</td>\n      <td>...</td>\n      <td>...</td>\n      <td>...</td>\n      <td>...</td>\n      <td>...</td>\n      <td>...</td>\n      <td>...</td>\n      <td>...</td>\n      <td>...</td>\n      <td>...</td>\n      <td>...</td>\n      <td>...</td>\n      <td>...</td>\n    </tr>\n    <tr>\n      <th>1991-09-30 23:40:00</th>\n      <td>851170</td>\n      <td>1991-09-30 23:40:00</td>\n      <td>2</td>\n      <td>3</td>\n      <td>NB</td>\n      <td>NaN</td>\n      <td>1991-09-30 23:40:00</td>\n      <td>1991-09-30 23:40:00</td>\n      <td>23</td>\n      <td>0</td>\n      <td>3</td>\n      <td>1991</td>\n      <td>9</td>\n      <td>273</td>\n      <td>30</td>\n      <td>40</td>\n      <td>40</td>\n      <td>True</td>\n      <td>71</td>\n      <td>0</td>\n    </tr>\n    <tr>\n      <th>1991-09-30 23:40:00</th>\n      <td>851171</td>\n      <td>1991-09-30 23:40:00</td>\n      <td>2</td>\n      <td>3</td>\n      <td>NE</td>\n      <td>NaN</td>\n      <td>1991-09-30 23:40:00</td>\n      <td>1991-09-30 23:40:00</td>\n      <td>23</td>\n      <td>0</td>\n      <td>3</td>\n      <td>1991</td>\n      <td>9</td>\n      <td>273</td>\n      <td>30</td>\n      <td>40</td>\n      <td>40</td>\n      <td>True</td>\n      <td>71</td>\n      <td>0</td>\n    </tr>\n    <tr>\n      <th>1991-09-30 23:40:00</th>\n      <td>851172</td>\n      <td>1991-09-30 23:40:00</td>\n      <td>2</td>\n      <td>3</td>\n      <td>SB</td>\n      <td>NaN</td>\n      <td>1991-09-30 23:40:00</td>\n      <td>1991-09-30 23:40:00</td>\n      <td>23</td>\n      <td>0</td>\n      <td>3</td>\n      <td>1991</td>\n      <td>9</td>\n      <td>273</td>\n      <td>30</td>\n      <td>40</td>\n      <td>40</td>\n      <td>True</td>\n      <td>71</td>\n      <td>0</td>\n    </tr>\n    <tr>\n      <th>1991-09-30 23:40:00</th>\n      <td>851173</td>\n      <td>1991-09-30 23:40:00</td>\n      <td>2</td>\n      <td>3</td>\n      <td>SW</td>\n      <td>NaN</td>\n      <td>1991-09-30 23:40:00</td>\n      <td>1991-09-30 23:40:00</td>\n      <td>23</td>\n      <td>0</td>\n      <td>3</td>\n      <td>1991</td>\n      <td>9</td>\n      <td>273</td>\n      <td>30</td>\n      <td>40</td>\n      <td>40</td>\n      <td>True</td>\n      <td>71</td>\n      <td>0</td>\n    </tr>\n    <tr>\n      <th>1991-09-30 23:40:00</th>\n      <td>851174</td>\n      <td>1991-09-30 23:40:00</td>\n      <td>2</td>\n      <td>3</td>\n      <td>WB</td>\n      <td>NaN</td>\n      <td>1991-09-30 23:40:00</td>\n      <td>1991-09-30 23:40:00</td>\n      <td>23</td>\n      <td>0</td>\n      <td>3</td>\n      <td>1991</td>\n      <td>9</td>\n      <td>273</td>\n      <td>30</td>\n      <td>40</td>\n      <td>40</td>\n      <td>True</td>\n      <td>71</td>\n      <td>0</td>\n    </tr>\n  </tbody>\n</table>\n<p>851175 rows × 20 columns</p>\n</div>"
     },
     "execution_count": 31,
     "metadata": {},
     "output_type": "execute_result"
    }
   ],
   "source": [
    "df"
   ],
   "metadata": {
    "collapsed": false,
    "pycharm": {
     "name": "#%%\n"
    }
   }
  },
  {
   "cell_type": "code",
   "execution_count": 33,
   "outputs": [],
   "source": [
    "df['roadway'] = df.x.astype(str) + df.y.astype(str) + df.direction.astype(str)\n",
    "keys = ['day_of_week', 'hour', 'minute', 'roadway']\n",
    "temp = df.groupby(by=keys).mean().reset_index().set_index(keys)\n",
    "temp['mean congestion'] = temp['congestion']\n",
    "df = df.merge(temp['mean congestion'], how = 'left', left_on=keys, right_on=keys)\n",
    "\n",
    "temp = df.groupby(by=keys).median().reset_index().set_index(keys)\n",
    "temp['median congestion'] = temp['congestion']\n",
    "df = df.merge(temp['median congestion'], how='left', left_on=keys, right_on=keys)\n",
    "\n",
    "temp = df.groupby(by=keys).min().reset_index().set_index(keys)\n",
    "temp['min congestion'] = temp['congestion']\n",
    "df = df.merge(temp['min congestion'], how='left', left_on=keys, right_on=keys)\n",
    "\n",
    "temp = df.groupby(by=keys).max().reset_index().set_index(keys)\n",
    "temp['max congestion'] = temp['congestion']\n",
    "df = df.merge(temp['max congestion'], how='left', left_on=keys, right_on=keys)"
   ],
   "metadata": {
    "collapsed": false,
    "pycharm": {
     "name": "#%%\n"
    }
   }
  },
  {
   "cell_type": "code",
   "execution_count": 36,
   "outputs": [],
   "source": [
    "df_mornings = df[((df.hour >= 6) & (df.hour < 12))]\n",
    "morning_avgs = pd.DataFrame(df_mornings.groupby(['month', 'dayofmonth', 'roadway']).congestion.median().astype(int)).reset_index()\n",
    "morning_avgs = morning_avgs.rename(columns={'congestion':'morning_avg'})\n",
    "df = df.merge(morning_avgs, on = ['month', 'dayofmonth', 'roadway'], how = 'left')\n",
    "\n",
    "for delta in range(1,8):\n",
    "    day = df.copy()\n",
    "    day['date'] = day['date'] + pd.Timedelta(delta, unit=\"d\")\n",
    "    name = f'lag_{delta}'\n",
    "    day = day.rename(columns={'congestion':name})[['date', 'roadway', name]]\n",
    "    df = df.merge(day, on=['date', 'roadway'], how='left')\n",
    "df=df.fillna(df[\"congestion\"].median())\n",
    "\n",
    "le = LabelEncoder()\n",
    "df['roadway'] = le.fit_transform(df['roadway'])\n",
    "df['afternoon'] = le.fit_transform(df['afternoon'])\n",
    "df['direction'] = le.fit_transform(df['direction'])"
   ],
   "metadata": {
    "collapsed": false,
    "pycharm": {
     "name": "#%%\n"
    }
   }
  },
  {
   "cell_type": "code",
   "execution_count": 38,
   "outputs": [
    {
     "name": "stdout",
     "output_type": "stream",
     "text": [
      "Empty DataFrame\n",
      "Columns: [row_id, time, x, y, direction, congestion]\n",
      "Index: []\n"
     ]
    }
   ],
   "source": [
    "#for outlier detection\n",
    "\n",
    "def detect_outliers(df, features):\n",
    "    outlier_indices = []\n",
    "\n",
    "    for c in features:\n",
    "        q1 = np.percentile(df[c],25)\n",
    "        q3 = np.percentile(df[c],75)\n",
    "        iqr = q3 - q1\n",
    "        outlier_step = iqr*1.5\n",
    "        outlier_list_col = df[(df[c]<q1-outlier_step)  | (df[c] > q1 + outlier_step)].index\n",
    "\n",
    "        outlier_indices.extend(outlier_list_col)\n",
    "\n",
    "    outlier_indices = Counter(outlier_indices)\n",
    "    multiple_outliers = list(i for i,v in outlier_indices.items() if v > 2)\n",
    "\n",
    "    return multiple_outliers\n",
    "\n",
    "\n",
    "print(train.loc[detect_outliers(train, ['congestion'])])"
   ],
   "metadata": {
    "collapsed": false,
    "pycharm": {
     "name": "#%%\n"
    }
   }
  },
  {
   "cell_type": "code",
   "execution_count": 39,
   "outputs": [
    {
     "data": {
      "text/plain": "        row_id                 time  x  y  direction  congestion  \\\n0            0  1991-04-01 00:00:00  0  0          0        70.0   \n1            1  1991-04-01 00:00:00  0  0          1        49.0   \n2            2  1991-04-01 00:00:00  0  0          4        24.0   \n3            3  1991-04-01 00:00:00  0  1          0        18.0   \n4            4  1991-04-01 00:00:00  0  1          1        60.0   \n...        ...                  ... .. ..        ...         ...   \n851170  851170  1991-09-30 23:40:00  2  3          1        47.0   \n851171  851171  1991-09-30 23:40:00  2  3          2        47.0   \n851172  851172  1991-09-30 23:40:00  2  3          4        47.0   \n851173  851173  1991-09-30 23:40:00  2  3          6        47.0   \n851174  851174  1991-09-30 23:40:00  2  3          7        47.0   \n\n                  DateTime                date  hour  day_of_week  ...  \\\n0      1991-04-01 00:00:00 1991-04-01 00:00:00     0            0  ...   \n1      1991-04-01 00:00:00 1991-04-01 00:00:00     0            0  ...   \n2      1991-04-01 00:00:00 1991-04-01 00:00:00     0            0  ...   \n3      1991-04-01 00:00:00 1991-04-01 00:00:00     0            0  ...   \n4      1991-04-01 00:00:00 1991-04-01 00:00:00     0            0  ...   \n...                    ...                 ...   ...          ...  ...   \n851170 1991-09-30 23:40:00 1991-09-30 23:40:00    23            0  ...   \n851171 1991-09-30 23:40:00 1991-09-30 23:40:00    23            0  ...   \n851172 1991-09-30 23:40:00 1991-09-30 23:40:00    23            0  ...   \n851173 1991-09-30 23:40:00 1991-09-30 23:40:00    23            0  ...   \n851174 1991-09-30 23:40:00 1991-09-30 23:40:00    23            0  ...   \n\n        min congestion  max congestion  morning_avg  lag_1  lag_2  lag_3  \\\n0                 30.0            80.0           45   47.0   47.0   47.0   \n1                 13.0            69.0           35   47.0   47.0   47.0   \n2                 21.0            91.0           47   47.0   47.0   47.0   \n3                  0.0            26.0           26   47.0   47.0   47.0   \n4                 52.0            72.0           69   47.0   47.0   47.0   \n...                ...             ...          ...    ...    ...    ...   \n851170            62.0            73.0           58   70.0   64.0   70.0   \n851171            18.0            77.0           31   25.0   26.0   25.0   \n851172            63.0            81.0           68   79.0   52.0   76.0   \n851173            11.0            42.0           20   11.0   33.0   33.0   \n851174             9.0            54.0           43   27.0   44.0   43.0   \n\n        lag_4  lag_5  lag_6  lag_7  \n0        47.0   47.0   47.0   47.0  \n1        47.0   47.0   47.0   47.0  \n2        47.0   47.0   47.0   47.0  \n3        47.0   47.0   47.0   47.0  \n4        47.0   47.0   47.0   47.0  \n...       ...    ...    ...    ...  \n851170   70.0   52.0   69.0   68.0  \n851171   50.0   28.0   18.0   18.0  \n851172   66.0   68.0   66.0   74.0  \n851173   11.0   11.0   11.0   11.0  \n851174   49.0   32.0   28.0   46.0  \n\n[851175 rows x 35 columns]",
      "text/html": "<div>\n<style scoped>\n    .dataframe tbody tr th:only-of-type {\n        vertical-align: middle;\n    }\n\n    .dataframe tbody tr th {\n        vertical-align: top;\n    }\n\n    .dataframe thead th {\n        text-align: right;\n    }\n</style>\n<table border=\"1\" class=\"dataframe\">\n  <thead>\n    <tr style=\"text-align: right;\">\n      <th></th>\n      <th>row_id</th>\n      <th>time</th>\n      <th>x</th>\n      <th>y</th>\n      <th>direction</th>\n      <th>congestion</th>\n      <th>DateTime</th>\n      <th>date</th>\n      <th>hour</th>\n      <th>day_of_week</th>\n      <th>...</th>\n      <th>min congestion</th>\n      <th>max congestion</th>\n      <th>morning_avg</th>\n      <th>lag_1</th>\n      <th>lag_2</th>\n      <th>lag_3</th>\n      <th>lag_4</th>\n      <th>lag_5</th>\n      <th>lag_6</th>\n      <th>lag_7</th>\n    </tr>\n  </thead>\n  <tbody>\n    <tr>\n      <th>0</th>\n      <td>0</td>\n      <td>1991-04-01 00:00:00</td>\n      <td>0</td>\n      <td>0</td>\n      <td>0</td>\n      <td>70.0</td>\n      <td>1991-04-01 00:00:00</td>\n      <td>1991-04-01 00:00:00</td>\n      <td>0</td>\n      <td>0</td>\n      <td>...</td>\n      <td>30.0</td>\n      <td>80.0</td>\n      <td>45</td>\n      <td>47.0</td>\n      <td>47.0</td>\n      <td>47.0</td>\n      <td>47.0</td>\n      <td>47.0</td>\n      <td>47.0</td>\n      <td>47.0</td>\n    </tr>\n    <tr>\n      <th>1</th>\n      <td>1</td>\n      <td>1991-04-01 00:00:00</td>\n      <td>0</td>\n      <td>0</td>\n      <td>1</td>\n      <td>49.0</td>\n      <td>1991-04-01 00:00:00</td>\n      <td>1991-04-01 00:00:00</td>\n      <td>0</td>\n      <td>0</td>\n      <td>...</td>\n      <td>13.0</td>\n      <td>69.0</td>\n      <td>35</td>\n      <td>47.0</td>\n      <td>47.0</td>\n      <td>47.0</td>\n      <td>47.0</td>\n      <td>47.0</td>\n      <td>47.0</td>\n      <td>47.0</td>\n    </tr>\n    <tr>\n      <th>2</th>\n      <td>2</td>\n      <td>1991-04-01 00:00:00</td>\n      <td>0</td>\n      <td>0</td>\n      <td>4</td>\n      <td>24.0</td>\n      <td>1991-04-01 00:00:00</td>\n      <td>1991-04-01 00:00:00</td>\n      <td>0</td>\n      <td>0</td>\n      <td>...</td>\n      <td>21.0</td>\n      <td>91.0</td>\n      <td>47</td>\n      <td>47.0</td>\n      <td>47.0</td>\n      <td>47.0</td>\n      <td>47.0</td>\n      <td>47.0</td>\n      <td>47.0</td>\n      <td>47.0</td>\n    </tr>\n    <tr>\n      <th>3</th>\n      <td>3</td>\n      <td>1991-04-01 00:00:00</td>\n      <td>0</td>\n      <td>1</td>\n      <td>0</td>\n      <td>18.0</td>\n      <td>1991-04-01 00:00:00</td>\n      <td>1991-04-01 00:00:00</td>\n      <td>0</td>\n      <td>0</td>\n      <td>...</td>\n      <td>0.0</td>\n      <td>26.0</td>\n      <td>26</td>\n      <td>47.0</td>\n      <td>47.0</td>\n      <td>47.0</td>\n      <td>47.0</td>\n      <td>47.0</td>\n      <td>47.0</td>\n      <td>47.0</td>\n    </tr>\n    <tr>\n      <th>4</th>\n      <td>4</td>\n      <td>1991-04-01 00:00:00</td>\n      <td>0</td>\n      <td>1</td>\n      <td>1</td>\n      <td>60.0</td>\n      <td>1991-04-01 00:00:00</td>\n      <td>1991-04-01 00:00:00</td>\n      <td>0</td>\n      <td>0</td>\n      <td>...</td>\n      <td>52.0</td>\n      <td>72.0</td>\n      <td>69</td>\n      <td>47.0</td>\n      <td>47.0</td>\n      <td>47.0</td>\n      <td>47.0</td>\n      <td>47.0</td>\n      <td>47.0</td>\n      <td>47.0</td>\n    </tr>\n    <tr>\n      <th>...</th>\n      <td>...</td>\n      <td>...</td>\n      <td>...</td>\n      <td>...</td>\n      <td>...</td>\n      <td>...</td>\n      <td>...</td>\n      <td>...</td>\n      <td>...</td>\n      <td>...</td>\n      <td>...</td>\n      <td>...</td>\n      <td>...</td>\n      <td>...</td>\n      <td>...</td>\n      <td>...</td>\n      <td>...</td>\n      <td>...</td>\n      <td>...</td>\n      <td>...</td>\n      <td>...</td>\n    </tr>\n    <tr>\n      <th>851170</th>\n      <td>851170</td>\n      <td>1991-09-30 23:40:00</td>\n      <td>2</td>\n      <td>3</td>\n      <td>1</td>\n      <td>47.0</td>\n      <td>1991-09-30 23:40:00</td>\n      <td>1991-09-30 23:40:00</td>\n      <td>23</td>\n      <td>0</td>\n      <td>...</td>\n      <td>62.0</td>\n      <td>73.0</td>\n      <td>58</td>\n      <td>70.0</td>\n      <td>64.0</td>\n      <td>70.0</td>\n      <td>70.0</td>\n      <td>52.0</td>\n      <td>69.0</td>\n      <td>68.0</td>\n    </tr>\n    <tr>\n      <th>851171</th>\n      <td>851171</td>\n      <td>1991-09-30 23:40:00</td>\n      <td>2</td>\n      <td>3</td>\n      <td>2</td>\n      <td>47.0</td>\n      <td>1991-09-30 23:40:00</td>\n      <td>1991-09-30 23:40:00</td>\n      <td>23</td>\n      <td>0</td>\n      <td>...</td>\n      <td>18.0</td>\n      <td>77.0</td>\n      <td>31</td>\n      <td>25.0</td>\n      <td>26.0</td>\n      <td>25.0</td>\n      <td>50.0</td>\n      <td>28.0</td>\n      <td>18.0</td>\n      <td>18.0</td>\n    </tr>\n    <tr>\n      <th>851172</th>\n      <td>851172</td>\n      <td>1991-09-30 23:40:00</td>\n      <td>2</td>\n      <td>3</td>\n      <td>4</td>\n      <td>47.0</td>\n      <td>1991-09-30 23:40:00</td>\n      <td>1991-09-30 23:40:00</td>\n      <td>23</td>\n      <td>0</td>\n      <td>...</td>\n      <td>63.0</td>\n      <td>81.0</td>\n      <td>68</td>\n      <td>79.0</td>\n      <td>52.0</td>\n      <td>76.0</td>\n      <td>66.0</td>\n      <td>68.0</td>\n      <td>66.0</td>\n      <td>74.0</td>\n    </tr>\n    <tr>\n      <th>851173</th>\n      <td>851173</td>\n      <td>1991-09-30 23:40:00</td>\n      <td>2</td>\n      <td>3</td>\n      <td>6</td>\n      <td>47.0</td>\n      <td>1991-09-30 23:40:00</td>\n      <td>1991-09-30 23:40:00</td>\n      <td>23</td>\n      <td>0</td>\n      <td>...</td>\n      <td>11.0</td>\n      <td>42.0</td>\n      <td>20</td>\n      <td>11.0</td>\n      <td>33.0</td>\n      <td>33.0</td>\n      <td>11.0</td>\n      <td>11.0</td>\n      <td>11.0</td>\n      <td>11.0</td>\n    </tr>\n    <tr>\n      <th>851174</th>\n      <td>851174</td>\n      <td>1991-09-30 23:40:00</td>\n      <td>2</td>\n      <td>3</td>\n      <td>7</td>\n      <td>47.0</td>\n      <td>1991-09-30 23:40:00</td>\n      <td>1991-09-30 23:40:00</td>\n      <td>23</td>\n      <td>0</td>\n      <td>...</td>\n      <td>9.0</td>\n      <td>54.0</td>\n      <td>43</td>\n      <td>27.0</td>\n      <td>44.0</td>\n      <td>43.0</td>\n      <td>49.0</td>\n      <td>32.0</td>\n      <td>28.0</td>\n      <td>46.0</td>\n    </tr>\n  </tbody>\n</table>\n<p>851175 rows × 35 columns</p>\n</div>"
     },
     "execution_count": 39,
     "metadata": {},
     "output_type": "execute_result"
    }
   ],
   "source": [
    "x_train = df[:len(train)]\n",
    "y_train = x_train['congestion']\n",
    "x_test = df[len(train):]\n",
    "\n",
    "df"
   ],
   "metadata": {
    "collapsed": false,
    "pycharm": {
     "name": "#%%\n"
    }
   }
  },
  {
   "cell_type": "code",
   "execution_count": 40,
   "outputs": [
    {
     "name": "stderr",
     "output_type": "stream",
     "text": [
      "C:\\Users\\tom65\\AppData\\Local\\Temp\\ipykernel_11012\\1409108595.py:1: FutureWarning: In a future version of pandas all arguments of DataFrame.drop except for the argument 'labels' will be keyword-only\n",
      "  x_train.drop(['time', 'DateTime', 'congestion', 'date', 'morning_avg'], 1, inplace=True)\n",
      "C:\\Users\\tom65\\anaconda3\\envs\\paper\\lib\\site-packages\\pandas\\core\\frame.py:4901: SettingWithCopyWarning: \n",
      "A value is trying to be set on a copy of a slice from a DataFrame\n",
      "\n",
      "See the caveats in the documentation: https://pandas.pydata.org/pandas-docs/stable/user_guide/indexing.html#returning-a-view-versus-a-copy\n",
      "  return super().drop(\n",
      "C:\\Users\\tom65\\AppData\\Local\\Temp\\ipykernel_11012\\1409108595.py:2: FutureWarning: In a future version of pandas all arguments of DataFrame.drop except for the argument 'labels' will be keyword-only\n",
      "  x_test.drop(['time', 'DateTime', 'congestion', 'date','morning_avg'], 1, inplace=True)\n"
     ]
    }
   ],
   "source": [
    "x_train.drop(['time', 'DateTime', 'congestion', 'date', 'morning_avg'], 1, inplace=True)\n",
    "x_test.drop(['time', 'DateTime', 'congestion', 'date','morning_avg'], 1, inplace=True)"
   ],
   "metadata": {
    "collapsed": false,
    "pycharm": {
     "name": "#%%\n"
    }
   }
  },
  {
   "cell_type": "code",
   "execution_count": 41,
   "outputs": [
    {
     "data": {
      "text/plain": "        row_id  x  y  direction  hour  day_of_week  quarter  year  month  \\\n0            0  0  0          0     0            0        2  1991      4   \n1            1  0  0          1     0            0        2  1991      4   \n2            2  0  0          4     0            0        2  1991      4   \n3            3  0  1          0     0            0        2  1991      4   \n4            4  0  1          1     0            0        2  1991      4   \n...        ... .. ..        ...   ...          ...      ...   ...    ...   \n848830  848830  2  3          1    11            0        3  1991      9   \n848831  848831  2  3          2    11            0        3  1991      9   \n848832  848832  2  3          4    11            0        3  1991      9   \n848833  848833  2  3          6    11            0        3  1991      9   \n848834  848834  2  3          7    11            0        3  1991      9   \n\n        dayofyear  ...  median congestion_y  min congestion  max congestion  \\\n0              91  ...                 35.0            30.0            80.0   \n1              91  ...                 29.0            13.0            69.0   \n2              91  ...                 24.0            21.0            91.0   \n3              91  ...                 17.0             0.0            26.0   \n4              91  ...                 63.0            52.0            72.0   \n...           ...  ...                  ...             ...             ...   \n848830        273  ...                 58.0            51.0            63.0   \n848831        273  ...                 26.0            24.0            31.0   \n848832        273  ...                 71.0            65.0            88.0   \n848833        273  ...                 20.0            13.0            60.0   \n848834        273  ...                 37.0            24.0            56.0   \n\n        lag_1  lag_2  lag_3  lag_4  lag_5  lag_6  lag_7  \n0        47.0   47.0   47.0   47.0   47.0   47.0   47.0  \n1        47.0   47.0   47.0   47.0   47.0   47.0   47.0  \n2        47.0   47.0   47.0   47.0   47.0   47.0   47.0  \n3        47.0   47.0   47.0   47.0   47.0   47.0   47.0  \n4        47.0   47.0   47.0   47.0   47.0   47.0   47.0  \n...       ...    ...    ...    ...    ...    ...    ...  \n848830   54.0   58.0   65.0   58.0   58.0   56.0   58.0  \n848831   20.0   30.0   31.0   19.0   26.0   39.0   27.0  \n848832   68.0   72.0   69.0   75.0   67.0   68.0   67.0  \n848833   12.0   17.0   15.0   18.0   14.0   10.0   29.0  \n848834   46.0   40.0   30.0   44.0   46.0   40.0   35.0  \n\n[848835 rows x 30 columns]",
      "text/html": "<div>\n<style scoped>\n    .dataframe tbody tr th:only-of-type {\n        vertical-align: middle;\n    }\n\n    .dataframe tbody tr th {\n        vertical-align: top;\n    }\n\n    .dataframe thead th {\n        text-align: right;\n    }\n</style>\n<table border=\"1\" class=\"dataframe\">\n  <thead>\n    <tr style=\"text-align: right;\">\n      <th></th>\n      <th>row_id</th>\n      <th>x</th>\n      <th>y</th>\n      <th>direction</th>\n      <th>hour</th>\n      <th>day_of_week</th>\n      <th>quarter</th>\n      <th>year</th>\n      <th>month</th>\n      <th>dayofyear</th>\n      <th>...</th>\n      <th>median congestion_y</th>\n      <th>min congestion</th>\n      <th>max congestion</th>\n      <th>lag_1</th>\n      <th>lag_2</th>\n      <th>lag_3</th>\n      <th>lag_4</th>\n      <th>lag_5</th>\n      <th>lag_6</th>\n      <th>lag_7</th>\n    </tr>\n  </thead>\n  <tbody>\n    <tr>\n      <th>0</th>\n      <td>0</td>\n      <td>0</td>\n      <td>0</td>\n      <td>0</td>\n      <td>0</td>\n      <td>0</td>\n      <td>2</td>\n      <td>1991</td>\n      <td>4</td>\n      <td>91</td>\n      <td>...</td>\n      <td>35.0</td>\n      <td>30.0</td>\n      <td>80.0</td>\n      <td>47.0</td>\n      <td>47.0</td>\n      <td>47.0</td>\n      <td>47.0</td>\n      <td>47.0</td>\n      <td>47.0</td>\n      <td>47.0</td>\n    </tr>\n    <tr>\n      <th>1</th>\n      <td>1</td>\n      <td>0</td>\n      <td>0</td>\n      <td>1</td>\n      <td>0</td>\n      <td>0</td>\n      <td>2</td>\n      <td>1991</td>\n      <td>4</td>\n      <td>91</td>\n      <td>...</td>\n      <td>29.0</td>\n      <td>13.0</td>\n      <td>69.0</td>\n      <td>47.0</td>\n      <td>47.0</td>\n      <td>47.0</td>\n      <td>47.0</td>\n      <td>47.0</td>\n      <td>47.0</td>\n      <td>47.0</td>\n    </tr>\n    <tr>\n      <th>2</th>\n      <td>2</td>\n      <td>0</td>\n      <td>0</td>\n      <td>4</td>\n      <td>0</td>\n      <td>0</td>\n      <td>2</td>\n      <td>1991</td>\n      <td>4</td>\n      <td>91</td>\n      <td>...</td>\n      <td>24.0</td>\n      <td>21.0</td>\n      <td>91.0</td>\n      <td>47.0</td>\n      <td>47.0</td>\n      <td>47.0</td>\n      <td>47.0</td>\n      <td>47.0</td>\n      <td>47.0</td>\n      <td>47.0</td>\n    </tr>\n    <tr>\n      <th>3</th>\n      <td>3</td>\n      <td>0</td>\n      <td>1</td>\n      <td>0</td>\n      <td>0</td>\n      <td>0</td>\n      <td>2</td>\n      <td>1991</td>\n      <td>4</td>\n      <td>91</td>\n      <td>...</td>\n      <td>17.0</td>\n      <td>0.0</td>\n      <td>26.0</td>\n      <td>47.0</td>\n      <td>47.0</td>\n      <td>47.0</td>\n      <td>47.0</td>\n      <td>47.0</td>\n      <td>47.0</td>\n      <td>47.0</td>\n    </tr>\n    <tr>\n      <th>4</th>\n      <td>4</td>\n      <td>0</td>\n      <td>1</td>\n      <td>1</td>\n      <td>0</td>\n      <td>0</td>\n      <td>2</td>\n      <td>1991</td>\n      <td>4</td>\n      <td>91</td>\n      <td>...</td>\n      <td>63.0</td>\n      <td>52.0</td>\n      <td>72.0</td>\n      <td>47.0</td>\n      <td>47.0</td>\n      <td>47.0</td>\n      <td>47.0</td>\n      <td>47.0</td>\n      <td>47.0</td>\n      <td>47.0</td>\n    </tr>\n    <tr>\n      <th>...</th>\n      <td>...</td>\n      <td>...</td>\n      <td>...</td>\n      <td>...</td>\n      <td>...</td>\n      <td>...</td>\n      <td>...</td>\n      <td>...</td>\n      <td>...</td>\n      <td>...</td>\n      <td>...</td>\n      <td>...</td>\n      <td>...</td>\n      <td>...</td>\n      <td>...</td>\n      <td>...</td>\n      <td>...</td>\n      <td>...</td>\n      <td>...</td>\n      <td>...</td>\n      <td>...</td>\n    </tr>\n    <tr>\n      <th>848830</th>\n      <td>848830</td>\n      <td>2</td>\n      <td>3</td>\n      <td>1</td>\n      <td>11</td>\n      <td>0</td>\n      <td>3</td>\n      <td>1991</td>\n      <td>9</td>\n      <td>273</td>\n      <td>...</td>\n      <td>58.0</td>\n      <td>51.0</td>\n      <td>63.0</td>\n      <td>54.0</td>\n      <td>58.0</td>\n      <td>65.0</td>\n      <td>58.0</td>\n      <td>58.0</td>\n      <td>56.0</td>\n      <td>58.0</td>\n    </tr>\n    <tr>\n      <th>848831</th>\n      <td>848831</td>\n      <td>2</td>\n      <td>3</td>\n      <td>2</td>\n      <td>11</td>\n      <td>0</td>\n      <td>3</td>\n      <td>1991</td>\n      <td>9</td>\n      <td>273</td>\n      <td>...</td>\n      <td>26.0</td>\n      <td>24.0</td>\n      <td>31.0</td>\n      <td>20.0</td>\n      <td>30.0</td>\n      <td>31.0</td>\n      <td>19.0</td>\n      <td>26.0</td>\n      <td>39.0</td>\n      <td>27.0</td>\n    </tr>\n    <tr>\n      <th>848832</th>\n      <td>848832</td>\n      <td>2</td>\n      <td>3</td>\n      <td>4</td>\n      <td>11</td>\n      <td>0</td>\n      <td>3</td>\n      <td>1991</td>\n      <td>9</td>\n      <td>273</td>\n      <td>...</td>\n      <td>71.0</td>\n      <td>65.0</td>\n      <td>88.0</td>\n      <td>68.0</td>\n      <td>72.0</td>\n      <td>69.0</td>\n      <td>75.0</td>\n      <td>67.0</td>\n      <td>68.0</td>\n      <td>67.0</td>\n    </tr>\n    <tr>\n      <th>848833</th>\n      <td>848833</td>\n      <td>2</td>\n      <td>3</td>\n      <td>6</td>\n      <td>11</td>\n      <td>0</td>\n      <td>3</td>\n      <td>1991</td>\n      <td>9</td>\n      <td>273</td>\n      <td>...</td>\n      <td>20.0</td>\n      <td>13.0</td>\n      <td>60.0</td>\n      <td>12.0</td>\n      <td>17.0</td>\n      <td>15.0</td>\n      <td>18.0</td>\n      <td>14.0</td>\n      <td>10.0</td>\n      <td>29.0</td>\n    </tr>\n    <tr>\n      <th>848834</th>\n      <td>848834</td>\n      <td>2</td>\n      <td>3</td>\n      <td>7</td>\n      <td>11</td>\n      <td>0</td>\n      <td>3</td>\n      <td>1991</td>\n      <td>9</td>\n      <td>273</td>\n      <td>...</td>\n      <td>37.0</td>\n      <td>24.0</td>\n      <td>56.0</td>\n      <td>46.0</td>\n      <td>40.0</td>\n      <td>30.0</td>\n      <td>44.0</td>\n      <td>46.0</td>\n      <td>40.0</td>\n      <td>35.0</td>\n    </tr>\n  </tbody>\n</table>\n<p>848835 rows × 30 columns</p>\n</div>"
     },
     "execution_count": 41,
     "metadata": {},
     "output_type": "execute_result"
    }
   ],
   "source": [
    "x_train"
   ],
   "metadata": {
    "collapsed": false,
    "pycharm": {
     "name": "#%%\n"
    }
   }
  },
  {
   "cell_type": "code",
   "execution_count": 43,
   "outputs": [
    {
     "name": "stderr",
     "output_type": "stream",
     "text": [
      "Custom logger is already specified. Specify more than one logger at same time is not thread safe."
     ]
    },
    {
     "name": "stdout",
     "output_type": "stream",
     "text": [
      "0:\tlearn: 13.7672734\ttotal: 1.6s\tremaining: 26m 40s\n",
      "999:\tlearn: 5.6663649\ttotal: 16m 36s\tremaining: 0us\n"
     ]
    }
   ],
   "source": [
    "model = CatBoostRegressor(verbose=1000, early_stopping_rounds = 10, random_state = 42, learning_rate=0.01, bagging_temperature=0.02, max_depth=16, random_strength=47, l2_leaf_reg = 7.459775961819184e-06, min_child_samples = 49, max_bin = 320, od_type = 'Iter',\n",
    "    task_type = 'CPU', loss_function = 'MAE', eval_metric = 'MAE'\n",
    ").fit(x_train, y_train)emaining: 26m 40s"
   ],
   "metadata": {
    "collapsed": false,
    "pycharm": {
     "name": "#%%\n"
    }
   }
  },
  {
   "cell_type": "code",
   "execution_count": null,
   "outputs": [],
   "source": [
    "prediction = model.predict(x_test)\n",
    "submission = pd.read_csv(\"../input/tabular-playground-series-mar-2022/sample_submission.csv\")\n",
    "submission[\"congestion\"] = prediction\n",
    "submission"
   ],
   "metadata": {
    "collapsed": false,
    "pycharm": {
     "name": "#%%\n"
    }
   }
  }
 ],
 "metadata": {
  "kernelspec": {
   "display_name": "Python 3",
   "language": "python",
   "name": "python3"
  },
  "language_info": {
   "codemirror_mode": {
    "name": "ipython",
    "version": 2
   },
   "file_extension": ".py",
   "mimetype": "text/x-python",
   "name": "python",
   "nbconvert_exporter": "python",
   "pygments_lexer": "ipython2",
   "version": "2.7.6"
  }
 },
 "nbformat": 4,
 "nbformat_minor": 0
}