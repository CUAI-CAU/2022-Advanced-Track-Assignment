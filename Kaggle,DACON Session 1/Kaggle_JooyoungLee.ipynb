{
  "metadata": {
    "kernelspec": {
      "language": "python",
      "display_name": "Python 3",
      "name": "python3"
    },
    "language_info": {
      "name": "python",
      "version": "3.7.12",
      "mimetype": "text/x-python",
      "codemirror_mode": {
        "name": "ipython",
        "version": 3
      },
      "pygments_lexer": "ipython3",
      "nbconvert_exporter": "python",
      "file_extension": ".py"
    },
    "colab": {
      "name": "Kaggle_JooyoungLee.ipynb",
      "provenance": []
    }
  },
  "nbformat_minor": 0,
  "nbformat": 4,
  "cells": [
    {
      "cell_type": "code",
      "source": [
        "import os\n",
        "import numpy as np\n",
        "import pandas as pd\n",
        "import matplotlib.pyplot as plt\n",
        "import seaborn as sns\n",
        "import cv2\n",
        "\n",
        "import torch\n",
        "import torch.nn as nn\n",
        "import torchvision\n",
        "from torchvision import transforms\n",
        "from torchvision.models import vgg16\n",
        "from torch.utils.data import Dataset, DataLoader\n",
        "\n",
        "from tqdm import tqdm"
      ],
      "metadata": {
        "_uuid": "8f2839f25d086af736a60e9eeb907d3b93b6e0e5",
        "_cell_guid": "b1076dfc-b9ad-4769-8c92-a6c4dae69d19",
        "execution": {
          "iopub.status.busy": "2022-04-11T02:09:25.210503Z",
          "iopub.execute_input": "2022-04-11T02:09:25.211017Z",
          "iopub.status.idle": "2022-04-11T02:09:28.131189Z",
          "shell.execute_reply.started": "2022-04-11T02:09:25.210922Z",
          "shell.execute_reply": "2022-04-11T02:09:28.130241Z"
        },
        "trusted": true,
        "id": "f4HNQCWgeK67"
      },
      "execution_count": null,
      "outputs": []
    },
    {
      "cell_type": "code",
      "source": [
        "train_csv_path = '../input/happy-whale-and-dolphin/train.csv'\n",
        "train_df = pd.read_csv(train_csv_path)\n",
        "train_df.head()"
      ],
      "metadata": {
        "execution": {
          "iopub.status.busy": "2022-04-11T02:09:28.132772Z",
          "iopub.execute_input": "2022-04-11T02:09:28.133015Z",
          "iopub.status.idle": "2022-04-11T02:09:28.230361Z",
          "shell.execute_reply.started": "2022-04-11T02:09:28.132980Z",
          "shell.execute_reply": "2022-04-11T02:09:28.229697Z"
        },
        "trusted": true,
        "id": "DOv4Jvm3eK6-",
        "outputId": "39948776-ffd9-45d1-e132-9598ab6be055"
      },
      "execution_count": null,
      "outputs": [
        {
          "execution_count": 2,
          "output_type": "execute_result",
          "data": {
            "text/plain": "                image             species individual_id\n0  00021adfb725ed.jpg  melon_headed_whale  cadddb1636b9\n1  000562241d384d.jpg      humpback_whale  1a71fbb72250\n2  0007c33415ce37.jpg  false_killer_whale  60008f293a2b\n3  0007d9bca26a99.jpg  bottlenose_dolphin  4b00fe572063\n4  00087baf5cef7a.jpg      humpback_whale  8e5253662392",
            "text/html": "<div>\n<style scoped>\n    .dataframe tbody tr th:only-of-type {\n        vertical-align: middle;\n    }\n\n    .dataframe tbody tr th {\n        vertical-align: top;\n    }\n\n    .dataframe thead th {\n        text-align: right;\n    }\n</style>\n<table border=\"1\" class=\"dataframe\">\n  <thead>\n    <tr style=\"text-align: right;\">\n      <th></th>\n      <th>image</th>\n      <th>species</th>\n      <th>individual_id</th>\n    </tr>\n  </thead>\n  <tbody>\n    <tr>\n      <th>0</th>\n      <td>00021adfb725ed.jpg</td>\n      <td>melon_headed_whale</td>\n      <td>cadddb1636b9</td>\n    </tr>\n    <tr>\n      <th>1</th>\n      <td>000562241d384d.jpg</td>\n      <td>humpback_whale</td>\n      <td>1a71fbb72250</td>\n    </tr>\n    <tr>\n      <th>2</th>\n      <td>0007c33415ce37.jpg</td>\n      <td>false_killer_whale</td>\n      <td>60008f293a2b</td>\n    </tr>\n    <tr>\n      <th>3</th>\n      <td>0007d9bca26a99.jpg</td>\n      <td>bottlenose_dolphin</td>\n      <td>4b00fe572063</td>\n    </tr>\n    <tr>\n      <th>4</th>\n      <td>00087baf5cef7a.jpg</td>\n      <td>humpback_whale</td>\n      <td>8e5253662392</td>\n    </tr>\n  </tbody>\n</table>\n</div>"
          },
          "metadata": {}
        }
      ]
    },
    {
      "cell_type": "code",
      "source": [
        "train_df.describe()"
      ],
      "metadata": {
        "execution": {
          "iopub.status.busy": "2022-04-11T02:09:28.236655Z",
          "iopub.execute_input": "2022-04-11T02:09:28.237156Z",
          "iopub.status.idle": "2022-04-11T02:09:28.364602Z",
          "shell.execute_reply.started": "2022-04-11T02:09:28.237118Z",
          "shell.execute_reply": "2022-04-11T02:09:28.363565Z"
        },
        "trusted": true,
        "id": "pH3PO-wjeK7B",
        "outputId": "88be7faf-1b2d-4417-f725-0ab3bc8816bf"
      },
      "execution_count": null,
      "outputs": [
        {
          "execution_count": 3,
          "output_type": "execute_result",
          "data": {
            "text/plain": "                     image             species individual_id\ncount                51033               51033         51033\nunique               51033                  30         15587\ntop     00021adfb725ed.jpg  bottlenose_dolphin  37c7aba965a5\nfreq                     1                9664           400",
            "text/html": "<div>\n<style scoped>\n    .dataframe tbody tr th:only-of-type {\n        vertical-align: middle;\n    }\n\n    .dataframe tbody tr th {\n        vertical-align: top;\n    }\n\n    .dataframe thead th {\n        text-align: right;\n    }\n</style>\n<table border=\"1\" class=\"dataframe\">\n  <thead>\n    <tr style=\"text-align: right;\">\n      <th></th>\n      <th>image</th>\n      <th>species</th>\n      <th>individual_id</th>\n    </tr>\n  </thead>\n  <tbody>\n    <tr>\n      <th>count</th>\n      <td>51033</td>\n      <td>51033</td>\n      <td>51033</td>\n    </tr>\n    <tr>\n      <th>unique</th>\n      <td>51033</td>\n      <td>30</td>\n      <td>15587</td>\n    </tr>\n    <tr>\n      <th>top</th>\n      <td>00021adfb725ed.jpg</td>\n      <td>bottlenose_dolphin</td>\n      <td>37c7aba965a5</td>\n    </tr>\n    <tr>\n      <th>freq</th>\n      <td>1</td>\n      <td>9664</td>\n      <td>400</td>\n    </tr>\n  </tbody>\n</table>\n</div>"
          },
          "metadata": {}
        }
      ]
    },
    {
      "cell_type": "code",
      "source": [
        "train_df.dtypes"
      ],
      "metadata": {
        "execution": {
          "iopub.status.busy": "2022-04-11T02:09:28.367618Z",
          "iopub.execute_input": "2022-04-11T02:09:28.368045Z",
          "iopub.status.idle": "2022-04-11T02:09:28.374650Z",
          "shell.execute_reply.started": "2022-04-11T02:09:28.368006Z",
          "shell.execute_reply": "2022-04-11T02:09:28.373836Z"
        },
        "trusted": true,
        "id": "QaqBZqE-eK7C",
        "outputId": "ad7139f6-aead-48ac-d14c-2c3098a4baf1"
      },
      "execution_count": null,
      "outputs": [
        {
          "execution_count": 4,
          "output_type": "execute_result",
          "data": {
            "text/plain": "image            object\nspecies          object\nindividual_id    object\ndtype: object"
          },
          "metadata": {}
        }
      ]
    },
    {
      "cell_type": "code",
      "source": [
        "# Get unique species\n",
        "unique_species = train_df.species.unique()\n",
        "unique_species"
      ],
      "metadata": {
        "execution": {
          "iopub.status.busy": "2022-04-11T02:09:28.376079Z",
          "iopub.execute_input": "2022-04-11T02:09:28.376356Z",
          "iopub.status.idle": "2022-04-11T02:09:28.393283Z",
          "shell.execute_reply.started": "2022-04-11T02:09:28.376314Z",
          "shell.execute_reply": "2022-04-11T02:09:28.392620Z"
        },
        "trusted": true,
        "id": "fMBCRsejeK7C",
        "outputId": "be06d7bf-eec7-44e3-c1c9-35e5f080a2ac"
      },
      "execution_count": null,
      "outputs": [
        {
          "execution_count": 5,
          "output_type": "execute_result",
          "data": {
            "text/plain": "array(['melon_headed_whale', 'humpback_whale', 'false_killer_whale',\n       'bottlenose_dolphin', 'beluga', 'minke_whale', 'fin_whale',\n       'blue_whale', 'gray_whale', 'southern_right_whale',\n       'common_dolphin', 'kiler_whale', 'pilot_whale', 'dusky_dolphin',\n       'killer_whale', 'long_finned_pilot_whale', 'sei_whale',\n       'spinner_dolphin', 'bottlenose_dolpin', 'cuviers_beaked_whale',\n       'spotted_dolphin', 'globis', 'brydes_whale', 'commersons_dolphin',\n       'white_sided_dolphin', 'short_finned_pilot_whale',\n       'rough_toothed_dolphin', 'pantropic_spotted_dolphin',\n       'pygmy_killer_whale', 'frasiers_dolphin'], dtype=object)"
          },
          "metadata": {}
        }
      ]
    },
    {
      "cell_type": "code",
      "source": [
        "# Let's see the distribution of each species\n",
        "sns.countplot(train_df.species)\n",
        "plt.xticks(rotation=90)"
      ],
      "metadata": {
        "execution": {
          "iopub.status.busy": "2022-04-11T02:09:28.394461Z",
          "iopub.execute_input": "2022-04-11T02:09:28.395969Z",
          "iopub.status.idle": "2022-04-11T02:09:28.892380Z",
          "shell.execute_reply.started": "2022-04-11T02:09:28.395929Z",
          "shell.execute_reply": "2022-04-11T02:09:28.891747Z"
        },
        "trusted": true,
        "id": "tcNy5CbQeK7D",
        "outputId": "b05bfcbb-48e0-4c85-d1a7-0d03d4cbcb94"
      },
      "execution_count": null,
      "outputs": [
        {
          "name": "stderr",
          "text": "/opt/conda/lib/python3.7/site-packages/seaborn/_decorators.py:43: FutureWarning: Pass the following variable as a keyword arg: x. From version 0.12, the only valid positional argument will be `data`, and passing other arguments without an explicit keyword will result in an error or misinterpretation.\n  FutureWarning\n",
          "output_type": "stream"
        },
        {
          "execution_count": 6,
          "output_type": "execute_result",
          "data": {
            "text/plain": "(array([ 0,  1,  2,  3,  4,  5,  6,  7,  8,  9, 10, 11, 12, 13, 14, 15, 16,\n        17, 18, 19, 20, 21, 22, 23, 24, 25, 26, 27, 28, 29]),\n [Text(0, 0, 'melon_headed_whale'),\n  Text(1, 0, 'humpback_whale'),\n  Text(2, 0, 'false_killer_whale'),\n  Text(3, 0, 'bottlenose_dolphin'),\n  Text(4, 0, 'beluga'),\n  Text(5, 0, 'minke_whale'),\n  Text(6, 0, 'fin_whale'),\n  Text(7, 0, 'blue_whale'),\n  Text(8, 0, 'gray_whale'),\n  Text(9, 0, 'southern_right_whale'),\n  Text(10, 0, 'common_dolphin'),\n  Text(11, 0, 'kiler_whale'),\n  Text(12, 0, 'pilot_whale'),\n  Text(13, 0, 'dusky_dolphin'),\n  Text(14, 0, 'killer_whale'),\n  Text(15, 0, 'long_finned_pilot_whale'),\n  Text(16, 0, 'sei_whale'),\n  Text(17, 0, 'spinner_dolphin'),\n  Text(18, 0, 'bottlenose_dolpin'),\n  Text(19, 0, 'cuviers_beaked_whale'),\n  Text(20, 0, 'spotted_dolphin'),\n  Text(21, 0, 'globis'),\n  Text(22, 0, 'brydes_whale'),\n  Text(23, 0, 'commersons_dolphin'),\n  Text(24, 0, 'white_sided_dolphin'),\n  Text(25, 0, 'short_finned_pilot_whale'),\n  Text(26, 0, 'rough_toothed_dolphin'),\n  Text(27, 0, 'pantropic_spotted_dolphin'),\n  Text(28, 0, 'pygmy_killer_whale'),\n  Text(29, 0, 'frasiers_dolphin')])"
          },
          "metadata": {}
        },
        {
          "output_type": "display_data",
          "data": {
            "text/plain": "<Figure size 432x288 with 1 Axes>",
            "image/png": "[encoded data removed]"
          },
          "metadata": {
            "needs_background": "light"
          }
        }
      ]
    },
    {
      "cell_type": "markdown",
      "source": [
        "## Custom Dataset"
      ],
      "metadata": {
        "id": "W_nUSK35eK7E"
      }
    },
    {
      "cell_type": "code",
      "source": [
        "class CustomDataset(Dataset):\n",
        "    def __init__(self, root_dir, df, label_to_id, transform):\n",
        "        self.root_dir = root_dir\n",
        "        self.df = df\n",
        "        self.label_to_id = label_to_id\n",
        "        self.transform = transform\n",
        "    \n",
        "    def __len__(self):\n",
        "        return len(self.df)\n",
        "    \n",
        "    def __getitem__(self, index):\n",
        "        image_path = os.path.join(self.root_dir, self.df.iloc[index, 0])\n",
        "        image = cv2.imread(image_path, cv2.IMREAD_COLOR)\n",
        "        image = cv2.cvtColor(image, cv2.COLOR_BGR2RGB)\n",
        "        \n",
        "        label = self.df.iloc[index, 2]\n",
        "        target = self.label_to_id[label]\n",
        "        \n",
        "        image = self.transform(image)\n",
        "        return image, torch.tensor(target)"
      ],
      "metadata": {
        "execution": {
          "iopub.status.busy": "2022-04-11T02:09:28.893429Z",
          "iopub.execute_input": "2022-04-11T02:09:28.893837Z",
          "iopub.status.idle": "2022-04-11T02:09:28.902236Z",
          "shell.execute_reply.started": "2022-04-11T02:09:28.893798Z",
          "shell.execute_reply": "2022-04-11T02:09:28.901455Z"
        },
        "trusted": true,
        "id": "GA0g3LxyeK7E"
      },
      "execution_count": null,
      "outputs": []
    },
    {
      "cell_type": "code",
      "source": [
        "train_transforms = transforms.Compose([transforms.ToPILImage(),\n",
        "                                       transforms.Resize((56,56)),\n",
        "                                       transforms.RandomHorizontalFlip(),\n",
        "                                       transforms.ToTensor(),\n",
        "                                       transforms.Normalize([0.5,0.5,0.5],\n",
        "                                                            [0.5,0.5,0.5])])"
      ],
      "metadata": {
        "execution": {
          "iopub.status.busy": "2022-04-11T02:09:28.904336Z",
          "iopub.execute_input": "2022-04-11T02:09:28.904854Z",
          "iopub.status.idle": "2022-04-11T02:09:28.912370Z",
          "shell.execute_reply.started": "2022-04-11T02:09:28.904818Z",
          "shell.execute_reply": "2022-04-11T02:09:28.911638Z"
        },
        "trusted": true,
        "id": "094mu4TZeK7F"
      },
      "execution_count": null,
      "outputs": []
    },
    {
      "cell_type": "code",
      "source": [
        "unique_individual_ids = train_df.individual_id.unique()\n",
        "unique_individual_ids"
      ],
      "metadata": {
        "execution": {
          "iopub.status.busy": "2022-04-11T02:09:28.916757Z",
          "iopub.execute_input": "2022-04-11T02:09:28.917020Z",
          "iopub.status.idle": "2022-04-11T02:09:28.929790Z",
          "shell.execute_reply.started": "2022-04-11T02:09:28.916992Z",
          "shell.execute_reply": "2022-04-11T02:09:28.928885Z"
        },
        "trusted": true,
        "id": "Lbk_GeiCeK7G",
        "outputId": "2f6c021b-252d-4c38-ea86-d727fd5ed885"
      },
      "execution_count": null,
      "outputs": [
        {
          "execution_count": 9,
          "output_type": "execute_result",
          "data": {
            "text/plain": "array(['cadddb1636b9', '1a71fbb72250', '60008f293a2b', ...,\n       '3509cb6a8504', 'e880e47c06a4', 'bc6fcab946c4'], dtype=object)"
          },
          "metadata": {}
        }
      ]
    },
    {
      "cell_type": "code",
      "source": [
        "label_to_id = {}\n",
        "id_to_label = {}\n",
        "idx = 0\n",
        "for label in unique_individual_ids:\n",
        "    label_to_id[label] = idx\n",
        "    id_to_label[idx] = label\n",
        "    idx += 1"
      ],
      "metadata": {
        "execution": {
          "iopub.status.busy": "2022-04-11T02:09:28.931340Z",
          "iopub.execute_input": "2022-04-11T02:09:28.931635Z",
          "iopub.status.idle": "2022-04-11T02:09:28.943745Z",
          "shell.execute_reply.started": "2022-04-11T02:09:28.931596Z",
          "shell.execute_reply": "2022-04-11T02:09:28.943050Z"
        },
        "trusted": true,
        "id": "3kSQIQmaeK7H"
      },
      "execution_count": null,
      "outputs": []
    },
    {
      "cell_type": "code",
      "source": [
        "root_dir = '../input/happy-whale-and-dolphin/train_images'\n",
        "\n",
        "dataset = CustomDataset(root_dir,\n",
        "                        train_df,\n",
        "                        label_to_id,\n",
        "                        train_transforms)\n",
        "\n",
        "train_loader = DataLoader(dataset, batch_size=32, shuffle=True)"
      ],
      "metadata": {
        "execution": {
          "iopub.status.busy": "2022-04-11T02:09:28.945922Z",
          "iopub.execute_input": "2022-04-11T02:09:28.946169Z",
          "iopub.status.idle": "2022-04-11T02:09:28.953313Z",
          "shell.execute_reply.started": "2022-04-11T02:09:28.946143Z",
          "shell.execute_reply": "2022-04-11T02:09:28.952540Z"
        },
        "trusted": true,
        "id": "M5z67ok1eK7H"
      },
      "execution_count": null,
      "outputs": []
    },
    {
      "cell_type": "code",
      "source": [
        "model = vgg16(pretrained=True)"
      ],
      "metadata": {
        "execution": {
          "iopub.status.busy": "2022-04-11T02:09:28.954833Z",
          "iopub.execute_input": "2022-04-11T02:09:28.955112Z",
          "iopub.status.idle": "2022-04-11T02:10:09.418840Z",
          "shell.execute_reply.started": "2022-04-11T02:09:28.955076Z",
          "shell.execute_reply": "2022-04-11T02:10:09.418088Z"
        },
        "trusted": true,
        "colab": {
          "referenced_widgets": [
            "62b2c90d5621476f91cdce458f572d38"
          ]
        },
        "id": "hJr72RwXeK7J",
        "outputId": "3a4ee735-5cdb-489a-df60-4687923abfbc"
      },
      "execution_count": null,
      "outputs": [
        {
          "name": "stderr",
          "text": "Downloading: \"https://download.pytorch.org/models/vgg16-397923af.pth\" to /root/.cache/torch/hub/checkpoints/vgg16-397923af.pth\n",
          "output_type": "stream"
        },
        {
          "output_type": "display_data",
          "data": {
            "text/plain": "  0%|          | 0.00/528M [00:00<?, ?B/s]",
            "application/vnd.jupyter.widget-view+json": {
              "version_major": 2,
              "version_minor": 0,
              "model_id": "62b2c90d5621476f91cdce458f572d38"
            }
          },
          "metadata": {}
        }
      ]
    },
    {
      "cell_type": "code",
      "source": [
        "model"
      ],
      "metadata": {
        "execution": {
          "iopub.status.busy": "2022-04-11T02:10:09.420220Z",
          "iopub.execute_input": "2022-04-11T02:10:09.420466Z",
          "iopub.status.idle": "2022-04-11T02:10:09.428295Z",
          "shell.execute_reply.started": "2022-04-11T02:10:09.420432Z",
          "shell.execute_reply": "2022-04-11T02:10:09.427545Z"
        },
        "trusted": true,
        "id": "rK7tBJ1jeK7K",
        "outputId": "02aabea1-406e-46f1-a174-be4789a28561"
      },
      "execution_count": null,
      "outputs": [
        {
          "execution_count": 13,
          "output_type": "execute_result",
          "data": {
            "text/plain": "VGG(\n  (features): Sequential(\n    (0): Conv2d(3, 64, kernel_size=(3, 3), stride=(1, 1), padding=(1, 1))\n    (1): ReLU(inplace=True)\n    (2): Conv2d(64, 64, kernel_size=(3, 3), stride=(1, 1), padding=(1, 1))\n    (3): ReLU(inplace=True)\n    (4): MaxPool2d(kernel_size=2, stride=2, padding=0, dilation=1, ceil_mode=False)\n    (5): Conv2d(64, 128, kernel_size=(3, 3), stride=(1, 1), padding=(1, 1))\n    (6): ReLU(inplace=True)\n    (7): Conv2d(128, 128, kernel_size=(3, 3), stride=(1, 1), padding=(1, 1))\n    (8): ReLU(inplace=True)\n    (9): MaxPool2d(kernel_size=2, stride=2, padding=0, dilation=1, ceil_mode=False)\n    (10): Conv2d(128, 256, kernel_size=(3, 3), stride=(1, 1), padding=(1, 1))\n    (11): ReLU(inplace=True)\n    (12): Conv2d(256, 256, kernel_size=(3, 3), stride=(1, 1), padding=(1, 1))\n    (13): ReLU(inplace=True)\n    (14): Conv2d(256, 256, kernel_size=(3, 3), stride=(1, 1), padding=(1, 1))\n    (15): ReLU(inplace=True)\n    (16): MaxPool2d(kernel_size=2, stride=2, padding=0, dilation=1, ceil_mode=False)\n    (17): Conv2d(256, 512, kernel_size=(3, 3), stride=(1, 1), padding=(1, 1))\n    (18): ReLU(inplace=True)\n    (19): Conv2d(512, 512, kernel_size=(3, 3), stride=(1, 1), padding=(1, 1))\n    (20): ReLU(inplace=True)\n    (21): Conv2d(512, 512, kernel_size=(3, 3), stride=(1, 1), padding=(1, 1))\n    (22): ReLU(inplace=True)\n    (23): MaxPool2d(kernel_size=2, stride=2, padding=0, dilation=1, ceil_mode=False)\n    (24): Conv2d(512, 512, kernel_size=(3, 3), stride=(1, 1), padding=(1, 1))\n    (25): ReLU(inplace=True)\n    (26): Conv2d(512, 512, kernel_size=(3, 3), stride=(1, 1), padding=(1, 1))\n    (27): ReLU(inplace=True)\n    (28): Conv2d(512, 512, kernel_size=(3, 3), stride=(1, 1), padding=(1, 1))\n    (29): ReLU(inplace=True)\n    (30): MaxPool2d(kernel_size=2, stride=2, padding=0, dilation=1, ceil_mode=False)\n  )\n  (avgpool): AdaptiveAvgPool2d(output_size=(7, 7))\n  (classifier): Sequential(\n    (0): Linear(in_features=25088, out_features=4096, bias=True)\n    (1): ReLU(inplace=True)\n    (2): Dropout(p=0.5, inplace=False)\n    (3): Linear(in_features=4096, out_features=4096, bias=True)\n    (4): ReLU(inplace=True)\n    (5): Dropout(p=0.5, inplace=False)\n    (6): Linear(in_features=4096, out_features=1000, bias=True)\n  )\n)"
          },
          "metadata": {}
        }
      ]
    },
    {
      "cell_type": "code",
      "source": [
        "model.classifier = nn.Sequential(\n",
        "    nn.Linear(25088, 4096),\n",
        "    nn.ReLU(),\n",
        "    nn.Dropout(),\n",
        "    nn.Linear(4096, len(label_to_id))\n",
        ")"
      ],
      "metadata": {
        "execution": {
          "iopub.status.busy": "2022-04-11T02:10:09.429585Z",
          "iopub.execute_input": "2022-04-11T02:10:09.430009Z",
          "iopub.status.idle": "2022-04-11T02:10:11.033017Z",
          "shell.execute_reply.started": "2022-04-11T02:10:09.429967Z",
          "shell.execute_reply": "2022-04-11T02:10:11.031868Z"
        },
        "trusted": true,
        "id": "_GdByQaXeK7L"
      },
      "execution_count": null,
      "outputs": []
    },
    {
      "cell_type": "code",
      "source": [
        "for name, param in model.named_parameters():\n",
        "    if 'classifier' not in name:\n",
        "        param.requires_grad = False"
      ],
      "metadata": {
        "execution": {
          "iopub.status.busy": "2022-04-11T02:10:11.037731Z",
          "iopub.execute_input": "2022-04-11T02:10:11.039835Z",
          "iopub.status.idle": "2022-04-11T02:10:11.046910Z",
          "shell.execute_reply.started": "2022-04-11T02:10:11.039788Z",
          "shell.execute_reply": "2022-04-11T02:10:11.046220Z"
        },
        "trusted": true,
        "id": "BrC9RS7HeK7L"
      },
      "execution_count": null,
      "outputs": []
    },
    {
      "cell_type": "code",
      "source": [
        "images, targets = next(iter(train_loader))\n",
        "images.shape, targets.shape"
      ],
      "metadata": {
        "execution": {
          "iopub.status.busy": "2022-04-11T02:10:11.052863Z",
          "iopub.execute_input": "2022-04-11T02:10:11.055183Z",
          "iopub.status.idle": "2022-04-11T02:10:14.590905Z",
          "shell.execute_reply.started": "2022-04-11T02:10:11.055139Z",
          "shell.execute_reply": "2022-04-11T02:10:14.590020Z"
        },
        "trusted": true,
        "id": "TBWkDWNweK7M",
        "outputId": "e9ffaf8d-5fa5-4ecf-f21f-dc9c14515b34"
      },
      "execution_count": null,
      "outputs": [
        {
          "execution_count": 16,
          "output_type": "execute_result",
          "data": {
            "text/plain": "(torch.Size([32, 3, 56, 56]), torch.Size([32]))"
          },
          "metadata": {}
        }
      ]
    },
    {
      "cell_type": "code",
      "source": [
        "output = model(images.cpu())\n",
        "output.shape"
      ],
      "metadata": {
        "execution": {
          "iopub.status.busy": "2022-04-11T02:10:14.593634Z",
          "iopub.execute_input": "2022-04-11T02:10:14.593861Z",
          "iopub.status.idle": "2022-04-11T02:10:15.588679Z",
          "shell.execute_reply.started": "2022-04-11T02:10:14.593835Z",
          "shell.execute_reply": "2022-04-11T02:10:15.587973Z"
        },
        "trusted": true,
        "id": "PGbR4hCWeK7M",
        "outputId": "a177b97b-16f0-4bae-c24c-ac8c6db74e92"
      },
      "execution_count": null,
      "outputs": [
        {
          "execution_count": 17,
          "output_type": "execute_result",
          "data": {
            "text/plain": "torch.Size([32, 15587])"
          },
          "metadata": {}
        }
      ]
    },
    {
      "cell_type": "code",
      "source": [
        "device = 'cuda' if torch.cuda.is_available() else 'cpu'"
      ],
      "metadata": {
        "execution": {
          "iopub.status.busy": "2022-04-11T02:10:15.589729Z",
          "iopub.execute_input": "2022-04-11T02:10:15.598249Z",
          "iopub.status.idle": "2022-04-11T02:10:15.669468Z",
          "shell.execute_reply.started": "2022-04-11T02:10:15.596248Z",
          "shell.execute_reply": "2022-04-11T02:10:15.666644Z"
        },
        "trusted": true,
        "id": "5YDF78vVeK7N"
      },
      "execution_count": null,
      "outputs": []
    },
    {
      "cell_type": "code",
      "source": [
        "# Train model\n",
        "\n",
        "model.to(device)\n",
        "EPOCHS = 3\n",
        "criterion = nn.CrossEntropyLoss()\n",
        "optimizer = torch.optim.Adam(model.parameters(), lr=0.0001)\n",
        "\n",
        "last_train_loss = 0\n",
        "\n",
        "for epoch in range(EPOCHS):\n",
        "    print(f'Epoch: {epoch+1}/{EPOCHS}')\n",
        "    \n",
        "    correct = 0\n",
        "    total = 0\n",
        "    losses = []\n",
        "    \n",
        "    for batch_idx, data in enumerate(tqdm(train_loader)):\n",
        "        images, targets = data\n",
        "        images = images.to(device)\n",
        "        targets = targets.to(device)\n",
        "        \n",
        "        output = model(images)  # (batch_size, num_classes)\n",
        "        \n",
        "        loss = criterion(output, targets)\n",
        "        \n",
        "        optimizer.zero_grad()\n",
        "        loss.backward()\n",
        "        optimizer.step()\n",
        "        \n",
        "        _, pred = torch.max(output, 1)\n",
        "        correct += (pred == targets).sum().item()\n",
        "        total += pred.size(0)\n",
        "        \n",
        "        losses.append(loss.item())\n",
        "        \n",
        "    train_loss = np.mean(losses)\n",
        "    train_acc = correct * 1.0 / total\n",
        "    \n",
        "    last_train_loss = train_loss\n",
        "    print(f'Train Loss: {train_loss}\\tTrain Acc: {train_acc}')"
      ],
      "metadata": {
        "jupyter": {
          "source_hidden": true
        },
        "execution": {
          "iopub.status.busy": "2022-04-11T02:10:15.671070Z",
          "iopub.execute_input": "2022-04-11T02:10:15.671927Z",
          "iopub.status.idle": "2022-04-11T06:00:32.893758Z",
          "shell.execute_reply.started": "2022-04-11T02:10:15.671878Z",
          "shell.execute_reply": "2022-04-11T06:00:32.892937Z"
        },
        "trusted": true,
        "id": "I59Co30_eK7O",
        "outputId": "4b173db7-f90c-49ac-f044-afc62b56a116"
      },
      "execution_count": null,
      "outputs": [
        {
          "name": "stdout",
          "text": "Epoch: 1/3\n",
          "output_type": "stream"
        },
        {
          "name": "stderr",
          "text": "100%|██████████| 1595/1595 [1:16:46<00:00,  2.89s/it]\n",
          "output_type": "stream"
        },
        {
          "name": "stdout",
          "text": "Train Loss: 8.560924294450814\tTrain Acc: 0.010816530480277468\nEpoch: 2/3\n",
          "output_type": "stream"
        },
        {
          "name": "stderr",
          "text": "100%|██████████| 1595/1595 [1:16:44<00:00,  2.89s/it]\n",
          "output_type": "stream"
        },
        {
          "name": "stdout",
          "text": "Train Loss: 8.003101725862317\tTrain Acc: 0.016479532851292302\nEpoch: 3/3\n",
          "output_type": "stream"
        },
        {
          "name": "stderr",
          "text": "100%|██████████| 1595/1595 [1:16:42<00:00,  2.89s/it]",
          "output_type": "stream"
        },
        {
          "name": "stdout",
          "text": "Train Loss: 7.766348364061696\tTrain Acc: 0.020006662355730606\n",
          "output_type": "stream"
        },
        {
          "name": "stderr",
          "text": "\n",
          "output_type": "stream"
        }
      ]
    },
    {
      "cell_type": "code",
      "source": [
        "torch.save({\n",
        "    'epoch': EPOCHS,\n",
        "    'model_state_dict': model.state_dict(),\n",
        "    'optimizer_state_dict': optimizer.state_dict(),\n",
        "    'loss': last_train_loss\n",
        "}, 'last_checkpoint.pth.tar')"
      ],
      "metadata": {
        "execution": {
          "iopub.status.busy": "2022-04-11T06:00:32.895168Z",
          "iopub.execute_input": "2022-04-11T06:00:32.895572Z",
          "iopub.status.idle": "2022-04-11T06:00:39.042496Z",
          "shell.execute_reply.started": "2022-04-11T06:00:32.895532Z",
          "shell.execute_reply": "2022-04-11T06:00:39.041651Z"
        },
        "trusted": true,
        "id": "JI-gkyCzeK7P"
      },
      "execution_count": null,
      "outputs": []
    },
    {
      "cell_type": "markdown",
      "source": [
        "# Make predictions"
      ],
      "metadata": {
        "id": "MqfDd_GUeK7P"
      }
    },
    {
      "cell_type": "code",
      "source": [
        "sample_df = pd.read_csv('../input/happy-whale-and-dolphin/sample_submission.csv')\n",
        "sample_df.head()"
      ],
      "metadata": {
        "execution": {
          "iopub.status.busy": "2022-04-11T06:00:39.044573Z",
          "iopub.execute_input": "2022-04-11T06:00:39.044925Z",
          "iopub.status.idle": "2022-04-11T06:00:39.111809Z",
          "shell.execute_reply.started": "2022-04-11T06:00:39.044885Z",
          "shell.execute_reply": "2022-04-11T06:00:39.111121Z"
        },
        "trusted": true,
        "id": "lRdTBqXPeK7P",
        "outputId": "39a82fef-2292-4eeb-839a-064d99167069"
      },
      "execution_count": null,
      "outputs": [
        {
          "execution_count": 21,
          "output_type": "execute_result",
          "data": {
            "text/plain": "                image                                        predictions\n0  000110707af0ba.jpg  37c7aba965a5 114207cab555 a6e325d8e924 19fbb96...\n1  0006287ec424cb.jpg  37c7aba965a5 114207cab555 a6e325d8e924 19fbb96...\n2  000809ecb2ccad.jpg  37c7aba965a5 114207cab555 a6e325d8e924 19fbb96...\n3  00098d1376dab2.jpg  37c7aba965a5 114207cab555 a6e325d8e924 19fbb96...\n4  000b8d89c738bd.jpg  37c7aba965a5 114207cab555 a6e325d8e924 19fbb96...",
            "text/html": "<div>\n<style scoped>\n    .dataframe tbody tr th:only-of-type {\n        vertical-align: middle;\n    }\n\n    .dataframe tbody tr th {\n        vertical-align: top;\n    }\n\n    .dataframe thead th {\n        text-align: right;\n    }\n</style>\n<table border=\"1\" class=\"dataframe\">\n  <thead>\n    <tr style=\"text-align: right;\">\n      <th></th>\n      <th>image</th>\n      <th>predictions</th>\n    </tr>\n  </thead>\n  <tbody>\n    <tr>\n      <th>0</th>\n      <td>000110707af0ba.jpg</td>\n      <td>37c7aba965a5 114207cab555 a6e325d8e924 19fbb96...</td>\n    </tr>\n    <tr>\n      <th>1</th>\n      <td>0006287ec424cb.jpg</td>\n      <td>37c7aba965a5 114207cab555 a6e325d8e924 19fbb96...</td>\n    </tr>\n    <tr>\n      <th>2</th>\n      <td>000809ecb2ccad.jpg</td>\n      <td>37c7aba965a5 114207cab555 a6e325d8e924 19fbb96...</td>\n    </tr>\n    <tr>\n      <th>3</th>\n      <td>00098d1376dab2.jpg</td>\n      <td>37c7aba965a5 114207cab555 a6e325d8e924 19fbb96...</td>\n    </tr>\n    <tr>\n      <th>4</th>\n      <td>000b8d89c738bd.jpg</td>\n      <td>37c7aba965a5 114207cab555 a6e325d8e924 19fbb96...</td>\n    </tr>\n  </tbody>\n</table>\n</div>"
          },
          "metadata": {}
        }
      ]
    },
    {
      "cell_type": "code",
      "source": [
        "test_transforms = transforms.Compose([transforms.ToPILImage(),\n",
        "                                     transforms.Resize(56),\n",
        "                                     transforms.ToTensor(),\n",
        "                                     transforms.Normalize([0.5,0.5,0.5],\n",
        "                                                          [0.5,0.5,0.5])])"
      ],
      "metadata": {
        "execution": {
          "iopub.status.busy": "2022-04-11T06:00:39.113197Z",
          "iopub.execute_input": "2022-04-11T06:00:39.113768Z",
          "iopub.status.idle": "2022-04-11T06:00:39.493004Z",
          "shell.execute_reply.started": "2022-04-11T06:00:39.113727Z",
          "shell.execute_reply": "2022-04-11T06:00:39.492089Z"
        },
        "trusted": true,
        "id": "lQZhI10beK7Q"
      },
      "execution_count": null,
      "outputs": []
    },
    {
      "cell_type": "code",
      "source": [
        "test_img_dir = '../input/happy-whale-and-dolphin/test_images'\n",
        "\n",
        "res = []\n",
        "\n",
        "for i in tqdm(range(sample_df.shape[0])):\n",
        "    image_path = os.path.join(test_img_dir, sample_df.iloc[i,0])\n",
        "    image = cv2.imread(image_path, cv2.IMREAD_COLOR)\n",
        "    image = cv2.cvtColor(image, cv2.COLOR_BGR2RGB)\n",
        "    \n",
        "    image = test_transforms(image)\n",
        "    image = image.unsqueeze(0)\n",
        "\n",
        "    output = model(image.to(device))\n",
        "    _, tk = torch.topk(output, 5, dim=1)\n",
        "    pred = []\n",
        "    for j in range(len(tk[0])):\n",
        "        pred.append(id_to_label[tk[0][j].item()])\n",
        "    pred = ' '.join(pred)\n",
        "    \n",
        "    sample_df.iloc[i, 1] = pred"
      ],
      "metadata": {
        "execution": {
          "iopub.status.busy": "2022-04-11T06:00:39.496483Z",
          "iopub.execute_input": "2022-04-11T06:00:39.497926Z",
          "iopub.status.idle": "2022-04-11T06:45:01.876731Z",
          "shell.execute_reply.started": "2022-04-11T06:00:39.497878Z",
          "shell.execute_reply": "2022-04-11T06:45:01.875964Z"
        },
        "trusted": true,
        "id": "7K_abuWXeK7Q",
        "outputId": "1398e911-d50c-41cd-c63a-bbdae5836ae6"
      },
      "execution_count": null,
      "outputs": [
        {
          "name": "stderr",
          "text": "100%|██████████| 27956/27956 [44:22<00:00, 10.50it/s]  \n",
          "output_type": "stream"
        }
      ]
    },
    {
      "cell_type": "code",
      "source": [
        "sample_df.to_csv('submission.csv', index=False)"
      ],
      "metadata": {
        "execution": {
          "iopub.status.busy": "2022-04-11T06:45:01.878033Z",
          "iopub.execute_input": "2022-04-11T06:45:01.878450Z",
          "iopub.status.idle": "2022-04-11T06:45:01.999880Z",
          "shell.execute_reply.started": "2022-04-11T06:45:01.878411Z",
          "shell.execute_reply": "2022-04-11T06:45:01.999107Z"
        },
        "trusted": true,
        "id": "1IRpkdrVeK7R"
      },
      "execution_count": null,
      "outputs": []
    },
    {
      "cell_type": "code",
      "source": [
        "print('Done!')"
      ],
      "metadata": {
        "execution": {
          "iopub.status.busy": "2022-04-11T06:45:02.001086Z",
          "iopub.execute_input": "2022-04-11T06:45:02.001336Z",
          "iopub.status.idle": "2022-04-11T06:45:02.006424Z",
          "shell.execute_reply.started": "2022-04-11T06:45:02.001303Z",
          "shell.execute_reply": "2022-04-11T06:45:02.005726Z"
        },
        "trusted": true,
        "id": "ROfSgzNAeK7R",
        "outputId": "f7db9b9c-031b-471f-9b9f-82793467f022"
      },
      "execution_count": null,
      "outputs": [
        {
          "name": "stdout",
          "text": "Done!\n",
          "output_type": "stream"
        }
      ]
    },
    {
      "cell_type": "code",
      "source": [
        ""
      ],
      "metadata": {
        "id": "e_mACCwoeK7S"
      },
      "execution_count": null,
      "outputs": []
    }
  ]
}