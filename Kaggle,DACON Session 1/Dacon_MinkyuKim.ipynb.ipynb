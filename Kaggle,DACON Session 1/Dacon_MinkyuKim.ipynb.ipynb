{
 "cells": [
  {
   "cell_type": "markdown",
   "metadata": {},
   "source": [
    "## Computer Vision 이상치 탐지 알고리즘 경진대회\n",
    "\n",
    "#### 직접 모델 설계 후 학습을 진행했으나 Loss가 많이 떨어지지 않았음"
   ]
  },
  {
   "cell_type": "code",
   "execution_count": 1,
   "metadata": {},
   "outputs": [],
   "source": [
    "import torch \n",
    "import torch.nn as nn\n",
    "import torchvision.transforms as transforms\n",
    "import torch.nn.functional as F\n",
    "from torch.utils.data import Dataset, DataLoader\n",
    "import torchvision.models as models\n",
    "from torchsummary import summary\n",
    "\n",
    "import os\n",
    "import pandas as pd\n",
    "from PIL import Image\n",
    "from tqdm import tqdm\n",
    "import numpy as np\n",
    "import cv2\n",
    "from terminaltables import AsciiTable"
   ]
  },
  {
   "cell_type": "markdown",
   "metadata": {},
   "source": [
    "### 증상 정리\n",
    "\n",
    "color : 제품에 부자연스러운 색깔이 첨가됨(예 : 알약에 빨간점 찍힘) <br>\n",
    "scratch : 제품에 흠집이 있음 <br>\n",
    "crack : 제품이 어딘가 깨짐 <br>\n",
    "combined : 여러 증상이 같이 있는 제품 <br>\n",
    "\n",
    "### 느낀점\n",
    "\n",
    "1. 데이터셋의 product는 괜찮은데 state가 좋지않다. product만의 고유 state가 각자 존재하는듯 하다. \n",
    "2. 제품의 상태가 괜찮으면 'good'이라는 state로 설정되는데 이건 전제품 공통이고 이상증세는 제품별로 다른 경우가 있고 같은 경우가 있다. \n",
    "   예를 들어 약과 헤이즐넛은 'crack'이라는 공통된 상태를 가지지만 crack이라는 상태가 모든 제품에 존재하는 state인건 아니다. \n",
    "3. '제품' 분류는 가능하겠는데 '상태' 분류가 힘들듯. 어떻게 하지? \n",
    "4. state의 종류는 49가지. 그리고 생각해봤는데 알약의 crack과 헤이즐넛의 crack은 추출될 feature의 종류가 다를거란 말이지...\n",
    "5. 그러면 '제품'이라는 방을 먼저 고르고 그 안에서 제품의 상태를 판단하게 하는건 어떨까? \n",
    "6. product별로 softmax 시도"
   ]
  },
  {
   "cell_type": "markdown",
   "metadata": {},
   "source": [
    "## Create Dataloader"
   ]
  },
  {
   "cell_type": "code",
   "execution_count": 2,
   "metadata": {},
   "outputs": [],
   "source": [
    "class Product_State_Classification_Dataset(Dataset) :\n",
    "    def __init__(self, dataset_root, image_name_list, label_list, label_index_list): \n",
    "        \n",
    "        self.dataset_root = dataset_root\n",
    "        self.image_name_list = image_name_list\n",
    "        self.label_list = label_list\n",
    "        self.label_index_list = label_index_list\n",
    "        \n",
    "    def __len__(self): \n",
    "        return len(self.image_name_list) \n",
    "    \n",
    "    def __getitem__(self, index): \n",
    "        \n",
    "        # image processing\n",
    "        to_tensor = transforms.ToTensor()\n",
    "        img = np.array(Image.open(self.dataset_root + self.image_name_list[index]).convert('RGB'))\n",
    "        img = cv2.resize(img, dsize=(224, 224), interpolation=cv2.INTER_AREA)\n",
    "        # Normalize 연산할 때 기존 방식인 '255로 나누기'를 수행하는 과정에서 NaN이 발생. opencv서서 제공하는 함수로 normalize 처리하니 NaN이 발생하지 않음 \n",
    "        img = cv2.normalize(img, None, 0, 255, cv2.NORM_MINMAX)\n",
    "        img = to_tensor(img)        \n",
    "        \n",
    "        # label data\n",
    "        label = np.where(self.label_index_list == self.label_list[index])[0][0]\n",
    "        \n",
    "        return img, torch.tensor(label)"
   ]
  },
  {
   "cell_type": "code",
   "execution_count": 3,
   "metadata": {},
   "outputs": [],
   "source": [
    "def make_Dataset(dataset_root) :\n",
    "    csv = pd.read_csv(dataset_root + 'train_df.csv')\n",
    "    \n",
    "    image_name_list = csv['file_name'].tolist()\n",
    "    label_list = csv['label'].tolist()\n",
    "    \n",
    "    label_index_list = np.unique(csv['label'].tolist())\n",
    "    \n",
    "    dataset = Product_State_Classification_Dataset(dataset_root + 'train/', image_name_list, label_list, label_index_list)\n",
    "    \n",
    "    return dataset, label_index_list"
   ]
  },
  {
   "cell_type": "code",
   "execution_count": 4,
   "metadata": {},
   "outputs": [],
   "source": [
    "def make_DataLoader(dataset_root, BATCH_SIZE = 64) :\n",
    "    dataset, label_index_list = make_Dataset(dataset_root)\n",
    "    \n",
    "    DataLoader = torch.utils.data.DataLoader(dataset = dataset, # 사용할 데이터셋\n",
    "                                          batch_size = BATCH_SIZE, # 미니배치 크기\n",
    "                                          shuffle=True, # 에포크마다 데이터셋 셔플할건가? \n",
    "                                          num_workers=12,\n",
    "                                          pin_memory=False,\n",
    "                                          drop_last=True)\n",
    "    \n",
    "    return DataLoader, label_index_list"
   ]
  },
  {
   "cell_type": "markdown",
   "metadata": {},
   "source": [
    "## Create Model"
   ]
  },
  {
   "cell_type": "code",
   "execution_count": 5,
   "metadata": {
    "scrolled": true
   },
   "outputs": [],
   "source": [
    "class ResidualBlock(nn.Module) :\n",
    "    def __init__(self, channel) :\n",
    "        super(ResidualBlock, self).__init__()\n",
    "        \n",
    "        self.model = nn.Sequential(\n",
    "            nn.Conv2d(channel, channel, kernel_size=3, stride = 1, padding = 1, bias=False),\n",
    "            # nn.BatchNorm2d(channel),\n",
    "            nn.LeakyReLU(inplace=False),\n",
    "            nn.Conv2d(channel, channel, kernel_size=3, stride = 1, padding = 1, bias=False),\n",
    "            # nn.BatchNorm2d(channel)\n",
    "        )\n",
    "        self.LeakyReLU = nn.LeakyReLU(inplace=False)\n",
    "        \n",
    "    \n",
    "    def forward(self, x) :\n",
    "        output = self.model(x)\n",
    "        \n",
    "        output += x\n",
    "        \n",
    "        output = self.LeakyReLU(output)\n",
    "        \n",
    "        return output\n",
    "    \n",
    "class ResNet(nn.Module) :\n",
    "    def __init__(self) :\n",
    "        super(ResNet, self).__init__()        \n",
    "        self.cnn = nn.Sequential(\n",
    "            nn.Conv2d(3, 64, kernel_size=7, stride=2, padding=3, bias=False),\n",
    "            nn.MaxPool2d(kernel_size=3, stride=2, padding=1),\n",
    "            ResidualBlock(64), # 2_1\n",
    "            ResidualBlock(64), # 2_2\n",
    "            nn.Conv2d(64, 128, kernel_size=1, stride = 2, padding = 0, bias=False),\n",
    "            ResidualBlock(128), # 3_1\n",
    "            ResidualBlock(128), # 3_2\n",
    "            ResidualBlock(128), # 3_3\n",
    "            nn.Conv2d(128, 256, kernel_size=1, stride = 2, padding = 0, bias=False),\n",
    "            ResidualBlock(256), # 4_1\n",
    "            ResidualBlock(256), # 4_2\n",
    "            ResidualBlock(256), # 4_3\n",
    "            nn.Conv2d(256, 512, kernel_size=1, stride = 2, padding = 0, bias=False),\n",
    "            ResidualBlock(512), # 5_1\n",
    "            ResidualBlock(512), # 5_2\n",
    "            ResidualBlock(512), # 5_3\n",
    "            nn.AvgPool2d(3, stride=2),\n",
    "            nn.Flatten()\n",
    "        )\n",
    "        \n",
    "        self.linear = nn.Sequential(\n",
    "            nn.Linear(4608, 88, bias = False),\n",
    "            nn.Softmax(dim=1)\n",
    "        )\n",
    "\n",
    "    def forward(self, x) :\n",
    "        cnn_output = self.cnn(x)\n",
    "        output   = self.linear(cnn_output)\n",
    "        \n",
    "        return output"
   ]
  },
  {
   "cell_type": "code",
   "execution_count": 6,
   "metadata": {},
   "outputs": [],
   "source": [
    "# cnn = nn.Sequential(\n",
    "#             nn.Conv2d(3, 64, kernel_size=7, stride=2, padding=3, bias=False),\n",
    "#             nn.MaxPool2d(kernel_size=3, stride=2, padding=1),\n",
    "#             ResidualBlock(64), # 2_1\n",
    "#             ResidualBlock(64), # 2_2\n",
    "#             ResidualBlock(64), # 2_3\n",
    "#             nn.Conv2d(64, 128, kernel_size=1, stride = 2, padding = 0, bias=False),\n",
    "#             ResidualBlock(128), # 3_1\n",
    "#             ResidualBlock(128), # 3_2\n",
    "#             ResidualBlock(128), # 3_3\n",
    "#             ResidualBlock(128), # 3_4\n",
    "#             nn.Conv2d(128, 256, kernel_size=1, stride = 2, padding = 0, bias=False),\n",
    "#             ResidualBlock(256), # 4_1\n",
    "#             ResidualBlock(256), # 4_2\n",
    "#             ResidualBlock(256), # 4_3\n",
    "#             ResidualBlock(256), # 4_4\n",
    "#             ResidualBlock(256), # 4_5\n",
    "#             ResidualBlock(256), # 4_6\n",
    "#             nn.Conv2d(256, 512, kernel_size=1, stride = 2, padding = 0, bias=False),\n",
    "#             ResidualBlock(512), # 5_1\n",
    "#             ResidualBlock(512), # 5_2\n",
    "#             ResidualBlock(512), # 5_3\n",
    "#             nn.AvgPool2d(3, stride=2),\n",
    "#             nn.Flatten()\n",
    "#         ).to('cuda')\n",
    "# summary(cnn, input_size = (3, 224, 224))"
   ]
  },
  {
   "cell_type": "markdown",
   "metadata": {},
   "source": [
    "## Train, Test model"
   ]
  },
  {
   "cell_type": "code",
   "execution_count": 7,
   "metadata": {},
   "outputs": [],
   "source": [
    "def get_accuracy(pred, target) :\n",
    "    \n",
    "    pred = torch.argmax(pred, dim=1)\n",
    "    \n",
    "    compare_result = torch.eq(pred, target).type(torch.LongTensor)\n",
    "    \n",
    "    return torch.sum(compare_result).item(), pred.size()[0]\n",
    "\n",
    "def train_model(model, loss_function, train_DataLoader, EPOCH=300) : \n",
    "    print(\"\\n---- Training Model ----\")\n",
    "    \n",
    "    # optimizer 설정\n",
    "    optimizer = torch.optim.Adam(model.parameters(), lr=0.001, weight_decay = 1e-4)\n",
    "    \n",
    "    model_weights_root_folder = '/home/minkyukim/models/Dacon_model/'\n",
    "    max_acc_epoch = None\n",
    "    max_acc = None\n",
    "        \n",
    "    model.train()\n",
    "    # 코드 출처 : https://github.com/eriklindernoren/PyTorch-YOLOv3\n",
    "    for epoch in range(EPOCH):\n",
    "\n",
    "        epoch_loss = 0.0\n",
    "        \n",
    "        epoch_acc = 0.0\n",
    "        epoch_answer_count = 0\n",
    "        epoch_data_num = 0\n",
    "        \n",
    "        checkpoint_path = model_weights_root_folder + 'model_weights/dacon_model_epoch_' + str(epoch) + '.pth'\n",
    "        \n",
    "        pbar = tqdm(train_DataLoader, desc=f\"Training Epoch {epoch}\")\n",
    "        \n",
    "        batch_i = 1\n",
    "        train_data_num = 0.0\n",
    "        \n",
    "        for _, (imgs, targets) in enumerate(pbar):\n",
    "            batches_done = len(train_DataLoader) * epoch + batch_i \n",
    "            imgs = imgs.to('cuda', non_blocking=True)\n",
    "            targets = targets.to('cuda')\n",
    "            with torch.autograd.set_detect_anomaly(True) : \n",
    "                preds = model(imgs)\n",
    "                train_loss = loss_function(preds, targets) # 나중에 loss를 저장 후 print_loss()에서 출력\n",
    "                answer_count_per_batch, batch_num = get_accuracy(preds.clone().detach().requires_grad_(False), targets)\n",
    "            \n",
    "                train_loss.backward()\n",
    "                    \n",
    "#             if batches_done >= (len(train_DataLoader) * 500) :\n",
    "#                 for g in optimizer.param_groups:\n",
    "#                     g['lr'] /=10\n",
    "                \n",
    "            optimizer.step()\n",
    "            optimizer.zero_grad()\n",
    "            \n",
    "            batch_i += 1 # 학습에 관여한 batch개수를 알기 위해 사용하는 변수\n",
    "            epoch_loss += train_loss.item() # epoch별 평균 loss를 알기 위해 사용하는 변수\n",
    "            epoch_answer_count += answer_count_per_batch\n",
    "            epoch_data_num += batch_num\n",
    "        \n",
    "        torch.save(model.state_dict(), checkpoint_path) \n",
    "        \n",
    "        epoch_loss /= len(train_DataLoader)\n",
    "        \n",
    "        epoch_acc = float(epoch_answer_count) / epoch_data_num\n",
    "        \n",
    "        print(AsciiTable(\n",
    "                [\n",
    "                    [\"Type\", \"Value\"],\n",
    "                    [\"train loss\", format(round(epoch_loss, 6), 'f')],\n",
    "                    [\"train acc \", format(round(epoch_acc, 6), 'f')]\n",
    "                ]).table.replace('+', '|'))\n",
    "        \n",
    "        if max_acc == None or max_acc < epoch_acc :\n",
    "            max_acc_epoch = epoch\n",
    "            max_acc = epoch_acc\n",
    "    \n",
    "    return max_acc_epoch         "
   ]
  },
  {
   "cell_type": "code",
   "execution_count": 8,
   "metadata": {},
   "outputs": [],
   "source": [
    "def load_model(epoch) :\n",
    "    weight_root = '/home/minkyukim/models/Dacon_model/model_weights/'\n",
    "    \n",
    "    model = ResNet().to('cuda')\n",
    "    \n",
    "    model.load_state_dict(torch.load(weight_root + 'dacon_model_epoch_' + str(epoch) + '.pth', map_location='cuda'))\n",
    "    \n",
    "    return model"
   ]
  },
  {
   "cell_type": "code",
   "execution_count": 9,
   "metadata": {},
   "outputs": [],
   "source": [
    "def get_output(model, dataset_root, label_index_list) :\n",
    "    \n",
    "    model.eval()\n",
    "    \n",
    "    csv = pd.read_csv(dataset_root + 'test_df.csv')\n",
    "    \n",
    "    submission = open('/home/minkyukim/models/Dacon_model/submission.csv', 'w')\n",
    "    submission.write('index,label\\n')\n",
    "    \n",
    "    image_name_list = csv['file_name'].tolist()\n",
    "    to_tensor = transforms.ToTensor()\n",
    "    \n",
    "    pbar = tqdm(image_name_list, desc = \"testing \", mininterval=0.01)\n",
    "    \n",
    "    pred_list = []\n",
    "    \n",
    "    count = 0\n",
    "    for image_name in pbar : \n",
    "        img = np.array(Image.open(dataset_root + 'test/' + image_name).convert('RGB'))\n",
    "        img = cv2.resize(img, dsize=(224, 224), interpolation=cv2.INTER_AREA)\n",
    "        # Normalize 연산할 때 기존 방식인 '255로 나누기'를 수행하는 과정에서 NaN이 발생. opencv서서 제공하는 함수로 normalize 처리하니 NaN이 발생하지 않음 \n",
    "        img = cv2.normalize(img, None, 0, 255, cv2.NORM_MINMAX)\n",
    "        img = torch.unsqueeze(to_tensor(img), 0).to('cuda')       \n",
    "        with torch.no_grad():\n",
    "            pred = label_index_list[torch.argmax(torch.squeeze(model(img))).item()]\n",
    "        print_str = str(count) + \",\" + pred + '\\n'\n",
    "        submission.write(print_str)\n",
    "        count+=1\n",
    "        \n",
    "    submission.close()\n",
    "        \n",
    "    return submission\n",
    "        "
   ]
  },
  {
   "cell_type": "markdown",
   "metadata": {},
   "source": [
    "## 실행 코드"
   ]
  },
  {
   "cell_type": "code",
   "execution_count": 10,
   "metadata": {},
   "outputs": [
    {
     "name": "stdout",
     "output_type": "stream",
     "text": [
      "----------------------------------------------------------------\n",
      "        Layer (type)               Output Shape         Param #\n",
      "================================================================\n",
      "            Conv2d-1         [-1, 64, 112, 112]           9,408\n",
      "         MaxPool2d-2           [-1, 64, 56, 56]               0\n",
      "            Conv2d-3           [-1, 64, 56, 56]          36,864\n",
      "         LeakyReLU-4           [-1, 64, 56, 56]               0\n",
      "            Conv2d-5           [-1, 64, 56, 56]          36,864\n",
      "         LeakyReLU-6           [-1, 64, 56, 56]               0\n",
      "     ResidualBlock-7           [-1, 64, 56, 56]               0\n",
      "            Conv2d-8           [-1, 64, 56, 56]          36,864\n",
      "         LeakyReLU-9           [-1, 64, 56, 56]               0\n",
      "           Conv2d-10           [-1, 64, 56, 56]          36,864\n",
      "        LeakyReLU-11           [-1, 64, 56, 56]               0\n",
      "    ResidualBlock-12           [-1, 64, 56, 56]               0\n",
      "           Conv2d-13          [-1, 128, 28, 28]           8,192\n",
      "           Conv2d-14          [-1, 128, 28, 28]         147,456\n",
      "        LeakyReLU-15          [-1, 128, 28, 28]               0\n",
      "           Conv2d-16          [-1, 128, 28, 28]         147,456\n",
      "        LeakyReLU-17          [-1, 128, 28, 28]               0\n",
      "    ResidualBlock-18          [-1, 128, 28, 28]               0\n",
      "           Conv2d-19          [-1, 128, 28, 28]         147,456\n",
      "        LeakyReLU-20          [-1, 128, 28, 28]               0\n",
      "           Conv2d-21          [-1, 128, 28, 28]         147,456\n",
      "        LeakyReLU-22          [-1, 128, 28, 28]               0\n",
      "    ResidualBlock-23          [-1, 128, 28, 28]               0\n",
      "           Conv2d-24          [-1, 128, 28, 28]         147,456\n",
      "        LeakyReLU-25          [-1, 128, 28, 28]               0\n",
      "           Conv2d-26          [-1, 128, 28, 28]         147,456\n",
      "        LeakyReLU-27          [-1, 128, 28, 28]               0\n",
      "    ResidualBlock-28          [-1, 128, 28, 28]               0\n",
      "           Conv2d-29          [-1, 256, 14, 14]          32,768\n",
      "           Conv2d-30          [-1, 256, 14, 14]         589,824\n",
      "        LeakyReLU-31          [-1, 256, 14, 14]               0\n",
      "           Conv2d-32          [-1, 256, 14, 14]         589,824\n",
      "        LeakyReLU-33          [-1, 256, 14, 14]               0\n",
      "    ResidualBlock-34          [-1, 256, 14, 14]               0\n",
      "           Conv2d-35          [-1, 256, 14, 14]         589,824\n",
      "        LeakyReLU-36          [-1, 256, 14, 14]               0\n",
      "           Conv2d-37          [-1, 256, 14, 14]         589,824\n",
      "        LeakyReLU-38          [-1, 256, 14, 14]               0\n",
      "    ResidualBlock-39          [-1, 256, 14, 14]               0\n",
      "           Conv2d-40          [-1, 256, 14, 14]         589,824\n",
      "        LeakyReLU-41          [-1, 256, 14, 14]               0\n",
      "           Conv2d-42          [-1, 256, 14, 14]         589,824\n",
      "        LeakyReLU-43          [-1, 256, 14, 14]               0\n",
      "    ResidualBlock-44          [-1, 256, 14, 14]               0\n",
      "           Conv2d-45            [-1, 512, 7, 7]         131,072\n",
      "           Conv2d-46            [-1, 512, 7, 7]       2,359,296\n",
      "        LeakyReLU-47            [-1, 512, 7, 7]               0\n",
      "           Conv2d-48            [-1, 512, 7, 7]       2,359,296\n",
      "        LeakyReLU-49            [-1, 512, 7, 7]               0\n",
      "    ResidualBlock-50            [-1, 512, 7, 7]               0\n",
      "           Conv2d-51            [-1, 512, 7, 7]       2,359,296\n",
      "        LeakyReLU-52            [-1, 512, 7, 7]               0\n",
      "           Conv2d-53            [-1, 512, 7, 7]       2,359,296\n",
      "        LeakyReLU-54            [-1, 512, 7, 7]               0\n",
      "    ResidualBlock-55            [-1, 512, 7, 7]               0\n",
      "           Conv2d-56            [-1, 512, 7, 7]       2,359,296\n",
      "        LeakyReLU-57            [-1, 512, 7, 7]               0\n",
      "           Conv2d-58            [-1, 512, 7, 7]       2,359,296\n",
      "        LeakyReLU-59            [-1, 512, 7, 7]               0\n",
      "    ResidualBlock-60            [-1, 512, 7, 7]               0\n",
      "        AvgPool2d-61            [-1, 512, 3, 3]               0\n",
      "          Flatten-62                 [-1, 4608]               0\n",
      "           Linear-63                   [-1, 88]         405,504\n",
      "          Softmax-64                   [-1, 88]               0\n",
      "================================================================\n",
      "Total params: 19,313,856\n",
      "Trainable params: 19,313,856\n",
      "Non-trainable params: 0\n",
      "----------------------------------------------------------------\n",
      "Input size (MB): 0.57\n",
      "Forward/backward pass size (MB): 44.48\n",
      "Params size (MB): 73.68\n",
      "Estimated Total Size (MB): 118.73\n",
      "----------------------------------------------------------------\n"
     ]
    },
    {
     "name": "stderr",
     "output_type": "stream",
     "text": [
      "/home/minkyukim/anaconda3/envs/PyTorch_p39/lib/python3.9/site-packages/torch/nn/functional.py:718: UserWarning: Named tensors and all their associated APIs are an experimental feature and subject to change. Please do not use them for anything important until they are released as stable. (Triggered internally at  /pytorch/c10/core/TensorImpl.h:1156.)\n",
      "  return torch.max_pool2d(input, kernel_size, stride, padding, dilation, ceil_mode)\n"
     ]
    }
   ],
   "source": [
    "dataset_root = '/home/minkyukim/Dataset/Dacon_dataset/'\n",
    "DataLoader, label_index_list = make_DataLoader(dataset_root)\n",
    "\n",
    "model = ResNet().to('cuda')\n",
    "summary(model, input_size=(3, 224, 224))"
   ]
  },
  {
   "cell_type": "code",
   "execution_count": 11,
   "metadata": {
    "scrolled": true
   },
   "outputs": [
    {
     "name": "stdout",
     "output_type": "stream",
     "text": [
      "\n",
      "---- Training Model ----\n"
     ]
    },
    {
     "name": "stderr",
     "output_type": "stream",
     "text": [
      "Training Epoch 0: 100%|█████████████████████████| 66/66 [00:18<00:00,  3.49it/s]\n"
     ]
    },
    {
     "name": "stdout",
     "output_type": "stream",
     "text": [
      "|------------|----------|\n",
      "| Type       | Value    |\n",
      "|------------|----------|\n",
      "| train loss | 4.425089 |\n",
      "| train acc  | 0.072680 |\n",
      "|------------|----------|\n"
     ]
    },
    {
     "name": "stderr",
     "output_type": "stream",
     "text": [
      "Training Epoch 1: 100%|█████████████████████████| 66/66 [00:19<00:00,  3.44it/s]\n"
     ]
    },
    {
     "name": "stdout",
     "output_type": "stream",
     "text": [
      "|------------|----------|\n",
      "| Type       | Value    |\n",
      "|------------|----------|\n",
      "| train loss | 4.421390 |\n",
      "| train acc  | 0.075284 |\n",
      "|------------|----------|\n"
     ]
    },
    {
     "name": "stderr",
     "output_type": "stream",
     "text": [
      "Training Epoch 2: 100%|█████████████████████████| 66/66 [00:18<00:00,  3.51it/s]\n"
     ]
    },
    {
     "name": "stdout",
     "output_type": "stream",
     "text": [
      "|------------|----------|\n",
      "| Type       | Value    |\n",
      "|------------|----------|\n",
      "| train loss | 4.420572 |\n",
      "| train acc  | 0.076231 |\n",
      "|------------|----------|\n"
     ]
    },
    {
     "name": "stderr",
     "output_type": "stream",
     "text": [
      "Training Epoch 3: 100%|█████████████████████████| 66/66 [00:18<00:00,  3.54it/s]\n"
     ]
    },
    {
     "name": "stdout",
     "output_type": "stream",
     "text": [
      "|------------|----------|\n",
      "| Type       | Value    |\n",
      "|------------|----------|\n",
      "| train loss | 4.431807 |\n",
      "| train acc  | 0.064867 |\n",
      "|------------|----------|\n"
     ]
    },
    {
     "name": "stderr",
     "output_type": "stream",
     "text": [
      "Training Epoch 4: 100%|█████████████████████████| 66/66 [00:18<00:00,  3.54it/s]\n"
     ]
    },
    {
     "name": "stdout",
     "output_type": "stream",
     "text": [
      "|------------|----------|\n",
      "| Type       | Value    |\n",
      "|------------|----------|\n",
      "| train loss | 4.431096 |\n",
      "| train acc  | 0.065578 |\n",
      "|------------|----------|\n"
     ]
    },
    {
     "name": "stderr",
     "output_type": "stream",
     "text": [
      "Training Epoch 5: 100%|█████████████████████████| 66/66 [00:18<00:00,  3.48it/s]\n"
     ]
    },
    {
     "name": "stdout",
     "output_type": "stream",
     "text": [
      "|------------|----------|\n",
      "| Type       | Value    |\n",
      "|------------|----------|\n",
      "| train loss | 4.430623 |\n",
      "| train acc  | 0.066051 |\n",
      "|------------|----------|\n"
     ]
    },
    {
     "name": "stderr",
     "output_type": "stream",
     "text": [
      "Training Epoch 6: 100%|█████████████████████████| 66/66 [00:18<00:00,  3.48it/s]\n"
     ]
    },
    {
     "name": "stdout",
     "output_type": "stream",
     "text": [
      "|------------|----------|\n",
      "| Type       | Value    |\n",
      "|------------|----------|\n",
      "| train loss | 4.430860 |\n",
      "| train acc  | 0.065814 |\n",
      "|------------|----------|\n"
     ]
    },
    {
     "name": "stderr",
     "output_type": "stream",
     "text": [
      "Training Epoch 7: 100%|█████████████████████████| 66/66 [00:18<00:00,  3.50it/s]\n"
     ]
    },
    {
     "name": "stdout",
     "output_type": "stream",
     "text": [
      "|------------|----------|\n",
      "| Type       | Value    |\n",
      "|------------|----------|\n",
      "| train loss | 4.431807 |\n",
      "| train acc  | 0.064867 |\n",
      "|------------|----------|\n"
     ]
    },
    {
     "name": "stderr",
     "output_type": "stream",
     "text": [
      "Training Epoch 8: 100%|█████████████████████████| 66/66 [00:18<00:00,  3.50it/s]\n"
     ]
    },
    {
     "name": "stdout",
     "output_type": "stream",
     "text": [
      "|------------|----------|\n",
      "| Type       | Value    |\n",
      "|------------|----------|\n",
      "| train loss | 4.431470 |\n",
      "| train acc  | 0.065104 |\n",
      "|------------|----------|\n"
     ]
    },
    {
     "name": "stderr",
     "output_type": "stream",
     "text": [
      "Training Epoch 9: 100%|█████████████████████████| 66/66 [00:18<00:00,  3.47it/s]\n"
     ]
    },
    {
     "name": "stdout",
     "output_type": "stream",
     "text": [
      "|------------|----------|\n",
      "| Type       | Value    |\n",
      "|------------|----------|\n",
      "| train loss | 4.431096 |\n",
      "| train acc  | 0.065578 |\n",
      "|------------|----------|\n"
     ]
    },
    {
     "name": "stderr",
     "output_type": "stream",
     "text": [
      "Training Epoch 10: 100%|████████████████████████| 66/66 [00:19<00:00,  3.45it/s]\n"
     ]
    },
    {
     "name": "stdout",
     "output_type": "stream",
     "text": [
      "|------------|----------|\n",
      "| Type       | Value    |\n",
      "|------------|----------|\n",
      "| train loss | 4.431333 |\n",
      "| train acc  | 0.065341 |\n",
      "|------------|----------|\n"
     ]
    },
    {
     "name": "stderr",
     "output_type": "stream",
     "text": [
      "Training Epoch 11: 100%|████████████████████████| 66/66 [00:18<00:00,  3.48it/s]\n"
     ]
    },
    {
     "name": "stdout",
     "output_type": "stream",
     "text": [
      "|------------|----------|\n",
      "| Type       | Value    |\n",
      "|------------|----------|\n",
      "| train loss | 4.421789 |\n",
      "| train acc  | 0.085701 |\n",
      "|------------|----------|\n"
     ]
    },
    {
     "name": "stderr",
     "output_type": "stream",
     "text": [
      "Training Epoch 12: 100%|████████████████████████| 66/66 [00:18<00:00,  3.50it/s]\n"
     ]
    },
    {
     "name": "stdout",
     "output_type": "stream",
     "text": [
      "|------------|----------|\n",
      "| Type       | Value    |\n",
      "|------------|----------|\n",
      "| train loss | 4.405291 |\n",
      "| train acc  | 0.091383 |\n",
      "|------------|----------|\n"
     ]
    },
    {
     "name": "stderr",
     "output_type": "stream",
     "text": [
      "Training Epoch 13: 100%|████████████████████████| 66/66 [00:19<00:00,  3.44it/s]\n"
     ]
    },
    {
     "name": "stdout",
     "output_type": "stream",
     "text": [
      "|------------|----------|\n",
      "| Type       | Value    |\n",
      "|------------|----------|\n",
      "| train loss | 4.404345 |\n",
      "| train acc  | 0.092330 |\n",
      "|------------|----------|\n"
     ]
    },
    {
     "name": "stderr",
     "output_type": "stream",
     "text": [
      "Training Epoch 14: 100%|████████████████████████| 66/66 [00:19<00:00,  3.46it/s]\n"
     ]
    },
    {
     "name": "stdout",
     "output_type": "stream",
     "text": [
      "|------------|----------|\n",
      "| Type       | Value    |\n",
      "|------------|----------|\n",
      "| train loss | 4.406002 |\n",
      "| train acc  | 0.090672 |\n",
      "|------------|----------|\n"
     ]
    },
    {
     "name": "stderr",
     "output_type": "stream",
     "text": [
      "Training Epoch 15: 100%|████████████████████████| 66/66 [00:18<00:00,  3.50it/s]\n"
     ]
    },
    {
     "name": "stdout",
     "output_type": "stream",
     "text": [
      "|------------|----------|\n",
      "| Type       | Value    |\n",
      "|------------|----------|\n",
      "| train loss | 4.405528 |\n",
      "| train acc  | 0.091146 |\n",
      "|------------|----------|\n"
     ]
    },
    {
     "name": "stderr",
     "output_type": "stream",
     "text": [
      "Training Epoch 16: 100%|████████████████████████| 66/66 [00:19<00:00,  3.44it/s]\n"
     ]
    },
    {
     "name": "stdout",
     "output_type": "stream",
     "text": [
      "|------------|----------|\n",
      "| Type       | Value    |\n",
      "|------------|----------|\n",
      "| train loss | 4.405528 |\n",
      "| train acc  | 0.091146 |\n",
      "|------------|----------|\n"
     ]
    },
    {
     "name": "stderr",
     "output_type": "stream",
     "text": [
      "Training Epoch 17: 100%|████████████████████████| 66/66 [00:18<00:00,  3.52it/s]\n"
     ]
    },
    {
     "name": "stdout",
     "output_type": "stream",
     "text": [
      "|------------|----------|\n",
      "| Type       | Value    |\n",
      "|------------|----------|\n",
      "| train loss | 4.406239 |\n",
      "| train acc  | 0.090436 |\n",
      "|------------|----------|\n"
     ]
    },
    {
     "name": "stderr",
     "output_type": "stream",
     "text": [
      "Training Epoch 18: 100%|████████████████████████| 66/66 [00:18<00:00,  3.48it/s]\n"
     ]
    },
    {
     "name": "stdout",
     "output_type": "stream",
     "text": [
      "|------------|----------|\n",
      "| Type       | Value    |\n",
      "|------------|----------|\n",
      "| train loss | 4.404346 |\n",
      "| train acc  | 0.092330 |\n",
      "|------------|----------|\n"
     ]
    },
    {
     "name": "stderr",
     "output_type": "stream",
     "text": [
      "Training Epoch 19: 100%|████████████████████████| 66/66 [00:18<00:00,  3.49it/s]\n"
     ]
    },
    {
     "name": "stdout",
     "output_type": "stream",
     "text": [
      "|------------|----------|\n",
      "| Type       | Value    |\n",
      "|------------|----------|\n",
      "| train loss | 4.405766 |\n",
      "| train acc  | 0.090909 |\n",
      "|------------|----------|\n"
     ]
    },
    {
     "name": "stderr",
     "output_type": "stream",
     "text": [
      "Training Epoch 20: 100%|████████████████████████| 66/66 [00:18<00:00,  3.50it/s]\n"
     ]
    },
    {
     "name": "stdout",
     "output_type": "stream",
     "text": [
      "|------------|----------|\n",
      "| Type       | Value    |\n",
      "|------------|----------|\n",
      "| train loss | 4.405293 |\n",
      "| train acc  | 0.091383 |\n",
      "|------------|----------|\n"
     ]
    },
    {
     "name": "stderr",
     "output_type": "stream",
     "text": [
      "Training Epoch 21: 100%|████████████████████████| 66/66 [00:18<00:00,  3.50it/s]\n"
     ]
    },
    {
     "name": "stdout",
     "output_type": "stream",
     "text": [
      "|------------|----------|\n",
      "| Type       | Value    |\n",
      "|------------|----------|\n",
      "| train loss | 4.405293 |\n",
      "| train acc  | 0.091383 |\n",
      "|------------|----------|\n"
     ]
    },
    {
     "name": "stderr",
     "output_type": "stream",
     "text": [
      "Training Epoch 22: 100%|████████████████████████| 66/66 [00:18<00:00,  3.51it/s]\n"
     ]
    },
    {
     "name": "stdout",
     "output_type": "stream",
     "text": [
      "|------------|----------|\n",
      "| Type       | Value    |\n",
      "|------------|----------|\n",
      "| train loss | 4.405056 |\n",
      "| train acc  | 0.091619 |\n",
      "|------------|----------|\n"
     ]
    },
    {
     "name": "stderr",
     "output_type": "stream",
     "text": [
      "Training Epoch 23: 100%|████████████████████████| 66/66 [00:18<00:00,  3.49it/s]\n"
     ]
    },
    {
     "name": "stdout",
     "output_type": "stream",
     "text": [
      "|------------|----------|\n",
      "| Type       | Value    |\n",
      "|------------|----------|\n",
      "| train loss | 4.405767 |\n",
      "| train acc  | 0.090909 |\n",
      "|------------|----------|\n"
     ]
    },
    {
     "name": "stderr",
     "output_type": "stream",
     "text": [
      "Training Epoch 24: 100%|████████████████████████| 66/66 [00:18<00:00,  3.50it/s]\n"
     ]
    },
    {
     "name": "stdout",
     "output_type": "stream",
     "text": [
      "|------------|----------|\n",
      "| Type       | Value    |\n",
      "|------------|----------|\n",
      "| train loss | 4.405293 |\n",
      "| train acc  | 0.091383 |\n",
      "|------------|----------|\n"
     ]
    },
    {
     "name": "stderr",
     "output_type": "stream",
     "text": [
      "Training Epoch 25: 100%|████████████████████████| 66/66 [00:18<00:00,  3.48it/s]\n"
     ]
    },
    {
     "name": "stdout",
     "output_type": "stream",
     "text": [
      "|------------|----------|\n",
      "| Type       | Value    |\n",
      "|------------|----------|\n",
      "| train loss | 4.405767 |\n",
      "| train acc  | 0.090909 |\n",
      "|------------|----------|\n"
     ]
    },
    {
     "name": "stderr",
     "output_type": "stream",
     "text": [
      "Training Epoch 26: 100%|████████████████████████| 66/66 [00:18<00:00,  3.49it/s]\n"
     ]
    },
    {
     "name": "stdout",
     "output_type": "stream",
     "text": [
      "|------------|----------|\n",
      "| Type       | Value    |\n",
      "|------------|----------|\n",
      "| train loss | 4.405766 |\n",
      "| train acc  | 0.090909 |\n",
      "|------------|----------|\n"
     ]
    },
    {
     "name": "stderr",
     "output_type": "stream",
     "text": [
      "Training Epoch 27: 100%|████████████████████████| 66/66 [00:18<00:00,  3.51it/s]\n"
     ]
    },
    {
     "name": "stdout",
     "output_type": "stream",
     "text": [
      "|------------|----------|\n",
      "| Type       | Value    |\n",
      "|------------|----------|\n",
      "| train loss | 4.406003 |\n",
      "| train acc  | 0.090672 |\n",
      "|------------|----------|\n"
     ]
    },
    {
     "name": "stderr",
     "output_type": "stream",
     "text": [
      "Training Epoch 28: 100%|████████████████████████| 66/66 [00:18<00:00,  3.53it/s]\n"
     ]
    },
    {
     "name": "stdout",
     "output_type": "stream",
     "text": [
      "|------------|----------|\n",
      "| Type       | Value    |\n",
      "|------------|----------|\n",
      "| train loss | 4.404109 |\n",
      "| train acc  | 0.092566 |\n",
      "|------------|----------|\n"
     ]
    },
    {
     "name": "stderr",
     "output_type": "stream",
     "text": [
      "Training Epoch 29: 100%|████████████████████████| 66/66 [00:18<00:00,  3.53it/s]\n"
     ]
    },
    {
     "name": "stdout",
     "output_type": "stream",
     "text": [
      "|------------|----------|\n",
      "| Type       | Value    |\n",
      "|------------|----------|\n",
      "| train loss | 4.404583 |\n",
      "| train acc  | 0.092093 |\n",
      "|------------|----------|\n"
     ]
    },
    {
     "name": "stderr",
     "output_type": "stream",
     "text": [
      "Training Epoch 30: 100%|████████████████████████| 66/66 [00:18<00:00,  3.48it/s]\n"
     ]
    },
    {
     "name": "stdout",
     "output_type": "stream",
     "text": [
      "|------------|----------|\n",
      "| Type       | Value    |\n",
      "|------------|----------|\n",
      "| train loss | 4.405766 |\n",
      "| train acc  | 0.090909 |\n",
      "|------------|----------|\n"
     ]
    },
    {
     "name": "stderr",
     "output_type": "stream",
     "text": [
      "Training Epoch 31: 100%|████████████████████████| 66/66 [00:18<00:00,  3.50it/s]\n"
     ]
    },
    {
     "name": "stdout",
     "output_type": "stream",
     "text": [
      "|------------|----------|\n",
      "| Type       | Value    |\n",
      "|------------|----------|\n",
      "| train loss | 4.405056 |\n",
      "| train acc  | 0.091619 |\n",
      "|------------|----------|\n"
     ]
    },
    {
     "name": "stderr",
     "output_type": "stream",
     "text": [
      "Training Epoch 32: 100%|████████████████████████| 66/66 [00:18<00:00,  3.50it/s]\n"
     ]
    },
    {
     "name": "stdout",
     "output_type": "stream",
     "text": [
      "|------------|----------|\n",
      "| Type       | Value    |\n",
      "|------------|----------|\n",
      "| train loss | 4.405057 |\n",
      "| train acc  | 0.091619 |\n",
      "|------------|----------|\n"
     ]
    },
    {
     "name": "stderr",
     "output_type": "stream",
     "text": [
      "Training Epoch 33: 100%|████████████████████████| 66/66 [00:18<00:00,  3.53it/s]\n"
     ]
    },
    {
     "name": "stdout",
     "output_type": "stream",
     "text": [
      "|------------|----------|\n",
      "| Type       | Value    |\n",
      "|------------|----------|\n",
      "| train loss | 4.404346 |\n",
      "| train acc  | 0.092330 |\n",
      "|------------|----------|\n"
     ]
    },
    {
     "name": "stderr",
     "output_type": "stream",
     "text": [
      "Training Epoch 34: 100%|████████████████████████| 66/66 [00:19<00:00,  3.44it/s]\n"
     ]
    },
    {
     "name": "stdout",
     "output_type": "stream",
     "text": [
      "|------------|----------|\n",
      "| Type       | Value    |\n",
      "|------------|----------|\n",
      "| train loss | 4.404346 |\n",
      "| train acc  | 0.092330 |\n",
      "|------------|----------|\n"
     ]
    },
    {
     "name": "stderr",
     "output_type": "stream",
     "text": [
      "Training Epoch 35: 100%|████████████████████████| 66/66 [00:18<00:00,  3.53it/s]\n"
     ]
    },
    {
     "name": "stdout",
     "output_type": "stream",
     "text": [
      "|------------|----------|\n",
      "| Type       | Value    |\n",
      "|------------|----------|\n",
      "| train loss | 4.404583 |\n",
      "| train acc  | 0.092093 |\n",
      "|------------|----------|\n"
     ]
    },
    {
     "name": "stderr",
     "output_type": "stream",
     "text": [
      "Training Epoch 36: 100%|████████████████████████| 66/66 [00:19<00:00,  3.36it/s]\n"
     ]
    },
    {
     "name": "stdout",
     "output_type": "stream",
     "text": [
      "|------------|----------|\n",
      "| Type       | Value    |\n",
      "|------------|----------|\n",
      "| train loss | 4.404583 |\n",
      "| train acc  | 0.092093 |\n",
      "|------------|----------|\n"
     ]
    },
    {
     "name": "stderr",
     "output_type": "stream",
     "text": [
      "Training Epoch 37: 100%|████████████████████████| 66/66 [00:18<00:00,  3.49it/s]\n"
     ]
    },
    {
     "name": "stdout",
     "output_type": "stream",
     "text": [
      "|------------|----------|\n",
      "| Type       | Value    |\n",
      "|------------|----------|\n",
      "| train loss | 4.405293 |\n",
      "| train acc  | 0.091383 |\n",
      "|------------|----------|\n"
     ]
    },
    {
     "name": "stderr",
     "output_type": "stream",
     "text": [
      "Training Epoch 38: 100%|████████████████████████| 66/66 [00:18<00:00,  3.51it/s]\n"
     ]
    },
    {
     "name": "stdout",
     "output_type": "stream",
     "text": [
      "|------------|----------|\n",
      "| Type       | Value    |\n",
      "|------------|----------|\n",
      "| train loss | 4.405293 |\n",
      "| train acc  | 0.091383 |\n",
      "|------------|----------|\n"
     ]
    },
    {
     "name": "stderr",
     "output_type": "stream",
     "text": [
      "Training Epoch 39: 100%|████████████████████████| 66/66 [00:18<00:00,  3.50it/s]\n"
     ]
    },
    {
     "name": "stdout",
     "output_type": "stream",
     "text": [
      "|------------|----------|\n",
      "| Type       | Value    |\n",
      "|------------|----------|\n",
      "| train loss | 4.405530 |\n",
      "| train acc  | 0.091146 |\n",
      "|------------|----------|\n"
     ]
    },
    {
     "name": "stderr",
     "output_type": "stream",
     "text": [
      "Training Epoch 40: 100%|████████████████████████| 66/66 [00:18<00:00,  3.54it/s]\n"
     ]
    },
    {
     "name": "stdout",
     "output_type": "stream",
     "text": [
      "|------------|----------|\n",
      "| Type       | Value    |\n",
      "|------------|----------|\n",
      "| train loss | 4.405293 |\n",
      "| train acc  | 0.091383 |\n",
      "|------------|----------|\n"
     ]
    },
    {
     "name": "stderr",
     "output_type": "stream",
     "text": [
      "Training Epoch 41: 100%|████████████████████████| 66/66 [00:19<00:00,  3.46it/s]\n"
     ]
    },
    {
     "name": "stdout",
     "output_type": "stream",
     "text": [
      "|------------|----------|\n",
      "| Type       | Value    |\n",
      "|------------|----------|\n",
      "| train loss | 4.406240 |\n",
      "| train acc  | 0.090436 |\n",
      "|------------|----------|\n"
     ]
    },
    {
     "name": "stderr",
     "output_type": "stream",
     "text": [
      "Training Epoch 42: 100%|████████████████████████| 66/66 [00:18<00:00,  3.57it/s]\n"
     ]
    },
    {
     "name": "stdout",
     "output_type": "stream",
     "text": [
      "|------------|----------|\n",
      "| Type       | Value    |\n",
      "|------------|----------|\n",
      "| train loss | 4.404819 |\n",
      "| train acc  | 0.091856 |\n",
      "|------------|----------|\n"
     ]
    },
    {
     "name": "stderr",
     "output_type": "stream",
     "text": [
      "Training Epoch 43: 100%|████████████████████████| 66/66 [00:19<00:00,  3.46it/s]\n"
     ]
    },
    {
     "name": "stdout",
     "output_type": "stream",
     "text": [
      "|------------|----------|\n",
      "| Type       | Value    |\n",
      "|------------|----------|\n",
      "| train loss | 4.405530 |\n",
      "| train acc  | 0.091146 |\n",
      "|------------|----------|\n"
     ]
    },
    {
     "name": "stderr",
     "output_type": "stream",
     "text": [
      "Training Epoch 44: 100%|████████████████████████| 66/66 [00:18<00:00,  3.55it/s]\n"
     ]
    },
    {
     "name": "stdout",
     "output_type": "stream",
     "text": [
      "|------------|----------|\n",
      "| Type       | Value    |\n",
      "|------------|----------|\n",
      "| train loss | 4.405530 |\n",
      "| train acc  | 0.091146 |\n",
      "|------------|----------|\n"
     ]
    },
    {
     "name": "stderr",
     "output_type": "stream",
     "text": [
      "Training Epoch 45: 100%|████████████████████████| 66/66 [00:18<00:00,  3.49it/s]\n"
     ]
    },
    {
     "name": "stdout",
     "output_type": "stream",
     "text": [
      "|------------|----------|\n",
      "| Type       | Value    |\n",
      "|------------|----------|\n",
      "| train loss | 4.405056 |\n",
      "| train acc  | 0.091619 |\n",
      "|------------|----------|\n"
     ]
    },
    {
     "name": "stderr",
     "output_type": "stream",
     "text": [
      "Training Epoch 46: 100%|████████████████████████| 66/66 [00:18<00:00,  3.53it/s]\n"
     ]
    },
    {
     "name": "stdout",
     "output_type": "stream",
     "text": [
      "|------------|----------|\n",
      "| Type       | Value    |\n",
      "|------------|----------|\n",
      "| train loss | 4.405056 |\n",
      "| train acc  | 0.091619 |\n",
      "|------------|----------|\n"
     ]
    },
    {
     "name": "stderr",
     "output_type": "stream",
     "text": [
      "Training Epoch 47: 100%|████████████████████████| 66/66 [00:18<00:00,  3.50it/s]\n"
     ]
    },
    {
     "name": "stdout",
     "output_type": "stream",
     "text": [
      "|------------|----------|\n",
      "| Type       | Value    |\n",
      "|------------|----------|\n",
      "| train loss | 4.405056 |\n",
      "| train acc  | 0.091619 |\n",
      "|------------|----------|\n"
     ]
    },
    {
     "name": "stderr",
     "output_type": "stream",
     "text": [
      "Training Epoch 48: 100%|████████████████████████| 66/66 [00:18<00:00,  3.54it/s]\n"
     ]
    },
    {
     "name": "stdout",
     "output_type": "stream",
     "text": [
      "|------------|----------|\n",
      "| Type       | Value    |\n",
      "|------------|----------|\n",
      "| train loss | 4.405768 |\n",
      "| train acc  | 0.090909 |\n",
      "|------------|----------|\n"
     ]
    },
    {
     "name": "stderr",
     "output_type": "stream",
     "text": [
      "Training Epoch 49: 100%|████████████████████████| 66/66 [00:19<00:00,  3.43it/s]\n"
     ]
    },
    {
     "name": "stdout",
     "output_type": "stream",
     "text": [
      "|------------|----------|\n",
      "| Type       | Value    |\n",
      "|------------|----------|\n",
      "| train loss | 4.405529 |\n",
      "| train acc  | 0.091146 |\n",
      "|------------|----------|\n"
     ]
    },
    {
     "name": "stderr",
     "output_type": "stream",
     "text": [
      "Training Epoch 50: 100%|████████████████████████| 66/66 [00:18<00:00,  3.52it/s]\n"
     ]
    },
    {
     "name": "stdout",
     "output_type": "stream",
     "text": [
      "|------------|----------|\n",
      "| Type       | Value    |\n",
      "|------------|----------|\n",
      "| train loss | 4.404583 |\n",
      "| train acc  | 0.092093 |\n",
      "|------------|----------|\n"
     ]
    },
    {
     "name": "stderr",
     "output_type": "stream",
     "text": [
      "Training Epoch 51: 100%|████████████████████████| 66/66 [00:18<00:00,  3.56it/s]\n"
     ]
    },
    {
     "name": "stdout",
     "output_type": "stream",
     "text": [
      "|------------|----------|\n",
      "| Type       | Value    |\n",
      "|------------|----------|\n",
      "| train loss | 4.406003 |\n",
      "| train acc  | 0.090672 |\n",
      "|------------|----------|\n"
     ]
    },
    {
     "name": "stderr",
     "output_type": "stream",
     "text": [
      "Training Epoch 52: 100%|████████████████████████| 66/66 [00:18<00:00,  3.50it/s]\n"
     ]
    },
    {
     "name": "stdout",
     "output_type": "stream",
     "text": [
      "|------------|----------|\n",
      "| Type       | Value    |\n",
      "|------------|----------|\n",
      "| train loss | 4.406241 |\n",
      "| train acc  | 0.090436 |\n",
      "|------------|----------|\n"
     ]
    },
    {
     "name": "stderr",
     "output_type": "stream",
     "text": [
      "Training Epoch 53: 100%|████████████████████████| 66/66 [00:18<00:00,  3.49it/s]\n"
     ]
    },
    {
     "name": "stdout",
     "output_type": "stream",
     "text": [
      "|------------|----------|\n",
      "| Type       | Value    |\n",
      "|------------|----------|\n",
      "| train loss | 4.405766 |\n",
      "| train acc  | 0.090909 |\n",
      "|------------|----------|\n"
     ]
    },
    {
     "name": "stderr",
     "output_type": "stream",
     "text": [
      "Training Epoch 54: 100%|████████████████████████| 66/66 [00:18<00:00,  3.58it/s]\n"
     ]
    },
    {
     "name": "stdout",
     "output_type": "stream",
     "text": [
      "|------------|----------|\n",
      "| Type       | Value    |\n",
      "|------------|----------|\n",
      "| train loss | 4.404819 |\n",
      "| train acc  | 0.091856 |\n",
      "|------------|----------|\n"
     ]
    },
    {
     "name": "stderr",
     "output_type": "stream",
     "text": [
      "Training Epoch 55: 100%|████████████████████████| 66/66 [00:18<00:00,  3.52it/s]\n"
     ]
    },
    {
     "name": "stdout",
     "output_type": "stream",
     "text": [
      "|------------|----------|\n",
      "| Type       | Value    |\n",
      "|------------|----------|\n",
      "| train loss | 4.405295 |\n",
      "| train acc  | 0.091383 |\n",
      "|------------|----------|\n"
     ]
    },
    {
     "name": "stderr",
     "output_type": "stream",
     "text": [
      "Training Epoch 56: 100%|████████████████████████| 66/66 [00:18<00:00,  3.50it/s]\n"
     ]
    },
    {
     "name": "stdout",
     "output_type": "stream",
     "text": [
      "|------------|----------|\n",
      "| Type       | Value    |\n",
      "|------------|----------|\n",
      "| train loss | 4.404582 |\n",
      "| train acc  | 0.092093 |\n",
      "|------------|----------|\n"
     ]
    },
    {
     "name": "stderr",
     "output_type": "stream",
     "text": [
      "Training Epoch 57: 100%|████████████████████████| 66/66 [00:18<00:00,  3.50it/s]\n"
     ]
    },
    {
     "name": "stdout",
     "output_type": "stream",
     "text": [
      "|------------|----------|\n",
      "| Type       | Value    |\n",
      "|------------|----------|\n",
      "| train loss | 4.405293 |\n",
      "| train acc  | 0.091383 |\n",
      "|------------|----------|\n"
     ]
    },
    {
     "name": "stderr",
     "output_type": "stream",
     "text": [
      "Training Epoch 58: 100%|████████████████████████| 66/66 [00:18<00:00,  3.56it/s]\n"
     ]
    },
    {
     "name": "stdout",
     "output_type": "stream",
     "text": [
      "|------------|----------|\n",
      "| Type       | Value    |\n",
      "|------------|----------|\n",
      "| train loss | 4.406004 |\n",
      "| train acc  | 0.090672 |\n",
      "|------------|----------|\n"
     ]
    },
    {
     "name": "stderr",
     "output_type": "stream",
     "text": [
      "Training Epoch 59: 100%|████████████████████████| 66/66 [00:18<00:00,  3.51it/s]\n"
     ]
    },
    {
     "name": "stdout",
     "output_type": "stream",
     "text": [
      "|------------|----------|\n",
      "| Type       | Value    |\n",
      "|------------|----------|\n",
      "| train loss | 4.404582 |\n",
      "| train acc  | 0.092093 |\n",
      "|------------|----------|\n"
     ]
    },
    {
     "name": "stderr",
     "output_type": "stream",
     "text": [
      "Training Epoch 60: 100%|████████████████████████| 66/66 [00:18<00:00,  3.54it/s]\n"
     ]
    },
    {
     "name": "stdout",
     "output_type": "stream",
     "text": [
      "|------------|----------|\n",
      "| Type       | Value    |\n",
      "|------------|----------|\n",
      "| train loss | 4.405530 |\n",
      "| train acc  | 0.091146 |\n",
      "|------------|----------|\n"
     ]
    },
    {
     "name": "stderr",
     "output_type": "stream",
     "text": [
      "Training Epoch 61: 100%|████████████████████████| 66/66 [00:18<00:00,  3.57it/s]\n"
     ]
    },
    {
     "name": "stdout",
     "output_type": "stream",
     "text": [
      "|------------|----------|\n",
      "| Type       | Value    |\n",
      "|------------|----------|\n",
      "| train loss | 4.405530 |\n",
      "| train acc  | 0.091146 |\n",
      "|------------|----------|\n"
     ]
    },
    {
     "name": "stderr",
     "output_type": "stream",
     "text": [
      "Training Epoch 62: 100%|████████████████████████| 66/66 [00:18<00:00,  3.51it/s]\n"
     ]
    },
    {
     "name": "stdout",
     "output_type": "stream",
     "text": [
      "|------------|----------|\n",
      "| Type       | Value    |\n",
      "|------------|----------|\n",
      "| train loss | 4.405767 |\n",
      "| train acc  | 0.090909 |\n",
      "|------------|----------|\n"
     ]
    },
    {
     "name": "stderr",
     "output_type": "stream",
     "text": [
      "Training Epoch 63: 100%|████████████████████████| 66/66 [00:18<00:00,  3.55it/s]\n"
     ]
    },
    {
     "name": "stdout",
     "output_type": "stream",
     "text": [
      "|------------|----------|\n",
      "| Type       | Value    |\n",
      "|------------|----------|\n",
      "| train loss | 4.404819 |\n",
      "| train acc  | 0.091856 |\n",
      "|------------|----------|\n"
     ]
    },
    {
     "name": "stderr",
     "output_type": "stream",
     "text": [
      "Training Epoch 64: 100%|████████████████████████| 66/66 [00:18<00:00,  3.56it/s]\n"
     ]
    },
    {
     "name": "stdout",
     "output_type": "stream",
     "text": [
      "|------------|----------|\n",
      "| Type       | Value    |\n",
      "|------------|----------|\n",
      "| train loss | 4.405056 |\n",
      "| train acc  | 0.091619 |\n",
      "|------------|----------|\n"
     ]
    },
    {
     "name": "stderr",
     "output_type": "stream",
     "text": [
      "Training Epoch 65: 100%|████████████████████████| 66/66 [00:18<00:00,  3.55it/s]\n"
     ]
    },
    {
     "name": "stdout",
     "output_type": "stream",
     "text": [
      "|------------|----------|\n",
      "| Type       | Value    |\n",
      "|------------|----------|\n",
      "| train loss | 4.405531 |\n",
      "| train acc  | 0.091146 |\n",
      "|------------|----------|\n"
     ]
    },
    {
     "name": "stderr",
     "output_type": "stream",
     "text": [
      "Training Epoch 66: 100%|████████████████████████| 66/66 [00:18<00:00,  3.55it/s]\n"
     ]
    },
    {
     "name": "stdout",
     "output_type": "stream",
     "text": [
      "|------------|----------|\n",
      "| Type       | Value    |\n",
      "|------------|----------|\n",
      "| train loss | 4.405293 |\n",
      "| train acc  | 0.091383 |\n",
      "|------------|----------|\n"
     ]
    },
    {
     "name": "stderr",
     "output_type": "stream",
     "text": [
      "Training Epoch 67: 100%|████████████████████████| 66/66 [00:18<00:00,  3.55it/s]\n"
     ]
    },
    {
     "name": "stdout",
     "output_type": "stream",
     "text": [
      "|------------|----------|\n",
      "| Type       | Value    |\n",
      "|------------|----------|\n",
      "| train loss | 4.405293 |\n",
      "| train acc  | 0.091383 |\n",
      "|------------|----------|\n"
     ]
    },
    {
     "name": "stderr",
     "output_type": "stream",
     "text": [
      "Training Epoch 68: 100%|████████████████████████| 66/66 [00:18<00:00,  3.48it/s]\n"
     ]
    },
    {
     "name": "stdout",
     "output_type": "stream",
     "text": [
      "|------------|----------|\n",
      "| Type       | Value    |\n",
      "|------------|----------|\n",
      "| train loss | 4.404583 |\n",
      "| train acc  | 0.092093 |\n",
      "|------------|----------|\n"
     ]
    },
    {
     "name": "stderr",
     "output_type": "stream",
     "text": [
      "Training Epoch 69: 100%|████████████████████████| 66/66 [00:18<00:00,  3.55it/s]\n"
     ]
    },
    {
     "name": "stdout",
     "output_type": "stream",
     "text": [
      "|------------|----------|\n",
      "| Type       | Value    |\n",
      "|------------|----------|\n",
      "| train loss | 4.406003 |\n",
      "| train acc  | 0.090672 |\n",
      "|------------|----------|\n"
     ]
    },
    {
     "name": "stderr",
     "output_type": "stream",
     "text": [
      "Training Epoch 70: 100%|████████████████████████| 66/66 [00:18<00:00,  3.55it/s]\n"
     ]
    },
    {
     "name": "stdout",
     "output_type": "stream",
     "text": [
      "|------------|----------|\n",
      "| Type       | Value    |\n",
      "|------------|----------|\n",
      "| train loss | 4.404347 |\n",
      "| train acc  | 0.092330 |\n",
      "|------------|----------|\n"
     ]
    },
    {
     "name": "stderr",
     "output_type": "stream",
     "text": [
      "Training Epoch 71: 100%|████████████████████████| 66/66 [00:18<00:00,  3.52it/s]\n"
     ]
    },
    {
     "name": "stdout",
     "output_type": "stream",
     "text": [
      "|------------|----------|\n",
      "| Type       | Value    |\n",
      "|------------|----------|\n",
      "| train loss | 4.406003 |\n",
      "| train acc  | 0.090672 |\n",
      "|------------|----------|\n"
     ]
    },
    {
     "name": "stderr",
     "output_type": "stream",
     "text": [
      "Training Epoch 72: 100%|████████████████████████| 66/66 [00:18<00:00,  3.57it/s]\n"
     ]
    },
    {
     "name": "stdout",
     "output_type": "stream",
     "text": [
      "|------------|----------|\n",
      "| Type       | Value    |\n",
      "|------------|----------|\n",
      "| train loss | 4.405293 |\n",
      "| train acc  | 0.091383 |\n",
      "|------------|----------|\n"
     ]
    },
    {
     "name": "stderr",
     "output_type": "stream",
     "text": [
      "Training Epoch 73: 100%|████████████████████████| 66/66 [00:18<00:00,  3.51it/s]\n"
     ]
    },
    {
     "name": "stdout",
     "output_type": "stream",
     "text": [
      "|------------|----------|\n",
      "| Type       | Value    |\n",
      "|------------|----------|\n",
      "| train loss | 4.405530 |\n",
      "| train acc  | 0.091146 |\n",
      "|------------|----------|\n"
     ]
    },
    {
     "name": "stderr",
     "output_type": "stream",
     "text": [
      "Training Epoch 74: 100%|████████████████████████| 66/66 [00:18<00:00,  3.49it/s]\n"
     ]
    },
    {
     "name": "stdout",
     "output_type": "stream",
     "text": [
      "|------------|----------|\n",
      "| Type       | Value    |\n",
      "|------------|----------|\n",
      "| train loss | 4.405293 |\n",
      "| train acc  | 0.091383 |\n",
      "|------------|----------|\n"
     ]
    },
    {
     "name": "stderr",
     "output_type": "stream",
     "text": [
      "Training Epoch 75: 100%|████████████████████████| 66/66 [00:18<00:00,  3.52it/s]\n"
     ]
    },
    {
     "name": "stdout",
     "output_type": "stream",
     "text": [
      "|------------|----------|\n",
      "| Type       | Value    |\n",
      "|------------|----------|\n",
      "| train loss | 4.405295 |\n",
      "| train acc  | 0.091383 |\n",
      "|------------|----------|\n"
     ]
    },
    {
     "name": "stderr",
     "output_type": "stream",
     "text": [
      "Training Epoch 76: 100%|████████████████████████| 66/66 [00:18<00:00,  3.56it/s]\n"
     ]
    },
    {
     "name": "stdout",
     "output_type": "stream",
     "text": [
      "|------------|----------|\n",
      "| Type       | Value    |\n",
      "|------------|----------|\n",
      "| train loss | 4.405057 |\n",
      "| train acc  | 0.091619 |\n",
      "|------------|----------|\n"
     ]
    },
    {
     "name": "stderr",
     "output_type": "stream",
     "text": [
      "Training Epoch 77: 100%|████████████████████████| 66/66 [00:18<00:00,  3.57it/s]\n"
     ]
    },
    {
     "name": "stdout",
     "output_type": "stream",
     "text": [
      "|------------|----------|\n",
      "| Type       | Value    |\n",
      "|------------|----------|\n",
      "| train loss | 4.405530 |\n",
      "| train acc  | 0.091146 |\n",
      "|------------|----------|\n"
     ]
    },
    {
     "name": "stderr",
     "output_type": "stream",
     "text": [
      "Training Epoch 78: 100%|████████████████████████| 66/66 [00:18<00:00,  3.61it/s]\n"
     ]
    },
    {
     "name": "stdout",
     "output_type": "stream",
     "text": [
      "|------------|----------|\n",
      "| Type       | Value    |\n",
      "|------------|----------|\n",
      "| train loss | 4.404109 |\n",
      "| train acc  | 0.092566 |\n",
      "|------------|----------|\n"
     ]
    },
    {
     "name": "stderr",
     "output_type": "stream",
     "text": [
      "Training Epoch 79: 100%|████████████████████████| 66/66 [00:18<00:00,  3.53it/s]\n"
     ]
    },
    {
     "name": "stdout",
     "output_type": "stream",
     "text": [
      "|------------|----------|\n",
      "| Type       | Value    |\n",
      "|------------|----------|\n",
      "| train loss | 4.404583 |\n",
      "| train acc  | 0.092093 |\n",
      "|------------|----------|\n"
     ]
    },
    {
     "name": "stderr",
     "output_type": "stream",
     "text": [
      "Training Epoch 80: 100%|████████████████████████| 66/66 [00:18<00:00,  3.51it/s]\n"
     ]
    },
    {
     "name": "stdout",
     "output_type": "stream",
     "text": [
      "|------------|----------|\n",
      "| Type       | Value    |\n",
      "|------------|----------|\n",
      "| train loss | 4.405766 |\n",
      "| train acc  | 0.090909 |\n",
      "|------------|----------|\n"
     ]
    },
    {
     "name": "stderr",
     "output_type": "stream",
     "text": [
      "Training Epoch 81: 100%|████████████████████████| 66/66 [00:18<00:00,  3.57it/s]\n"
     ]
    },
    {
     "name": "stdout",
     "output_type": "stream",
     "text": [
      "|------------|----------|\n",
      "| Type       | Value    |\n",
      "|------------|----------|\n",
      "| train loss | 4.405767 |\n",
      "| train acc  | 0.090909 |\n",
      "|------------|----------|\n"
     ]
    },
    {
     "name": "stderr",
     "output_type": "stream",
     "text": [
      "Training Epoch 82: 100%|████████████████████████| 66/66 [00:18<00:00,  3.50it/s]\n"
     ]
    },
    {
     "name": "stdout",
     "output_type": "stream",
     "text": [
      "|------------|----------|\n",
      "| Type       | Value    |\n",
      "|------------|----------|\n",
      "| train loss | 4.406003 |\n",
      "| train acc  | 0.090672 |\n",
      "|------------|----------|\n"
     ]
    },
    {
     "name": "stderr",
     "output_type": "stream",
     "text": [
      "Training Epoch 83: 100%|████████████████████████| 66/66 [00:18<00:00,  3.53it/s]\n"
     ]
    },
    {
     "name": "stdout",
     "output_type": "stream",
     "text": [
      "|------------|----------|\n",
      "| Type       | Value    |\n",
      "|------------|----------|\n",
      "| train loss | 4.404583 |\n",
      "| train acc  | 0.092093 |\n",
      "|------------|----------|\n"
     ]
    },
    {
     "name": "stderr",
     "output_type": "stream",
     "text": [
      "Training Epoch 84: 100%|████████████████████████| 66/66 [00:18<00:00,  3.53it/s]\n"
     ]
    },
    {
     "name": "stdout",
     "output_type": "stream",
     "text": [
      "|------------|----------|\n",
      "| Type       | Value    |\n",
      "|------------|----------|\n",
      "| train loss | 4.405293 |\n",
      "| train acc  | 0.091383 |\n",
      "|------------|----------|\n"
     ]
    },
    {
     "name": "stderr",
     "output_type": "stream",
     "text": [
      "Training Epoch 85: 100%|████████████████████████| 66/66 [00:18<00:00,  3.50it/s]\n"
     ]
    },
    {
     "name": "stdout",
     "output_type": "stream",
     "text": [
      "|------------|----------|\n",
      "| Type       | Value    |\n",
      "|------------|----------|\n",
      "| train loss | 4.404583 |\n",
      "| train acc  | 0.092093 |\n",
      "|------------|----------|\n"
     ]
    },
    {
     "name": "stderr",
     "output_type": "stream",
     "text": [
      "Training Epoch 86: 100%|████████████████████████| 66/66 [00:18<00:00,  3.56it/s]\n"
     ]
    },
    {
     "name": "stdout",
     "output_type": "stream",
     "text": [
      "|------------|----------|\n",
      "| Type       | Value    |\n",
      "|------------|----------|\n",
      "| train loss | 4.404820 |\n",
      "| train acc  | 0.091856 |\n",
      "|------------|----------|\n"
     ]
    },
    {
     "name": "stderr",
     "output_type": "stream",
     "text": [
      "Training Epoch 87: 100%|████████████████████████| 66/66 [00:18<00:00,  3.53it/s]\n"
     ]
    },
    {
     "name": "stdout",
     "output_type": "stream",
     "text": [
      "|------------|----------|\n",
      "| Type       | Value    |\n",
      "|------------|----------|\n",
      "| train loss | 4.405057 |\n",
      "| train acc  | 0.091619 |\n",
      "|------------|----------|\n"
     ]
    },
    {
     "name": "stderr",
     "output_type": "stream",
     "text": [
      "Training Epoch 88: 100%|████████████████████████| 66/66 [00:18<00:00,  3.54it/s]\n"
     ]
    },
    {
     "name": "stdout",
     "output_type": "stream",
     "text": [
      "|------------|----------|\n",
      "| Type       | Value    |\n",
      "|------------|----------|\n",
      "| train loss | 4.406003 |\n",
      "| train acc  | 0.090672 |\n",
      "|------------|----------|\n"
     ]
    },
    {
     "name": "stderr",
     "output_type": "stream",
     "text": [
      "Training Epoch 89: 100%|████████████████████████| 66/66 [00:19<00:00,  3.47it/s]\n"
     ]
    },
    {
     "name": "stdout",
     "output_type": "stream",
     "text": [
      "|------------|----------|\n",
      "| Type       | Value    |\n",
      "|------------|----------|\n",
      "| train loss | 4.404583 |\n",
      "| train acc  | 0.092093 |\n",
      "|------------|----------|\n"
     ]
    },
    {
     "name": "stderr",
     "output_type": "stream",
     "text": [
      "Training Epoch 90: 100%|████████████████████████| 66/66 [00:18<00:00,  3.57it/s]\n"
     ]
    },
    {
     "name": "stdout",
     "output_type": "stream",
     "text": [
      "|------------|----------|\n",
      "| Type       | Value    |\n",
      "|------------|----------|\n",
      "| train loss | 4.405293 |\n",
      "| train acc  | 0.091383 |\n",
      "|------------|----------|\n"
     ]
    },
    {
     "name": "stderr",
     "output_type": "stream",
     "text": [
      "Training Epoch 91: 100%|████████████████████████| 66/66 [00:18<00:00,  3.49it/s]\n"
     ]
    },
    {
     "name": "stdout",
     "output_type": "stream",
     "text": [
      "|------------|----------|\n",
      "| Type       | Value    |\n",
      "|------------|----------|\n",
      "| train loss | 4.404820 |\n",
      "| train acc  | 0.091856 |\n",
      "|------------|----------|\n"
     ]
    },
    {
     "name": "stderr",
     "output_type": "stream",
     "text": [
      "Training Epoch 92: 100%|████████████████████████| 66/66 [00:18<00:00,  3.48it/s]\n"
     ]
    },
    {
     "name": "stdout",
     "output_type": "stream",
     "text": [
      "|------------|----------|\n",
      "| Type       | Value    |\n",
      "|------------|----------|\n",
      "| train loss | 4.405058 |\n",
      "| train acc  | 0.091619 |\n",
      "|------------|----------|\n"
     ]
    },
    {
     "name": "stderr",
     "output_type": "stream",
     "text": [
      "Training Epoch 93: 100%|████████████████████████| 66/66 [00:18<00:00,  3.57it/s]\n"
     ]
    },
    {
     "name": "stdout",
     "output_type": "stream",
     "text": [
      "|------------|----------|\n",
      "| Type       | Value    |\n",
      "|------------|----------|\n",
      "| train loss | 4.406478 |\n",
      "| train acc  | 0.090199 |\n",
      "|------------|----------|\n"
     ]
    },
    {
     "name": "stderr",
     "output_type": "stream",
     "text": [
      "Training Epoch 94: 100%|████████████████████████| 66/66 [00:18<00:00,  3.51it/s]\n"
     ]
    },
    {
     "name": "stdout",
     "output_type": "stream",
     "text": [
      "|------------|----------|\n",
      "| Type       | Value    |\n",
      "|------------|----------|\n",
      "| train loss | 4.405530 |\n",
      "| train acc  | 0.091146 |\n",
      "|------------|----------|\n"
     ]
    },
    {
     "name": "stderr",
     "output_type": "stream",
     "text": [
      "Training Epoch 95: 100%|████████████████████████| 66/66 [00:18<00:00,  3.52it/s]\n"
     ]
    },
    {
     "name": "stdout",
     "output_type": "stream",
     "text": [
      "|------------|----------|\n",
      "| Type       | Value    |\n",
      "|------------|----------|\n",
      "| train loss | 4.406003 |\n",
      "| train acc  | 0.090672 |\n",
      "|------------|----------|\n"
     ]
    },
    {
     "name": "stderr",
     "output_type": "stream",
     "text": [
      "Training Epoch 96: 100%|████████████████████████| 66/66 [00:18<00:00,  3.48it/s]\n"
     ]
    },
    {
     "name": "stdout",
     "output_type": "stream",
     "text": [
      "|------------|----------|\n",
      "| Type       | Value    |\n",
      "|------------|----------|\n",
      "| train loss | 4.404583 |\n",
      "| train acc  | 0.092093 |\n",
      "|------------|----------|\n"
     ]
    },
    {
     "name": "stderr",
     "output_type": "stream",
     "text": [
      "Training Epoch 97: 100%|████████████████████████| 66/66 [00:18<00:00,  3.54it/s]\n"
     ]
    },
    {
     "name": "stdout",
     "output_type": "stream",
     "text": [
      "|------------|----------|\n",
      "| Type       | Value    |\n",
      "|------------|----------|\n",
      "| train loss | 4.405056 |\n",
      "| train acc  | 0.091619 |\n",
      "|------------|----------|\n"
     ]
    },
    {
     "name": "stderr",
     "output_type": "stream",
     "text": [
      "Training Epoch 98: 100%|████████████████████████| 66/66 [00:18<00:00,  3.52it/s]\n"
     ]
    },
    {
     "name": "stdout",
     "output_type": "stream",
     "text": [
      "|------------|----------|\n",
      "| Type       | Value    |\n",
      "|------------|----------|\n",
      "| train loss | 4.405056 |\n",
      "| train acc  | 0.091619 |\n",
      "|------------|----------|\n"
     ]
    },
    {
     "name": "stderr",
     "output_type": "stream",
     "text": [
      "Training Epoch 99: 100%|████████████████████████| 66/66 [00:18<00:00,  3.52it/s]\n"
     ]
    },
    {
     "name": "stdout",
     "output_type": "stream",
     "text": [
      "|------------|----------|\n",
      "| Type       | Value    |\n",
      "|------------|----------|\n",
      "| train loss | 4.405057 |\n",
      "| train acc  | 0.091619 |\n",
      "|------------|----------|\n"
     ]
    },
    {
     "name": "stderr",
     "output_type": "stream",
     "text": [
      "Training Epoch 100: 100%|███████████████████████| 66/66 [00:18<00:00,  3.56it/s]\n"
     ]
    },
    {
     "name": "stdout",
     "output_type": "stream",
     "text": [
      "|------------|----------|\n",
      "| Type       | Value    |\n",
      "|------------|----------|\n",
      "| train loss | 4.405530 |\n",
      "| train acc  | 0.091146 |\n",
      "|------------|----------|\n"
     ]
    },
    {
     "name": "stderr",
     "output_type": "stream",
     "text": [
      "Training Epoch 101: 100%|███████████████████████| 66/66 [00:18<00:00,  3.50it/s]\n"
     ]
    },
    {
     "name": "stdout",
     "output_type": "stream",
     "text": [
      "|------------|----------|\n",
      "| Type       | Value    |\n",
      "|------------|----------|\n",
      "| train loss | 4.405293 |\n",
      "| train acc  | 0.091383 |\n",
      "|------------|----------|\n"
     ]
    },
    {
     "name": "stderr",
     "output_type": "stream",
     "text": [
      "Training Epoch 102: 100%|███████████████████████| 66/66 [00:18<00:00,  3.59it/s]\n"
     ]
    },
    {
     "name": "stdout",
     "output_type": "stream",
     "text": [
      "|------------|----------|\n",
      "| Type       | Value    |\n",
      "|------------|----------|\n",
      "| train loss | 4.405293 |\n",
      "| train acc  | 0.091383 |\n",
      "|------------|----------|\n"
     ]
    },
    {
     "name": "stderr",
     "output_type": "stream",
     "text": [
      "Training Epoch 103: 100%|███████████████████████| 66/66 [00:18<00:00,  3.53it/s]\n"
     ]
    },
    {
     "name": "stdout",
     "output_type": "stream",
     "text": [
      "|------------|----------|\n",
      "| Type       | Value    |\n",
      "|------------|----------|\n",
      "| train loss | 4.404583 |\n",
      "| train acc  | 0.092093 |\n",
      "|------------|----------|\n"
     ]
    },
    {
     "name": "stderr",
     "output_type": "stream",
     "text": [
      "Training Epoch 104: 100%|███████████████████████| 66/66 [00:18<00:00,  3.49it/s]\n"
     ]
    },
    {
     "name": "stdout",
     "output_type": "stream",
     "text": [
      "|------------|----------|\n",
      "| Type       | Value    |\n",
      "|------------|----------|\n",
      "| train loss | 4.405766 |\n",
      "| train acc  | 0.090909 |\n",
      "|------------|----------|\n"
     ]
    },
    {
     "name": "stderr",
     "output_type": "stream",
     "text": [
      "Training Epoch 105: 100%|███████████████████████| 66/66 [00:18<00:00,  3.53it/s]\n"
     ]
    },
    {
     "name": "stdout",
     "output_type": "stream",
     "text": [
      "|------------|----------|\n",
      "| Type       | Value    |\n",
      "|------------|----------|\n",
      "| train loss | 4.404109 |\n",
      "| train acc  | 0.092566 |\n",
      "|------------|----------|\n"
     ]
    },
    {
     "name": "stderr",
     "output_type": "stream",
     "text": [
      "Training Epoch 106: 100%|███████████████████████| 66/66 [00:18<00:00,  3.56it/s]\n"
     ]
    },
    {
     "name": "stdout",
     "output_type": "stream",
     "text": [
      "|------------|----------|\n",
      "| Type       | Value    |\n",
      "|------------|----------|\n",
      "| train loss | 4.404820 |\n",
      "| train acc  | 0.091856 |\n",
      "|------------|----------|\n"
     ]
    },
    {
     "name": "stderr",
     "output_type": "stream",
     "text": [
      "Training Epoch 107: 100%|███████████████████████| 66/66 [00:18<00:00,  3.53it/s]\n"
     ]
    },
    {
     "name": "stdout",
     "output_type": "stream",
     "text": [
      "|------------|----------|\n",
      "| Type       | Value    |\n",
      "|------------|----------|\n",
      "| train loss | 4.404820 |\n",
      "| train acc  | 0.091856 |\n",
      "|------------|----------|\n"
     ]
    },
    {
     "name": "stderr",
     "output_type": "stream",
     "text": [
      "Training Epoch 108: 100%|███████████████████████| 66/66 [00:18<00:00,  3.52it/s]\n"
     ]
    },
    {
     "name": "stdout",
     "output_type": "stream",
     "text": [
      "|------------|----------|\n",
      "| Type       | Value    |\n",
      "|------------|----------|\n",
      "| train loss | 4.405293 |\n",
      "| train acc  | 0.091383 |\n",
      "|------------|----------|\n"
     ]
    },
    {
     "name": "stderr",
     "output_type": "stream",
     "text": [
      "Training Epoch 109: 100%|███████████████████████| 66/66 [00:18<00:00,  3.52it/s]\n"
     ]
    },
    {
     "name": "stdout",
     "output_type": "stream",
     "text": [
      "|------------|----------|\n",
      "| Type       | Value    |\n",
      "|------------|----------|\n",
      "| train loss | 4.404821 |\n",
      "| train acc  | 0.091856 |\n",
      "|------------|----------|\n"
     ]
    },
    {
     "name": "stderr",
     "output_type": "stream",
     "text": [
      "Training Epoch 110: 100%|███████████████████████| 66/66 [00:18<00:00,  3.49it/s]\n"
     ]
    },
    {
     "name": "stdout",
     "output_type": "stream",
     "text": [
      "|------------|----------|\n",
      "| Type       | Value    |\n",
      "|------------|----------|\n",
      "| train loss | 4.404819 |\n",
      "| train acc  | 0.091856 |\n",
      "|------------|----------|\n"
     ]
    },
    {
     "name": "stderr",
     "output_type": "stream",
     "text": [
      "Training Epoch 111: 100%|███████████████████████| 66/66 [00:18<00:00,  3.51it/s]\n"
     ]
    },
    {
     "name": "stdout",
     "output_type": "stream",
     "text": [
      "|------------|----------|\n",
      "| Type       | Value    |\n",
      "|------------|----------|\n",
      "| train loss | 4.404583 |\n",
      "| train acc  | 0.092093 |\n",
      "|------------|----------|\n"
     ]
    },
    {
     "name": "stderr",
     "output_type": "stream",
     "text": [
      "Training Epoch 112: 100%|███████████████████████| 66/66 [00:18<00:00,  3.57it/s]\n"
     ]
    },
    {
     "name": "stdout",
     "output_type": "stream",
     "text": [
      "|------------|----------|\n",
      "| Type       | Value    |\n",
      "|------------|----------|\n",
      "| train loss | 4.404819 |\n",
      "| train acc  | 0.091856 |\n",
      "|------------|----------|\n"
     ]
    },
    {
     "name": "stderr",
     "output_type": "stream",
     "text": [
      "Training Epoch 113: 100%|███████████████████████| 66/66 [00:18<00:00,  3.56it/s]\n"
     ]
    },
    {
     "name": "stdout",
     "output_type": "stream",
     "text": [
      "|------------|----------|\n",
      "| Type       | Value    |\n",
      "|------------|----------|\n",
      "| train loss | 4.405293 |\n",
      "| train acc  | 0.091383 |\n",
      "|------------|----------|\n"
     ]
    },
    {
     "name": "stderr",
     "output_type": "stream",
     "text": [
      "Training Epoch 114: 100%|███████████████████████| 66/66 [00:18<00:00,  3.56it/s]\n"
     ]
    },
    {
     "name": "stdout",
     "output_type": "stream",
     "text": [
      "|------------|----------|\n",
      "| Type       | Value    |\n",
      "|------------|----------|\n",
      "| train loss | 4.404820 |\n",
      "| train acc  | 0.091856 |\n",
      "|------------|----------|\n"
     ]
    },
    {
     "name": "stderr",
     "output_type": "stream",
     "text": [
      "Training Epoch 115: 100%|███████████████████████| 66/66 [00:18<00:00,  3.52it/s]\n"
     ]
    },
    {
     "name": "stdout",
     "output_type": "stream",
     "text": [
      "|------------|----------|\n",
      "| Type       | Value    |\n",
      "|------------|----------|\n",
      "| train loss | 4.406240 |\n",
      "| train acc  | 0.090436 |\n",
      "|------------|----------|\n"
     ]
    },
    {
     "name": "stderr",
     "output_type": "stream",
     "text": [
      "Training Epoch 116: 100%|███████████████████████| 66/66 [00:18<00:00,  3.53it/s]\n"
     ]
    },
    {
     "name": "stdout",
     "output_type": "stream",
     "text": [
      "|------------|----------|\n",
      "| Type       | Value    |\n",
      "|------------|----------|\n",
      "| train loss | 4.404820 |\n",
      "| train acc  | 0.091856 |\n",
      "|------------|----------|\n"
     ]
    },
    {
     "name": "stderr",
     "output_type": "stream",
     "text": [
      "Training Epoch 117: 100%|███████████████████████| 66/66 [00:18<00:00,  3.55it/s]\n"
     ]
    },
    {
     "name": "stdout",
     "output_type": "stream",
     "text": [
      "|------------|----------|\n",
      "| Type       | Value    |\n",
      "|------------|----------|\n",
      "| train loss | 4.405057 |\n",
      "| train acc  | 0.091619 |\n",
      "|------------|----------|\n"
     ]
    },
    {
     "name": "stderr",
     "output_type": "stream",
     "text": [
      "Training Epoch 118: 100%|███████████████████████| 66/66 [00:18<00:00,  3.50it/s]\n"
     ]
    },
    {
     "name": "stdout",
     "output_type": "stream",
     "text": [
      "|------------|----------|\n",
      "| Type       | Value    |\n",
      "|------------|----------|\n",
      "| train loss | 4.404819 |\n",
      "| train acc  | 0.091856 |\n",
      "|------------|----------|\n"
     ]
    },
    {
     "name": "stderr",
     "output_type": "stream",
     "text": [
      "Training Epoch 119: 100%|███████████████████████| 66/66 [00:18<00:00,  3.52it/s]\n"
     ]
    },
    {
     "name": "stdout",
     "output_type": "stream",
     "text": [
      "|------------|----------|\n",
      "| Type       | Value    |\n",
      "|------------|----------|\n",
      "| train loss | 4.406241 |\n",
      "| train acc  | 0.090436 |\n",
      "|------------|----------|\n"
     ]
    },
    {
     "name": "stderr",
     "output_type": "stream",
     "text": [
      "Training Epoch 120: 100%|███████████████████████| 66/66 [00:18<00:00,  3.54it/s]\n"
     ]
    },
    {
     "name": "stdout",
     "output_type": "stream",
     "text": [
      "|------------|----------|\n",
      "| Type       | Value    |\n",
      "|------------|----------|\n",
      "| train loss | 4.405056 |\n",
      "| train acc  | 0.091619 |\n",
      "|------------|----------|\n"
     ]
    },
    {
     "name": "stderr",
     "output_type": "stream",
     "text": [
      "Training Epoch 121: 100%|███████████████████████| 66/66 [00:18<00:00,  3.50it/s]\n"
     ]
    },
    {
     "name": "stdout",
     "output_type": "stream",
     "text": [
      "|------------|----------|\n",
      "| Type       | Value    |\n",
      "|------------|----------|\n",
      "| train loss | 4.405766 |\n",
      "| train acc  | 0.090909 |\n",
      "|------------|----------|\n"
     ]
    },
    {
     "name": "stderr",
     "output_type": "stream",
     "text": [
      "Training Epoch 122: 100%|███████████████████████| 66/66 [00:19<00:00,  3.47it/s]\n"
     ]
    },
    {
     "name": "stdout",
     "output_type": "stream",
     "text": [
      "|------------|----------|\n",
      "| Type       | Value    |\n",
      "|------------|----------|\n",
      "| train loss | 4.404347 |\n",
      "| train acc  | 0.092330 |\n",
      "|------------|----------|\n"
     ]
    },
    {
     "name": "stderr",
     "output_type": "stream",
     "text": [
      "Training Epoch 123: 100%|███████████████████████| 66/66 [00:18<00:00,  3.47it/s]\n"
     ]
    },
    {
     "name": "stdout",
     "output_type": "stream",
     "text": [
      "|------------|----------|\n",
      "| Type       | Value    |\n",
      "|------------|----------|\n",
      "| train loss | 4.405056 |\n",
      "| train acc  | 0.091619 |\n",
      "|------------|----------|\n"
     ]
    },
    {
     "name": "stderr",
     "output_type": "stream",
     "text": [
      "Training Epoch 124: 100%|███████████████████████| 66/66 [00:18<00:00,  3.58it/s]\n"
     ]
    },
    {
     "name": "stdout",
     "output_type": "stream",
     "text": [
      "|------------|----------|\n",
      "| Type       | Value    |\n",
      "|------------|----------|\n",
      "| train loss | 4.405056 |\n",
      "| train acc  | 0.091619 |\n",
      "|------------|----------|\n"
     ]
    },
    {
     "name": "stderr",
     "output_type": "stream",
     "text": [
      "Training Epoch 125: 100%|███████████████████████| 66/66 [00:18<00:00,  3.55it/s]\n"
     ]
    },
    {
     "name": "stdout",
     "output_type": "stream",
     "text": [
      "|------------|----------|\n",
      "| Type       | Value    |\n",
      "|------------|----------|\n",
      "| train loss | 4.404819 |\n",
      "| train acc  | 0.091856 |\n",
      "|------------|----------|\n"
     ]
    },
    {
     "name": "stderr",
     "output_type": "stream",
     "text": [
      "Training Epoch 126: 100%|███████████████████████| 66/66 [00:18<00:00,  3.53it/s]\n"
     ]
    },
    {
     "name": "stdout",
     "output_type": "stream",
     "text": [
      "|------------|----------|\n",
      "| Type       | Value    |\n",
      "|------------|----------|\n",
      "| train loss | 4.404820 |\n",
      "| train acc  | 0.091856 |\n",
      "|------------|----------|\n"
     ]
    },
    {
     "name": "stderr",
     "output_type": "stream",
     "text": [
      "Training Epoch 127: 100%|███████████████████████| 66/66 [00:18<00:00,  3.50it/s]\n"
     ]
    },
    {
     "name": "stdout",
     "output_type": "stream",
     "text": [
      "|------------|----------|\n",
      "| Type       | Value    |\n",
      "|------------|----------|\n",
      "| train loss | 4.405056 |\n",
      "| train acc  | 0.091619 |\n",
      "|------------|----------|\n"
     ]
    },
    {
     "name": "stderr",
     "output_type": "stream",
     "text": [
      "Training Epoch 128: 100%|███████████████████████| 66/66 [00:18<00:00,  3.53it/s]\n"
     ]
    },
    {
     "name": "stdout",
     "output_type": "stream",
     "text": [
      "|------------|----------|\n",
      "| Type       | Value    |\n",
      "|------------|----------|\n",
      "| train loss | 4.405293 |\n",
      "| train acc  | 0.091383 |\n",
      "|------------|----------|\n"
     ]
    },
    {
     "name": "stderr",
     "output_type": "stream",
     "text": [
      "Training Epoch 129: 100%|███████████████████████| 66/66 [00:18<00:00,  3.49it/s]\n"
     ]
    },
    {
     "name": "stdout",
     "output_type": "stream",
     "text": [
      "|------------|----------|\n",
      "| Type       | Value    |\n",
      "|------------|----------|\n",
      "| train loss | 4.404583 |\n",
      "| train acc  | 0.092093 |\n",
      "|------------|----------|\n"
     ]
    },
    {
     "name": "stderr",
     "output_type": "stream",
     "text": [
      "Training Epoch 130: 100%|███████████████████████| 66/66 [00:18<00:00,  3.54it/s]\n"
     ]
    },
    {
     "name": "stdout",
     "output_type": "stream",
     "text": [
      "|------------|----------|\n",
      "| Type       | Value    |\n",
      "|------------|----------|\n",
      "| train loss | 4.405766 |\n",
      "| train acc  | 0.090909 |\n",
      "|------------|----------|\n"
     ]
    },
    {
     "name": "stderr",
     "output_type": "stream",
     "text": [
      "Training Epoch 131: 100%|███████████████████████| 66/66 [00:18<00:00,  3.54it/s]\n"
     ]
    },
    {
     "name": "stdout",
     "output_type": "stream",
     "text": [
      "|------------|----------|\n",
      "| Type       | Value    |\n",
      "|------------|----------|\n",
      "| train loss | 4.404819 |\n",
      "| train acc  | 0.091856 |\n",
      "|------------|----------|\n"
     ]
    },
    {
     "name": "stderr",
     "output_type": "stream",
     "text": [
      "Training Epoch 132: 100%|███████████████████████| 66/66 [00:18<00:00,  3.55it/s]\n"
     ]
    },
    {
     "name": "stdout",
     "output_type": "stream",
     "text": [
      "|------------|----------|\n",
      "| Type       | Value    |\n",
      "|------------|----------|\n",
      "| train loss | 4.405056 |\n",
      "| train acc  | 0.091619 |\n",
      "|------------|----------|\n"
     ]
    },
    {
     "name": "stderr",
     "output_type": "stream",
     "text": [
      "Training Epoch 133: 100%|███████████████████████| 66/66 [00:18<00:00,  3.54it/s]\n"
     ]
    },
    {
     "name": "stdout",
     "output_type": "stream",
     "text": [
      "|------------|----------|\n",
      "| Type       | Value    |\n",
      "|------------|----------|\n",
      "| train loss | 4.405293 |\n",
      "| train acc  | 0.091383 |\n",
      "|------------|----------|\n"
     ]
    },
    {
     "name": "stderr",
     "output_type": "stream",
     "text": [
      "Training Epoch 134: 100%|███████████████████████| 66/66 [00:18<00:00,  3.53it/s]\n"
     ]
    },
    {
     "name": "stdout",
     "output_type": "stream",
     "text": [
      "|------------|----------|\n",
      "| Type       | Value    |\n",
      "|------------|----------|\n",
      "| train loss | 4.406003 |\n",
      "| train acc  | 0.090672 |\n",
      "|------------|----------|\n"
     ]
    },
    {
     "name": "stderr",
     "output_type": "stream",
     "text": [
      "Training Epoch 135: 100%|███████████████████████| 66/66 [00:18<00:00,  3.55it/s]\n"
     ]
    },
    {
     "name": "stdout",
     "output_type": "stream",
     "text": [
      "|------------|----------|\n",
      "| Type       | Value    |\n",
      "|------------|----------|\n",
      "| train loss | 4.405766 |\n",
      "| train acc  | 0.090909 |\n",
      "|------------|----------|\n"
     ]
    },
    {
     "name": "stderr",
     "output_type": "stream",
     "text": [
      "Training Epoch 136: 100%|███████████████████████| 66/66 [00:18<00:00,  3.57it/s]\n"
     ]
    },
    {
     "name": "stdout",
     "output_type": "stream",
     "text": [
      "|------------|----------|\n",
      "| Type       | Value    |\n",
      "|------------|----------|\n",
      "| train loss | 4.405530 |\n",
      "| train acc  | 0.091146 |\n",
      "|------------|----------|\n"
     ]
    },
    {
     "name": "stderr",
     "output_type": "stream",
     "text": [
      "Training Epoch 137: 100%|███████████████████████| 66/66 [00:18<00:00,  3.50it/s]\n"
     ]
    },
    {
     "name": "stdout",
     "output_type": "stream",
     "text": [
      "|------------|----------|\n",
      "| Type       | Value    |\n",
      "|------------|----------|\n",
      "| train loss | 4.405293 |\n",
      "| train acc  | 0.091383 |\n",
      "|------------|----------|\n"
     ]
    },
    {
     "name": "stderr",
     "output_type": "stream",
     "text": [
      "Training Epoch 138: 100%|███████████████████████| 66/66 [00:19<00:00,  3.44it/s]\n"
     ]
    },
    {
     "name": "stdout",
     "output_type": "stream",
     "text": [
      "|------------|----------|\n",
      "| Type       | Value    |\n",
      "|------------|----------|\n",
      "| train loss | 4.405056 |\n",
      "| train acc  | 0.091619 |\n",
      "|------------|----------|\n"
     ]
    },
    {
     "name": "stderr",
     "output_type": "stream",
     "text": [
      "Training Epoch 139: 100%|███████████████████████| 66/66 [00:18<00:00,  3.53it/s]\n"
     ]
    },
    {
     "name": "stdout",
     "output_type": "stream",
     "text": [
      "|------------|----------|\n",
      "| Type       | Value    |\n",
      "|------------|----------|\n",
      "| train loss | 4.404820 |\n",
      "| train acc  | 0.091856 |\n",
      "|------------|----------|\n"
     ]
    },
    {
     "name": "stderr",
     "output_type": "stream",
     "text": [
      "Training Epoch 140: 100%|███████████████████████| 66/66 [00:18<00:00,  3.57it/s]\n"
     ]
    },
    {
     "name": "stdout",
     "output_type": "stream",
     "text": [
      "|------------|----------|\n",
      "| Type       | Value    |\n",
      "|------------|----------|\n",
      "| train loss | 4.405293 |\n",
      "| train acc  | 0.091383 |\n",
      "|------------|----------|\n"
     ]
    },
    {
     "name": "stderr",
     "output_type": "stream",
     "text": [
      "Training Epoch 141: 100%|███████████████████████| 66/66 [00:18<00:00,  3.56it/s]\n"
     ]
    },
    {
     "name": "stdout",
     "output_type": "stream",
     "text": [
      "|------------|----------|\n",
      "| Type       | Value    |\n",
      "|------------|----------|\n",
      "| train loss | 4.404347 |\n",
      "| train acc  | 0.092330 |\n",
      "|------------|----------|\n"
     ]
    },
    {
     "name": "stderr",
     "output_type": "stream",
     "text": [
      "Training Epoch 142: 100%|███████████████████████| 66/66 [00:18<00:00,  3.55it/s]\n"
     ]
    },
    {
     "name": "stdout",
     "output_type": "stream",
     "text": [
      "|------------|----------|\n",
      "| Type       | Value    |\n",
      "|------------|----------|\n",
      "| train loss | 4.405293 |\n",
      "| train acc  | 0.091383 |\n",
      "|------------|----------|\n"
     ]
    },
    {
     "name": "stderr",
     "output_type": "stream",
     "text": [
      "Training Epoch 143: 100%|███████████████████████| 66/66 [00:18<00:00,  3.57it/s]\n"
     ]
    },
    {
     "name": "stdout",
     "output_type": "stream",
     "text": [
      "|------------|----------|\n",
      "| Type       | Value    |\n",
      "|------------|----------|\n",
      "| train loss | 4.405056 |\n",
      "| train acc  | 0.091619 |\n",
      "|------------|----------|\n"
     ]
    },
    {
     "name": "stderr",
     "output_type": "stream",
     "text": [
      "Training Epoch 144: 100%|███████████████████████| 66/66 [00:18<00:00,  3.51it/s]\n"
     ]
    },
    {
     "name": "stdout",
     "output_type": "stream",
     "text": [
      "|------------|----------|\n",
      "| Type       | Value    |\n",
      "|------------|----------|\n",
      "| train loss | 4.404346 |\n",
      "| train acc  | 0.092330 |\n",
      "|------------|----------|\n"
     ]
    },
    {
     "name": "stderr",
     "output_type": "stream",
     "text": [
      "Training Epoch 145: 100%|███████████████████████| 66/66 [00:18<00:00,  3.60it/s]\n"
     ]
    },
    {
     "name": "stdout",
     "output_type": "stream",
     "text": [
      "|------------|----------|\n",
      "| Type       | Value    |\n",
      "|------------|----------|\n",
      "| train loss | 4.404820 |\n",
      "| train acc  | 0.091856 |\n",
      "|------------|----------|\n"
     ]
    },
    {
     "name": "stderr",
     "output_type": "stream",
     "text": [
      "Training Epoch 146: 100%|███████████████████████| 66/66 [00:18<00:00,  3.51it/s]\n"
     ]
    },
    {
     "name": "stdout",
     "output_type": "stream",
     "text": [
      "|------------|----------|\n",
      "| Type       | Value    |\n",
      "|------------|----------|\n",
      "| train loss | 4.405293 |\n",
      "| train acc  | 0.091383 |\n",
      "|------------|----------|\n"
     ]
    },
    {
     "name": "stderr",
     "output_type": "stream",
     "text": [
      "Training Epoch 147: 100%|███████████████████████| 66/66 [00:18<00:00,  3.59it/s]\n"
     ]
    },
    {
     "name": "stdout",
     "output_type": "stream",
     "text": [
      "|------------|----------|\n",
      "| Type       | Value    |\n",
      "|------------|----------|\n",
      "| train loss | 4.404819 |\n",
      "| train acc  | 0.091856 |\n",
      "|------------|----------|\n"
     ]
    },
    {
     "name": "stderr",
     "output_type": "stream",
     "text": [
      "Training Epoch 148: 100%|███████████████████████| 66/66 [00:18<00:00,  3.48it/s]\n"
     ]
    },
    {
     "name": "stdout",
     "output_type": "stream",
     "text": [
      "|------------|----------|\n",
      "| Type       | Value    |\n",
      "|------------|----------|\n",
      "| train loss | 4.405766 |\n",
      "| train acc  | 0.090909 |\n",
      "|------------|----------|\n"
     ]
    },
    {
     "name": "stderr",
     "output_type": "stream",
     "text": [
      "Training Epoch 149: 100%|███████████████████████| 66/66 [00:18<00:00,  3.56it/s]\n"
     ]
    },
    {
     "name": "stdout",
     "output_type": "stream",
     "text": [
      "|------------|----------|\n",
      "| Type       | Value    |\n",
      "|------------|----------|\n",
      "| train loss | 4.405056 |\n",
      "| train acc  | 0.091619 |\n",
      "|------------|----------|\n"
     ]
    },
    {
     "name": "stderr",
     "output_type": "stream",
     "text": [
      "Training Epoch 150: 100%|███████████████████████| 66/66 [00:18<00:00,  3.52it/s]\n"
     ]
    },
    {
     "name": "stdout",
     "output_type": "stream",
     "text": [
      "|------------|----------|\n",
      "| Type       | Value    |\n",
      "|------------|----------|\n",
      "| train loss | 4.405530 |\n",
      "| train acc  | 0.091146 |\n",
      "|------------|----------|\n"
     ]
    },
    {
     "name": "stderr",
     "output_type": "stream",
     "text": [
      "Training Epoch 151: 100%|███████████████████████| 66/66 [00:18<00:00,  3.53it/s]\n"
     ]
    },
    {
     "name": "stdout",
     "output_type": "stream",
     "text": [
      "|------------|----------|\n",
      "| Type       | Value    |\n",
      "|------------|----------|\n",
      "| train loss | 4.404346 |\n",
      "| train acc  | 0.092330 |\n",
      "|------------|----------|\n"
     ]
    },
    {
     "name": "stderr",
     "output_type": "stream",
     "text": [
      "Training Epoch 152: 100%|███████████████████████| 66/66 [00:18<00:00,  3.60it/s]\n"
     ]
    },
    {
     "name": "stdout",
     "output_type": "stream",
     "text": [
      "|------------|----------|\n",
      "| Type       | Value    |\n",
      "|------------|----------|\n",
      "| train loss | 4.404820 |\n",
      "| train acc  | 0.091856 |\n",
      "|------------|----------|\n"
     ]
    },
    {
     "name": "stderr",
     "output_type": "stream",
     "text": [
      "Training Epoch 153: 100%|███████████████████████| 66/66 [00:18<00:00,  3.55it/s]\n"
     ]
    },
    {
     "name": "stdout",
     "output_type": "stream",
     "text": [
      "|------------|----------|\n",
      "| Type       | Value    |\n",
      "|------------|----------|\n",
      "| train loss | 4.406003 |\n",
      "| train acc  | 0.090672 |\n",
      "|------------|----------|\n"
     ]
    },
    {
     "name": "stderr",
     "output_type": "stream",
     "text": [
      "Training Epoch 154: 100%|███████████████████████| 66/66 [00:18<00:00,  3.55it/s]\n"
     ]
    },
    {
     "name": "stdout",
     "output_type": "stream",
     "text": [
      "|------------|----------|\n",
      "| Type       | Value    |\n",
      "|------------|----------|\n",
      "| train loss | 4.405530 |\n",
      "| train acc  | 0.091146 |\n",
      "|------------|----------|\n"
     ]
    },
    {
     "name": "stderr",
     "output_type": "stream",
     "text": [
      "Training Epoch 155: 100%|███████████████████████| 66/66 [00:19<00:00,  3.47it/s]\n"
     ]
    },
    {
     "name": "stdout",
     "output_type": "stream",
     "text": [
      "|------------|----------|\n",
      "| Type       | Value    |\n",
      "|------------|----------|\n",
      "| train loss | 4.405056 |\n",
      "| train acc  | 0.091619 |\n",
      "|------------|----------|\n"
     ]
    },
    {
     "name": "stderr",
     "output_type": "stream",
     "text": [
      "Training Epoch 156: 100%|███████████████████████| 66/66 [00:18<00:00,  3.55it/s]\n"
     ]
    },
    {
     "name": "stdout",
     "output_type": "stream",
     "text": [
      "|------------|----------|\n",
      "| Type       | Value    |\n",
      "|------------|----------|\n",
      "| train loss | 4.405766 |\n",
      "| train acc  | 0.090909 |\n",
      "|------------|----------|\n"
     ]
    },
    {
     "name": "stderr",
     "output_type": "stream",
     "text": [
      "Training Epoch 157: 100%|███████████████████████| 66/66 [00:18<00:00,  3.54it/s]\n"
     ]
    },
    {
     "name": "stdout",
     "output_type": "stream",
     "text": [
      "|------------|----------|\n",
      "| Type       | Value    |\n",
      "|------------|----------|\n",
      "| train loss | 4.405530 |\n",
      "| train acc  | 0.091146 |\n",
      "|------------|----------|\n"
     ]
    },
    {
     "name": "stderr",
     "output_type": "stream",
     "text": [
      "Training Epoch 158: 100%|███████████████████████| 66/66 [00:18<00:00,  3.55it/s]\n"
     ]
    },
    {
     "name": "stdout",
     "output_type": "stream",
     "text": [
      "|------------|----------|\n",
      "| Type       | Value    |\n",
      "|------------|----------|\n",
      "| train loss | 4.405056 |\n",
      "| train acc  | 0.091619 |\n",
      "|------------|----------|\n"
     ]
    },
    {
     "name": "stderr",
     "output_type": "stream",
     "text": [
      "Training Epoch 159: 100%|███████████████████████| 66/66 [00:18<00:00,  3.55it/s]\n"
     ]
    },
    {
     "name": "stdout",
     "output_type": "stream",
     "text": [
      "|------------|----------|\n",
      "| Type       | Value    |\n",
      "|------------|----------|\n",
      "| train loss | 4.405056 |\n",
      "| train acc  | 0.091619 |\n",
      "|------------|----------|\n"
     ]
    },
    {
     "name": "stderr",
     "output_type": "stream",
     "text": [
      "Training Epoch 160: 100%|███████████████████████| 66/66 [00:18<00:00,  3.57it/s]\n"
     ]
    },
    {
     "name": "stdout",
     "output_type": "stream",
     "text": [
      "|------------|----------|\n",
      "| Type       | Value    |\n",
      "|------------|----------|\n",
      "| train loss | 4.405530 |\n",
      "| train acc  | 0.091146 |\n",
      "|------------|----------|\n"
     ]
    },
    {
     "name": "stderr",
     "output_type": "stream",
     "text": [
      "Training Epoch 161: 100%|███████████████████████| 66/66 [00:18<00:00,  3.50it/s]\n"
     ]
    },
    {
     "name": "stdout",
     "output_type": "stream",
     "text": [
      "|------------|----------|\n",
      "| Type       | Value    |\n",
      "|------------|----------|\n",
      "| train loss | 4.404820 |\n",
      "| train acc  | 0.091856 |\n",
      "|------------|----------|\n"
     ]
    },
    {
     "name": "stderr",
     "output_type": "stream",
     "text": [
      "Training Epoch 162: 100%|███████████████████████| 66/66 [00:18<00:00,  3.50it/s]\n"
     ]
    },
    {
     "name": "stdout",
     "output_type": "stream",
     "text": [
      "|------------|----------|\n",
      "| Type       | Value    |\n",
      "|------------|----------|\n",
      "| train loss | 4.405056 |\n",
      "| train acc  | 0.091619 |\n",
      "|------------|----------|\n"
     ]
    },
    {
     "name": "stderr",
     "output_type": "stream",
     "text": [
      "Training Epoch 163: 100%|███████████████████████| 66/66 [00:18<00:00,  3.55it/s]\n"
     ]
    },
    {
     "name": "stdout",
     "output_type": "stream",
     "text": [
      "|------------|----------|\n",
      "| Type       | Value    |\n",
      "|------------|----------|\n",
      "| train loss | 4.405768 |\n",
      "| train acc  | 0.090909 |\n",
      "|------------|----------|\n"
     ]
    },
    {
     "name": "stderr",
     "output_type": "stream",
     "text": [
      "Training Epoch 164: 100%|███████████████████████| 66/66 [00:18<00:00,  3.53it/s]\n"
     ]
    },
    {
     "name": "stdout",
     "output_type": "stream",
     "text": [
      "|------------|----------|\n",
      "| Type       | Value    |\n",
      "|------------|----------|\n",
      "| train loss | 4.404819 |\n",
      "| train acc  | 0.091856 |\n",
      "|------------|----------|\n"
     ]
    },
    {
     "name": "stderr",
     "output_type": "stream",
     "text": [
      "Training Epoch 165: 100%|███████████████████████| 66/66 [00:18<00:00,  3.55it/s]\n"
     ]
    },
    {
     "name": "stdout",
     "output_type": "stream",
     "text": [
      "|------------|----------|\n",
      "| Type       | Value    |\n",
      "|------------|----------|\n",
      "| train loss | 4.406714 |\n",
      "| train acc  | 0.089962 |\n",
      "|------------|----------|\n"
     ]
    },
    {
     "name": "stderr",
     "output_type": "stream",
     "text": [
      "Training Epoch 166: 100%|███████████████████████| 66/66 [00:18<00:00,  3.55it/s]\n"
     ]
    },
    {
     "name": "stdout",
     "output_type": "stream",
     "text": [
      "|------------|----------|\n",
      "| Type       | Value    |\n",
      "|------------|----------|\n",
      "| train loss | 4.405767 |\n",
      "| train acc  | 0.090909 |\n",
      "|------------|----------|\n"
     ]
    },
    {
     "name": "stderr",
     "output_type": "stream",
     "text": [
      "Training Epoch 167: 100%|███████████████████████| 66/66 [00:18<00:00,  3.56it/s]\n"
     ]
    },
    {
     "name": "stdout",
     "output_type": "stream",
     "text": [
      "|------------|----------|\n",
      "| Type       | Value    |\n",
      "|------------|----------|\n",
      "| train loss | 4.405292 |\n",
      "| train acc  | 0.091383 |\n",
      "|------------|----------|\n"
     ]
    },
    {
     "name": "stderr",
     "output_type": "stream",
     "text": [
      "Training Epoch 168: 100%|███████████████████████| 66/66 [00:18<00:00,  3.53it/s]\n"
     ]
    },
    {
     "name": "stdout",
     "output_type": "stream",
     "text": [
      "|------------|----------|\n",
      "| Type       | Value    |\n",
      "|------------|----------|\n",
      "| train loss | 4.404583 |\n",
      "| train acc  | 0.092093 |\n",
      "|------------|----------|\n"
     ]
    },
    {
     "name": "stderr",
     "output_type": "stream",
     "text": [
      "Training Epoch 169: 100%|███████████████████████| 66/66 [00:19<00:00,  3.45it/s]\n"
     ]
    },
    {
     "name": "stdout",
     "output_type": "stream",
     "text": [
      "|------------|----------|\n",
      "| Type       | Value    |\n",
      "|------------|----------|\n",
      "| train loss | 4.405057 |\n",
      "| train acc  | 0.091619 |\n",
      "|------------|----------|\n"
     ]
    },
    {
     "name": "stderr",
     "output_type": "stream",
     "text": [
      "Training Epoch 170: 100%|███████████████████████| 66/66 [00:18<00:00,  3.51it/s]\n"
     ]
    },
    {
     "name": "stdout",
     "output_type": "stream",
     "text": [
      "|------------|----------|\n",
      "| Type       | Value    |\n",
      "|------------|----------|\n",
      "| train loss | 4.404819 |\n",
      "| train acc  | 0.091856 |\n",
      "|------------|----------|\n"
     ]
    },
    {
     "name": "stderr",
     "output_type": "stream",
     "text": [
      "Training Epoch 171: 100%|███████████████████████| 66/66 [00:18<00:00,  3.52it/s]\n"
     ]
    },
    {
     "name": "stdout",
     "output_type": "stream",
     "text": [
      "|------------|----------|\n",
      "| Type       | Value    |\n",
      "|------------|----------|\n",
      "| train loss | 4.405530 |\n",
      "| train acc  | 0.091146 |\n",
      "|------------|----------|\n"
     ]
    },
    {
     "name": "stderr",
     "output_type": "stream",
     "text": [
      "Training Epoch 172: 100%|███████████████████████| 66/66 [00:18<00:00,  3.50it/s]\n"
     ]
    },
    {
     "name": "stdout",
     "output_type": "stream",
     "text": [
      "|------------|----------|\n",
      "| Type       | Value    |\n",
      "|------------|----------|\n",
      "| train loss | 4.406004 |\n",
      "| train acc  | 0.090672 |\n",
      "|------------|----------|\n"
     ]
    },
    {
     "name": "stderr",
     "output_type": "stream",
     "text": [
      "Training Epoch 173: 100%|███████████████████████| 66/66 [00:18<00:00,  3.51it/s]\n"
     ]
    },
    {
     "name": "stdout",
     "output_type": "stream",
     "text": [
      "|------------|----------|\n",
      "| Type       | Value    |\n",
      "|------------|----------|\n",
      "| train loss | 4.404582 |\n",
      "| train acc  | 0.092093 |\n",
      "|------------|----------|\n"
     ]
    },
    {
     "name": "stderr",
     "output_type": "stream",
     "text": [
      "Training Epoch 174: 100%|███████████████████████| 66/66 [00:18<00:00,  3.54it/s]\n"
     ]
    },
    {
     "name": "stdout",
     "output_type": "stream",
     "text": [
      "|------------|----------|\n",
      "| Type       | Value    |\n",
      "|------------|----------|\n",
      "| train loss | 4.405766 |\n",
      "| train acc  | 0.090909 |\n",
      "|------------|----------|\n"
     ]
    },
    {
     "name": "stderr",
     "output_type": "stream",
     "text": [
      "Training Epoch 175: 100%|███████████████████████| 66/66 [00:18<00:00,  3.52it/s]\n"
     ]
    },
    {
     "name": "stdout",
     "output_type": "stream",
     "text": [
      "|------------|----------|\n",
      "| Type       | Value    |\n",
      "|------------|----------|\n",
      "| train loss | 4.405293 |\n",
      "| train acc  | 0.091383 |\n",
      "|------------|----------|\n"
     ]
    },
    {
     "name": "stderr",
     "output_type": "stream",
     "text": [
      "Training Epoch 176: 100%|███████████████████████| 66/66 [00:18<00:00,  3.47it/s]\n"
     ]
    },
    {
     "name": "stdout",
     "output_type": "stream",
     "text": [
      "|------------|----------|\n",
      "| Type       | Value    |\n",
      "|------------|----------|\n",
      "| train loss | 4.406004 |\n",
      "| train acc  | 0.090672 |\n",
      "|------------|----------|\n"
     ]
    },
    {
     "name": "stderr",
     "output_type": "stream",
     "text": [
      "Training Epoch 177: 100%|███████████████████████| 66/66 [00:18<00:00,  3.51it/s]\n"
     ]
    },
    {
     "name": "stdout",
     "output_type": "stream",
     "text": [
      "|------------|----------|\n",
      "| Type       | Value    |\n",
      "|------------|----------|\n",
      "| train loss | 4.405294 |\n",
      "| train acc  | 0.091383 |\n",
      "|------------|----------|\n"
     ]
    },
    {
     "name": "stderr",
     "output_type": "stream",
     "text": [
      "Training Epoch 178: 100%|███████████████████████| 66/66 [00:18<00:00,  3.49it/s]\n"
     ]
    },
    {
     "name": "stdout",
     "output_type": "stream",
     "text": [
      "|------------|----------|\n",
      "| Type       | Value    |\n",
      "|------------|----------|\n",
      "| train loss | 4.405293 |\n",
      "| train acc  | 0.091383 |\n",
      "|------------|----------|\n"
     ]
    },
    {
     "name": "stderr",
     "output_type": "stream",
     "text": [
      "Training Epoch 179: 100%|███████████████████████| 66/66 [00:18<00:00,  3.52it/s]\n"
     ]
    },
    {
     "name": "stdout",
     "output_type": "stream",
     "text": [
      "|------------|----------|\n",
      "| Type       | Value    |\n",
      "|------------|----------|\n",
      "| train loss | 4.405530 |\n",
      "| train acc  | 0.091146 |\n",
      "|------------|----------|\n"
     ]
    },
    {
     "name": "stderr",
     "output_type": "stream",
     "text": [
      "Training Epoch 180: 100%|███████████████████████| 66/66 [00:18<00:00,  3.51it/s]\n"
     ]
    },
    {
     "name": "stdout",
     "output_type": "stream",
     "text": [
      "|------------|----------|\n",
      "| Type       | Value    |\n",
      "|------------|----------|\n",
      "| train loss | 4.405056 |\n",
      "| train acc  | 0.091619 |\n",
      "|------------|----------|\n"
     ]
    },
    {
     "name": "stderr",
     "output_type": "stream",
     "text": [
      "Training Epoch 181: 100%|███████████████████████| 66/66 [00:19<00:00,  3.46it/s]\n"
     ]
    },
    {
     "name": "stdout",
     "output_type": "stream",
     "text": [
      "|------------|----------|\n",
      "| Type       | Value    |\n",
      "|------------|----------|\n",
      "| train loss | 4.405293 |\n",
      "| train acc  | 0.091383 |\n",
      "|------------|----------|\n"
     ]
    },
    {
     "name": "stderr",
     "output_type": "stream",
     "text": [
      "Training Epoch 182: 100%|███████████████████████| 66/66 [00:19<00:00,  3.46it/s]\n"
     ]
    },
    {
     "name": "stdout",
     "output_type": "stream",
     "text": [
      "|------------|----------|\n",
      "| Type       | Value    |\n",
      "|------------|----------|\n",
      "| train loss | 4.404819 |\n",
      "| train acc  | 0.091856 |\n",
      "|------------|----------|\n"
     ]
    },
    {
     "name": "stderr",
     "output_type": "stream",
     "text": [
      "Training Epoch 183: 100%|███████████████████████| 66/66 [00:19<00:00,  3.47it/s]\n"
     ]
    },
    {
     "name": "stdout",
     "output_type": "stream",
     "text": [
      "|------------|----------|\n",
      "| Type       | Value    |\n",
      "|------------|----------|\n",
      "| train loss | 4.405767 |\n",
      "| train acc  | 0.090909 |\n",
      "|------------|----------|\n"
     ]
    },
    {
     "name": "stderr",
     "output_type": "stream",
     "text": [
      "Training Epoch 184: 100%|███████████████████████| 66/66 [00:18<00:00,  3.58it/s]\n"
     ]
    },
    {
     "name": "stdout",
     "output_type": "stream",
     "text": [
      "|------------|----------|\n",
      "| Type       | Value    |\n",
      "|------------|----------|\n",
      "| train loss | 4.405766 |\n",
      "| train acc  | 0.090909 |\n",
      "|------------|----------|\n"
     ]
    },
    {
     "name": "stderr",
     "output_type": "stream",
     "text": [
      "Training Epoch 185: 100%|███████████████████████| 66/66 [00:18<00:00,  3.50it/s]\n"
     ]
    },
    {
     "name": "stdout",
     "output_type": "stream",
     "text": [
      "|------------|----------|\n",
      "| Type       | Value    |\n",
      "|------------|----------|\n",
      "| train loss | 4.404583 |\n",
      "| train acc  | 0.092093 |\n",
      "|------------|----------|\n"
     ]
    },
    {
     "name": "stderr",
     "output_type": "stream",
     "text": [
      "Training Epoch 186: 100%|███████████████████████| 66/66 [00:18<00:00,  3.48it/s]\n"
     ]
    },
    {
     "name": "stdout",
     "output_type": "stream",
     "text": [
      "|------------|----------|\n",
      "| Type       | Value    |\n",
      "|------------|----------|\n",
      "| train loss | 4.404820 |\n",
      "| train acc  | 0.091856 |\n",
      "|------------|----------|\n"
     ]
    },
    {
     "name": "stderr",
     "output_type": "stream",
     "text": [
      "Training Epoch 187: 100%|███████████████████████| 66/66 [00:18<00:00,  3.49it/s]\n"
     ]
    },
    {
     "name": "stdout",
     "output_type": "stream",
     "text": [
      "|------------|----------|\n",
      "| Type       | Value    |\n",
      "|------------|----------|\n",
      "| train loss | 4.404819 |\n",
      "| train acc  | 0.091856 |\n",
      "|------------|----------|\n"
     ]
    },
    {
     "name": "stderr",
     "output_type": "stream",
     "text": [
      "Training Epoch 188: 100%|███████████████████████| 66/66 [00:19<00:00,  3.45it/s]\n"
     ]
    },
    {
     "name": "stdout",
     "output_type": "stream",
     "text": [
      "|------------|----------|\n",
      "| Type       | Value    |\n",
      "|------------|----------|\n",
      "| train loss | 4.405293 |\n",
      "| train acc  | 0.091383 |\n",
      "|------------|----------|\n"
     ]
    },
    {
     "name": "stderr",
     "output_type": "stream",
     "text": [
      "Training Epoch 189: 100%|███████████████████████| 66/66 [00:18<00:00,  3.55it/s]\n"
     ]
    },
    {
     "name": "stdout",
     "output_type": "stream",
     "text": [
      "|------------|----------|\n",
      "| Type       | Value    |\n",
      "|------------|----------|\n",
      "| train loss | 4.405530 |\n",
      "| train acc  | 0.091146 |\n",
      "|------------|----------|\n"
     ]
    },
    {
     "name": "stderr",
     "output_type": "stream",
     "text": [
      "Training Epoch 190: 100%|███████████████████████| 66/66 [00:18<00:00,  3.56it/s]\n"
     ]
    },
    {
     "name": "stdout",
     "output_type": "stream",
     "text": [
      "|------------|----------|\n",
      "| Type       | Value    |\n",
      "|------------|----------|\n",
      "| train loss | 4.405056 |\n",
      "| train acc  | 0.091619 |\n",
      "|------------|----------|\n"
     ]
    },
    {
     "name": "stderr",
     "output_type": "stream",
     "text": [
      "Training Epoch 191: 100%|███████████████████████| 66/66 [00:18<00:00,  3.57it/s]\n"
     ]
    },
    {
     "name": "stdout",
     "output_type": "stream",
     "text": [
      "|------------|----------|\n",
      "| Type       | Value    |\n",
      "|------------|----------|\n",
      "| train loss | 4.404819 |\n",
      "| train acc  | 0.091856 |\n",
      "|------------|----------|\n"
     ]
    },
    {
     "name": "stderr",
     "output_type": "stream",
     "text": [
      "Training Epoch 192: 100%|███████████████████████| 66/66 [00:18<00:00,  3.52it/s]\n"
     ]
    },
    {
     "name": "stdout",
     "output_type": "stream",
     "text": [
      "|------------|----------|\n",
      "| Type       | Value    |\n",
      "|------------|----------|\n",
      "| train loss | 4.405767 |\n",
      "| train acc  | 0.090909 |\n",
      "|------------|----------|\n"
     ]
    },
    {
     "name": "stderr",
     "output_type": "stream",
     "text": [
      "Training Epoch 193: 100%|███████████████████████| 66/66 [00:18<00:00,  3.47it/s]\n"
     ]
    },
    {
     "name": "stdout",
     "output_type": "stream",
     "text": [
      "|------------|----------|\n",
      "| Type       | Value    |\n",
      "|------------|----------|\n",
      "| train loss | 4.405529 |\n",
      "| train acc  | 0.091146 |\n",
      "|------------|----------|\n"
     ]
    },
    {
     "name": "stderr",
     "output_type": "stream",
     "text": [
      "Training Epoch 194: 100%|███████████████████████| 66/66 [00:18<00:00,  3.53it/s]\n"
     ]
    },
    {
     "name": "stdout",
     "output_type": "stream",
     "text": [
      "|------------|----------|\n",
      "| Type       | Value    |\n",
      "|------------|----------|\n",
      "| train loss | 4.405530 |\n",
      "| train acc  | 0.091146 |\n",
      "|------------|----------|\n"
     ]
    },
    {
     "name": "stderr",
     "output_type": "stream",
     "text": [
      "Training Epoch 195: 100%|███████████████████████| 66/66 [00:18<00:00,  3.58it/s]\n"
     ]
    },
    {
     "name": "stdout",
     "output_type": "stream",
     "text": [
      "|------------|----------|\n",
      "| Type       | Value    |\n",
      "|------------|----------|\n",
      "| train loss | 4.406240 |\n",
      "| train acc  | 0.090436 |\n",
      "|------------|----------|\n"
     ]
    },
    {
     "name": "stderr",
     "output_type": "stream",
     "text": [
      "Training Epoch 196: 100%|███████████████████████| 66/66 [00:18<00:00,  3.55it/s]\n"
     ]
    },
    {
     "name": "stdout",
     "output_type": "stream",
     "text": [
      "|------------|----------|\n",
      "| Type       | Value    |\n",
      "|------------|----------|\n",
      "| train loss | 4.405293 |\n",
      "| train acc  | 0.091383 |\n",
      "|------------|----------|\n"
     ]
    },
    {
     "name": "stderr",
     "output_type": "stream",
     "text": [
      "Training Epoch 197: 100%|███████████████████████| 66/66 [00:18<00:00,  3.52it/s]\n"
     ]
    },
    {
     "name": "stdout",
     "output_type": "stream",
     "text": [
      "|------------|----------|\n",
      "| Type       | Value    |\n",
      "|------------|----------|\n",
      "| train loss | 4.405767 |\n",
      "| train acc  | 0.090909 |\n",
      "|------------|----------|\n"
     ]
    },
    {
     "name": "stderr",
     "output_type": "stream",
     "text": [
      "Training Epoch 198: 100%|███████████████████████| 66/66 [00:18<00:00,  3.56it/s]\n"
     ]
    },
    {
     "name": "stdout",
     "output_type": "stream",
     "text": [
      "|------------|----------|\n",
      "| Type       | Value    |\n",
      "|------------|----------|\n",
      "| train loss | 4.404346 |\n",
      "| train acc  | 0.092330 |\n",
      "|------------|----------|\n"
     ]
    },
    {
     "name": "stderr",
     "output_type": "stream",
     "text": [
      "Training Epoch 199: 100%|███████████████████████| 66/66 [00:18<00:00,  3.54it/s]\n"
     ]
    },
    {
     "name": "stdout",
     "output_type": "stream",
     "text": [
      "|------------|----------|\n",
      "| Type       | Value    |\n",
      "|------------|----------|\n",
      "| train loss | 4.404346 |\n",
      "| train acc  | 0.092330 |\n",
      "|------------|----------|\n"
     ]
    },
    {
     "name": "stderr",
     "output_type": "stream",
     "text": [
      "Training Epoch 200: 100%|███████████████████████| 66/66 [00:18<00:00,  3.52it/s]\n"
     ]
    },
    {
     "name": "stdout",
     "output_type": "stream",
     "text": [
      "|------------|----------|\n",
      "| Type       | Value    |\n",
      "|------------|----------|\n",
      "| train loss | 4.404583 |\n",
      "| train acc  | 0.092093 |\n",
      "|------------|----------|\n"
     ]
    },
    {
     "name": "stderr",
     "output_type": "stream",
     "text": [
      "Training Epoch 201: 100%|███████████████████████| 66/66 [00:18<00:00,  3.51it/s]\n"
     ]
    },
    {
     "name": "stdout",
     "output_type": "stream",
     "text": [
      "|------------|----------|\n",
      "| Type       | Value    |\n",
      "|------------|----------|\n",
      "| train loss | 4.405056 |\n",
      "| train acc  | 0.091619 |\n",
      "|------------|----------|\n"
     ]
    },
    {
     "name": "stderr",
     "output_type": "stream",
     "text": [
      "Training Epoch 202: 100%|███████████████████████| 66/66 [00:18<00:00,  3.52it/s]\n"
     ]
    },
    {
     "name": "stdout",
     "output_type": "stream",
     "text": [
      "|------------|----------|\n",
      "| Type       | Value    |\n",
      "|------------|----------|\n",
      "| train loss | 4.406240 |\n",
      "| train acc  | 0.090436 |\n",
      "|------------|----------|\n"
     ]
    },
    {
     "name": "stderr",
     "output_type": "stream",
     "text": [
      "Training Epoch 203: 100%|███████████████████████| 66/66 [00:18<00:00,  3.51it/s]\n"
     ]
    },
    {
     "name": "stdout",
     "output_type": "stream",
     "text": [
      "|------------|----------|\n",
      "| Type       | Value    |\n",
      "|------------|----------|\n",
      "| train loss | 4.404346 |\n",
      "| train acc  | 0.092330 |\n",
      "|------------|----------|\n"
     ]
    },
    {
     "name": "stderr",
     "output_type": "stream",
     "text": [
      "Training Epoch 204: 100%|███████████████████████| 66/66 [00:18<00:00,  3.51it/s]\n"
     ]
    },
    {
     "name": "stdout",
     "output_type": "stream",
     "text": [
      "|------------|----------|\n",
      "| Type       | Value    |\n",
      "|------------|----------|\n",
      "| train loss | 4.405530 |\n",
      "| train acc  | 0.091146 |\n",
      "|------------|----------|\n"
     ]
    },
    {
     "name": "stderr",
     "output_type": "stream",
     "text": [
      "Training Epoch 205: 100%|███████████████████████| 66/66 [00:18<00:00,  3.50it/s]\n"
     ]
    },
    {
     "name": "stdout",
     "output_type": "stream",
     "text": [
      "|------------|----------|\n",
      "| Type       | Value    |\n",
      "|------------|----------|\n",
      "| train loss | 4.406003 |\n",
      "| train acc  | 0.090672 |\n",
      "|------------|----------|\n"
     ]
    },
    {
     "name": "stderr",
     "output_type": "stream",
     "text": [
      "Training Epoch 206: 100%|███████████████████████| 66/66 [00:18<00:00,  3.55it/s]\n"
     ]
    },
    {
     "name": "stdout",
     "output_type": "stream",
     "text": [
      "|------------|----------|\n",
      "| Type       | Value    |\n",
      "|------------|----------|\n",
      "| train loss | 4.405293 |\n",
      "| train acc  | 0.091383 |\n",
      "|------------|----------|\n"
     ]
    },
    {
     "name": "stderr",
     "output_type": "stream",
     "text": [
      "Training Epoch 207: 100%|███████████████████████| 66/66 [00:18<00:00,  3.57it/s]\n"
     ]
    },
    {
     "name": "stdout",
     "output_type": "stream",
     "text": [
      "|------------|----------|\n",
      "| Type       | Value    |\n",
      "|------------|----------|\n",
      "| train loss | 4.404819 |\n",
      "| train acc  | 0.091856 |\n",
      "|------------|----------|\n"
     ]
    },
    {
     "name": "stderr",
     "output_type": "stream",
     "text": [
      "Training Epoch 208: 100%|███████████████████████| 66/66 [00:18<00:00,  3.52it/s]\n"
     ]
    },
    {
     "name": "stdout",
     "output_type": "stream",
     "text": [
      "|------------|----------|\n",
      "| Type       | Value    |\n",
      "|------------|----------|\n",
      "| train loss | 4.404819 |\n",
      "| train acc  | 0.091856 |\n",
      "|------------|----------|\n"
     ]
    },
    {
     "name": "stderr",
     "output_type": "stream",
     "text": [
      "Training Epoch 209: 100%|███████████████████████| 66/66 [00:18<00:00,  3.52it/s]\n"
     ]
    },
    {
     "name": "stdout",
     "output_type": "stream",
     "text": [
      "|------------|----------|\n",
      "| Type       | Value    |\n",
      "|------------|----------|\n",
      "| train loss | 4.405293 |\n",
      "| train acc  | 0.091383 |\n",
      "|------------|----------|\n"
     ]
    },
    {
     "name": "stderr",
     "output_type": "stream",
     "text": [
      "Training Epoch 210: 100%|███████████████████████| 66/66 [00:18<00:00,  3.56it/s]\n"
     ]
    },
    {
     "name": "stdout",
     "output_type": "stream",
     "text": [
      "|------------|----------|\n",
      "| Type       | Value    |\n",
      "|------------|----------|\n",
      "| train loss | 4.405056 |\n",
      "| train acc  | 0.091619 |\n",
      "|------------|----------|\n"
     ]
    },
    {
     "name": "stderr",
     "output_type": "stream",
     "text": [
      "Training Epoch 211: 100%|███████████████████████| 66/66 [00:18<00:00,  3.57it/s]\n"
     ]
    },
    {
     "name": "stdout",
     "output_type": "stream",
     "text": [
      "|------------|----------|\n",
      "| Type       | Value    |\n",
      "|------------|----------|\n",
      "| train loss | 4.406477 |\n",
      "| train acc  | 0.090199 |\n",
      "|------------|----------|\n"
     ]
    },
    {
     "name": "stderr",
     "output_type": "stream",
     "text": [
      "Training Epoch 212: 100%|███████████████████████| 66/66 [00:18<00:00,  3.49it/s]\n"
     ]
    },
    {
     "name": "stdout",
     "output_type": "stream",
     "text": [
      "|------------|----------|\n",
      "| Type       | Value    |\n",
      "|------------|----------|\n",
      "| train loss | 4.404346 |\n",
      "| train acc  | 0.092330 |\n",
      "|------------|----------|\n"
     ]
    },
    {
     "name": "stderr",
     "output_type": "stream",
     "text": [
      "Training Epoch 213: 100%|███████████████████████| 66/66 [00:18<00:00,  3.57it/s]\n"
     ]
    },
    {
     "name": "stdout",
     "output_type": "stream",
     "text": [
      "|------------|----------|\n",
      "| Type       | Value    |\n",
      "|------------|----------|\n",
      "| train loss | 4.405530 |\n",
      "| train acc  | 0.091146 |\n",
      "|------------|----------|\n"
     ]
    },
    {
     "name": "stderr",
     "output_type": "stream",
     "text": [
      "Training Epoch 214: 100%|███████████████████████| 66/66 [00:18<00:00,  3.55it/s]\n"
     ]
    },
    {
     "name": "stdout",
     "output_type": "stream",
     "text": [
      "|------------|----------|\n",
      "| Type       | Value    |\n",
      "|------------|----------|\n",
      "| train loss | 4.405056 |\n",
      "| train acc  | 0.091619 |\n",
      "|------------|----------|\n"
     ]
    },
    {
     "name": "stderr",
     "output_type": "stream",
     "text": [
      "Training Epoch 215: 100%|███████████████████████| 66/66 [00:19<00:00,  3.47it/s]\n"
     ]
    },
    {
     "name": "stdout",
     "output_type": "stream",
     "text": [
      "|------------|----------|\n",
      "| Type       | Value    |\n",
      "|------------|----------|\n",
      "| train loss | 4.405530 |\n",
      "| train acc  | 0.091146 |\n",
      "|------------|----------|\n"
     ]
    },
    {
     "name": "stderr",
     "output_type": "stream",
     "text": [
      "Training Epoch 216: 100%|███████████████████████| 66/66 [00:18<00:00,  3.53it/s]\n"
     ]
    },
    {
     "name": "stdout",
     "output_type": "stream",
     "text": [
      "|------------|----------|\n",
      "| Type       | Value    |\n",
      "|------------|----------|\n",
      "| train loss | 4.405529 |\n",
      "| train acc  | 0.091146 |\n",
      "|------------|----------|\n"
     ]
    },
    {
     "name": "stderr",
     "output_type": "stream",
     "text": [
      "Training Epoch 217: 100%|███████████████████████| 66/66 [00:18<00:00,  3.55it/s]\n"
     ]
    },
    {
     "name": "stdout",
     "output_type": "stream",
     "text": [
      "|------------|----------|\n",
      "| Type       | Value    |\n",
      "|------------|----------|\n",
      "| train loss | 4.406003 |\n",
      "| train acc  | 0.090672 |\n",
      "|------------|----------|\n"
     ]
    },
    {
     "name": "stderr",
     "output_type": "stream",
     "text": [
      "Training Epoch 218: 100%|███████████████████████| 66/66 [00:18<00:00,  3.56it/s]\n"
     ]
    },
    {
     "name": "stdout",
     "output_type": "stream",
     "text": [
      "|------------|----------|\n",
      "| Type       | Value    |\n",
      "|------------|----------|\n",
      "| train loss | 4.405293 |\n",
      "| train acc  | 0.091383 |\n",
      "|------------|----------|\n"
     ]
    },
    {
     "name": "stderr",
     "output_type": "stream",
     "text": [
      "Training Epoch 219: 100%|███████████████████████| 66/66 [00:18<00:00,  3.55it/s]\n"
     ]
    },
    {
     "name": "stdout",
     "output_type": "stream",
     "text": [
      "|------------|----------|\n",
      "| Type       | Value    |\n",
      "|------------|----------|\n",
      "| train loss | 4.405766 |\n",
      "| train acc  | 0.090909 |\n",
      "|------------|----------|\n"
     ]
    },
    {
     "name": "stderr",
     "output_type": "stream",
     "text": [
      "Training Epoch 220: 100%|███████████████████████| 66/66 [00:18<00:00,  3.53it/s]\n"
     ]
    },
    {
     "name": "stdout",
     "output_type": "stream",
     "text": [
      "|------------|----------|\n",
      "| Type       | Value    |\n",
      "|------------|----------|\n",
      "| train loss | 4.405056 |\n",
      "| train acc  | 0.091619 |\n",
      "|------------|----------|\n"
     ]
    },
    {
     "name": "stderr",
     "output_type": "stream",
     "text": [
      "Training Epoch 221: 100%|███████████████████████| 66/66 [00:18<00:00,  3.56it/s]\n"
     ]
    },
    {
     "name": "stdout",
     "output_type": "stream",
     "text": [
      "|------------|----------|\n",
      "| Type       | Value    |\n",
      "|------------|----------|\n",
      "| train loss | 4.404583 |\n",
      "| train acc  | 0.092093 |\n",
      "|------------|----------|\n"
     ]
    },
    {
     "name": "stderr",
     "output_type": "stream",
     "text": [
      "Training Epoch 222: 100%|███████████████████████| 66/66 [00:18<00:00,  3.59it/s]\n"
     ]
    },
    {
     "name": "stdout",
     "output_type": "stream",
     "text": [
      "|------------|----------|\n",
      "| Type       | Value    |\n",
      "|------------|----------|\n",
      "| train loss | 4.405293 |\n",
      "| train acc  | 0.091383 |\n",
      "|------------|----------|\n"
     ]
    },
    {
     "name": "stderr",
     "output_type": "stream",
     "text": [
      "Training Epoch 223: 100%|███████████████████████| 66/66 [00:18<00:00,  3.53it/s]\n"
     ]
    },
    {
     "name": "stdout",
     "output_type": "stream",
     "text": [
      "|------------|----------|\n",
      "| Type       | Value    |\n",
      "|------------|----------|\n",
      "| train loss | 4.406714 |\n",
      "| train acc  | 0.089962 |\n",
      "|------------|----------|\n"
     ]
    },
    {
     "name": "stderr",
     "output_type": "stream",
     "text": [
      "Training Epoch 224: 100%|███████████████████████| 66/66 [00:18<00:00,  3.58it/s]\n"
     ]
    },
    {
     "name": "stdout",
     "output_type": "stream",
     "text": [
      "|------------|----------|\n",
      "| Type       | Value    |\n",
      "|------------|----------|\n",
      "| train loss | 4.405295 |\n",
      "| train acc  | 0.091383 |\n",
      "|------------|----------|\n"
     ]
    },
    {
     "name": "stderr",
     "output_type": "stream",
     "text": [
      "Training Epoch 225: 100%|███████████████████████| 66/66 [00:18<00:00,  3.58it/s]\n"
     ]
    },
    {
     "name": "stdout",
     "output_type": "stream",
     "text": [
      "|------------|----------|\n",
      "| Type       | Value    |\n",
      "|------------|----------|\n",
      "| train loss | 4.405529 |\n",
      "| train acc  | 0.091146 |\n",
      "|------------|----------|\n"
     ]
    },
    {
     "name": "stderr",
     "output_type": "stream",
     "text": [
      "Training Epoch 226: 100%|███████████████████████| 66/66 [00:18<00:00,  3.49it/s]\n"
     ]
    },
    {
     "name": "stdout",
     "output_type": "stream",
     "text": [
      "|------------|----------|\n",
      "| Type       | Value    |\n",
      "|------------|----------|\n",
      "| train loss | 4.405293 |\n",
      "| train acc  | 0.091383 |\n",
      "|------------|----------|\n"
     ]
    },
    {
     "name": "stderr",
     "output_type": "stream",
     "text": [
      "Training Epoch 227: 100%|███████████████████████| 66/66 [00:18<00:00,  3.54it/s]\n"
     ]
    },
    {
     "name": "stdout",
     "output_type": "stream",
     "text": [
      "|------------|----------|\n",
      "| Type       | Value    |\n",
      "|------------|----------|\n",
      "| train loss | 4.406240 |\n",
      "| train acc  | 0.090436 |\n",
      "|------------|----------|\n"
     ]
    },
    {
     "name": "stderr",
     "output_type": "stream",
     "text": [
      "Training Epoch 228: 100%|███████████████████████| 66/66 [00:18<00:00,  3.57it/s]\n"
     ]
    },
    {
     "name": "stdout",
     "output_type": "stream",
     "text": [
      "|------------|----------|\n",
      "| Type       | Value    |\n",
      "|------------|----------|\n",
      "| train loss | 4.405056 |\n",
      "| train acc  | 0.091619 |\n",
      "|------------|----------|\n"
     ]
    },
    {
     "name": "stderr",
     "output_type": "stream",
     "text": [
      "Training Epoch 229: 100%|███████████████████████| 66/66 [00:19<00:00,  3.46it/s]\n"
     ]
    },
    {
     "name": "stdout",
     "output_type": "stream",
     "text": [
      "|------------|----------|\n",
      "| Type       | Value    |\n",
      "|------------|----------|\n",
      "| train loss | 4.404820 |\n",
      "| train acc  | 0.091856 |\n",
      "|------------|----------|\n"
     ]
    },
    {
     "name": "stderr",
     "output_type": "stream",
     "text": [
      "Training Epoch 230: 100%|███████████████████████| 66/66 [00:18<00:00,  3.52it/s]\n"
     ]
    },
    {
     "name": "stdout",
     "output_type": "stream",
     "text": [
      "|------------|----------|\n",
      "| Type       | Value    |\n",
      "|------------|----------|\n",
      "| train loss | 4.405057 |\n",
      "| train acc  | 0.091619 |\n",
      "|------------|----------|\n"
     ]
    },
    {
     "name": "stderr",
     "output_type": "stream",
     "text": [
      "Training Epoch 231: 100%|███████████████████████| 66/66 [00:19<00:00,  3.44it/s]\n"
     ]
    },
    {
     "name": "stdout",
     "output_type": "stream",
     "text": [
      "|------------|----------|\n",
      "| Type       | Value    |\n",
      "|------------|----------|\n",
      "| train loss | 4.406240 |\n",
      "| train acc  | 0.090436 |\n",
      "|------------|----------|\n"
     ]
    },
    {
     "name": "stderr",
     "output_type": "stream",
     "text": [
      "Training Epoch 232: 100%|███████████████████████| 66/66 [00:18<00:00,  3.59it/s]\n"
     ]
    },
    {
     "name": "stdout",
     "output_type": "stream",
     "text": [
      "|------------|----------|\n",
      "| Type       | Value    |\n",
      "|------------|----------|\n",
      "| train loss | 4.405766 |\n",
      "| train acc  | 0.090909 |\n",
      "|------------|----------|\n"
     ]
    },
    {
     "name": "stderr",
     "output_type": "stream",
     "text": [
      "Training Epoch 233: 100%|███████████████████████| 66/66 [00:18<00:00,  3.49it/s]\n"
     ]
    },
    {
     "name": "stdout",
     "output_type": "stream",
     "text": [
      "|------------|----------|\n",
      "| Type       | Value    |\n",
      "|------------|----------|\n",
      "| train loss | 4.405530 |\n",
      "| train acc  | 0.091146 |\n",
      "|------------|----------|\n"
     ]
    },
    {
     "name": "stderr",
     "output_type": "stream",
     "text": [
      "Training Epoch 234: 100%|███████████████████████| 66/66 [00:18<00:00,  3.55it/s]\n"
     ]
    },
    {
     "name": "stdout",
     "output_type": "stream",
     "text": [
      "|------------|----------|\n",
      "| Type       | Value    |\n",
      "|------------|----------|\n",
      "| train loss | 4.404583 |\n",
      "| train acc  | 0.092093 |\n",
      "|------------|----------|\n"
     ]
    },
    {
     "name": "stderr",
     "output_type": "stream",
     "text": [
      "Training Epoch 235: 100%|███████████████████████| 66/66 [00:18<00:00,  3.57it/s]\n"
     ]
    },
    {
     "name": "stdout",
     "output_type": "stream",
     "text": [
      "|------------|----------|\n",
      "| Type       | Value    |\n",
      "|------------|----------|\n",
      "| train loss | 4.406003 |\n",
      "| train acc  | 0.090672 |\n",
      "|------------|----------|\n"
     ]
    },
    {
     "name": "stderr",
     "output_type": "stream",
     "text": [
      "Training Epoch 236: 100%|███████████████████████| 66/66 [00:18<00:00,  3.55it/s]\n"
     ]
    },
    {
     "name": "stdout",
     "output_type": "stream",
     "text": [
      "|------------|----------|\n",
      "| Type       | Value    |\n",
      "|------------|----------|\n",
      "| train loss | 4.405293 |\n",
      "| train acc  | 0.091383 |\n",
      "|------------|----------|\n"
     ]
    },
    {
     "name": "stderr",
     "output_type": "stream",
     "text": [
      "Training Epoch 237: 100%|███████████████████████| 66/66 [00:18<00:00,  3.58it/s]\n"
     ]
    },
    {
     "name": "stdout",
     "output_type": "stream",
     "text": [
      "|------------|----------|\n",
      "| Type       | Value    |\n",
      "|------------|----------|\n",
      "| train loss | 4.405056 |\n",
      "| train acc  | 0.091619 |\n",
      "|------------|----------|\n"
     ]
    },
    {
     "name": "stderr",
     "output_type": "stream",
     "text": [
      "Training Epoch 238: 100%|███████████████████████| 66/66 [00:18<00:00,  3.53it/s]\n"
     ]
    },
    {
     "name": "stdout",
     "output_type": "stream",
     "text": [
      "|------------|----------|\n",
      "| Type       | Value    |\n",
      "|------------|----------|\n",
      "| train loss | 4.406714 |\n",
      "| train acc  | 0.089962 |\n",
      "|------------|----------|\n"
     ]
    },
    {
     "name": "stderr",
     "output_type": "stream",
     "text": [
      "Training Epoch 239: 100%|███████████████████████| 66/66 [00:18<00:00,  3.56it/s]\n"
     ]
    },
    {
     "name": "stdout",
     "output_type": "stream",
     "text": [
      "|------------|----------|\n",
      "| Type       | Value    |\n",
      "|------------|----------|\n",
      "| train loss | 4.406240 |\n",
      "| train acc  | 0.090436 |\n",
      "|------------|----------|\n"
     ]
    },
    {
     "name": "stderr",
     "output_type": "stream",
     "text": [
      "Training Epoch 240: 100%|███████████████████████| 66/66 [00:18<00:00,  3.51it/s]\n"
     ]
    },
    {
     "name": "stdout",
     "output_type": "stream",
     "text": [
      "|------------|----------|\n",
      "| Type       | Value    |\n",
      "|------------|----------|\n",
      "| train loss | 4.405530 |\n",
      "| train acc  | 0.091146 |\n",
      "|------------|----------|\n"
     ]
    },
    {
     "name": "stderr",
     "output_type": "stream",
     "text": [
      "Training Epoch 241: 100%|███████████████████████| 66/66 [00:18<00:00,  3.58it/s]\n"
     ]
    },
    {
     "name": "stdout",
     "output_type": "stream",
     "text": [
      "|------------|----------|\n",
      "| Type       | Value    |\n",
      "|------------|----------|\n",
      "| train loss | 4.405056 |\n",
      "| train acc  | 0.091619 |\n",
      "|------------|----------|\n"
     ]
    },
    {
     "name": "stderr",
     "output_type": "stream",
     "text": [
      "Training Epoch 242: 100%|███████████████████████| 66/66 [00:18<00:00,  3.51it/s]\n"
     ]
    },
    {
     "name": "stdout",
     "output_type": "stream",
     "text": [
      "|------------|----------|\n",
      "| Type       | Value    |\n",
      "|------------|----------|\n",
      "| train loss | 4.405294 |\n",
      "| train acc  | 0.091383 |\n",
      "|------------|----------|\n"
     ]
    },
    {
     "name": "stderr",
     "output_type": "stream",
     "text": [
      "Training Epoch 243: 100%|███████████████████████| 66/66 [00:18<00:00,  3.52it/s]\n"
     ]
    },
    {
     "name": "stdout",
     "output_type": "stream",
     "text": [
      "|------------|----------|\n",
      "| Type       | Value    |\n",
      "|------------|----------|\n",
      "| train loss | 4.404582 |\n",
      "| train acc  | 0.092093 |\n",
      "|------------|----------|\n"
     ]
    },
    {
     "name": "stderr",
     "output_type": "stream",
     "text": [
      "Training Epoch 244: 100%|███████████████████████| 66/66 [00:19<00:00,  3.47it/s]\n"
     ]
    },
    {
     "name": "stdout",
     "output_type": "stream",
     "text": [
      "|------------|----------|\n",
      "| Type       | Value    |\n",
      "|------------|----------|\n",
      "| train loss | 4.405766 |\n",
      "| train acc  | 0.090909 |\n",
      "|------------|----------|\n"
     ]
    },
    {
     "name": "stderr",
     "output_type": "stream",
     "text": [
      "Training Epoch 245: 100%|███████████████████████| 66/66 [00:18<00:00,  3.53it/s]\n"
     ]
    },
    {
     "name": "stdout",
     "output_type": "stream",
     "text": [
      "|------------|----------|\n",
      "| Type       | Value    |\n",
      "|------------|----------|\n",
      "| train loss | 4.405293 |\n",
      "| train acc  | 0.091383 |\n",
      "|------------|----------|\n"
     ]
    },
    {
     "name": "stderr",
     "output_type": "stream",
     "text": [
      "Training Epoch 246: 100%|███████████████████████| 66/66 [00:18<00:00,  3.51it/s]\n"
     ]
    },
    {
     "name": "stdout",
     "output_type": "stream",
     "text": [
      "|------------|----------|\n",
      "| Type       | Value    |\n",
      "|------------|----------|\n",
      "| train loss | 4.405293 |\n",
      "| train acc  | 0.091383 |\n",
      "|------------|----------|\n"
     ]
    },
    {
     "name": "stderr",
     "output_type": "stream",
     "text": [
      "Training Epoch 247: 100%|███████████████████████| 66/66 [00:18<00:00,  3.58it/s]\n"
     ]
    },
    {
     "name": "stdout",
     "output_type": "stream",
     "text": [
      "|------------|----------|\n",
      "| Type       | Value    |\n",
      "|------------|----------|\n",
      "| train loss | 4.405293 |\n",
      "| train acc  | 0.091383 |\n",
      "|------------|----------|\n"
     ]
    },
    {
     "name": "stderr",
     "output_type": "stream",
     "text": [
      "Training Epoch 248: 100%|███████████████████████| 66/66 [00:18<00:00,  3.50it/s]\n"
     ]
    },
    {
     "name": "stdout",
     "output_type": "stream",
     "text": [
      "|------------|----------|\n",
      "| Type       | Value    |\n",
      "|------------|----------|\n",
      "| train loss | 4.404820 |\n",
      "| train acc  | 0.091856 |\n",
      "|------------|----------|\n"
     ]
    },
    {
     "name": "stderr",
     "output_type": "stream",
     "text": [
      "Training Epoch 249: 100%|███████████████████████| 66/66 [00:18<00:00,  3.50it/s]\n"
     ]
    },
    {
     "name": "stdout",
     "output_type": "stream",
     "text": [
      "|------------|----------|\n",
      "| Type       | Value    |\n",
      "|------------|----------|\n",
      "| train loss | 4.406240 |\n",
      "| train acc  | 0.090436 |\n",
      "|------------|----------|\n"
     ]
    },
    {
     "name": "stderr",
     "output_type": "stream",
     "text": [
      "Training Epoch 250: 100%|███████████████████████| 66/66 [00:18<00:00,  3.50it/s]\n"
     ]
    },
    {
     "name": "stdout",
     "output_type": "stream",
     "text": [
      "|------------|----------|\n",
      "| Type       | Value    |\n",
      "|------------|----------|\n",
      "| train loss | 4.406003 |\n",
      "| train acc  | 0.090672 |\n",
      "|------------|----------|\n"
     ]
    },
    {
     "name": "stderr",
     "output_type": "stream",
     "text": [
      "Training Epoch 251: 100%|███████████████████████| 66/66 [00:18<00:00,  3.53it/s]\n"
     ]
    },
    {
     "name": "stdout",
     "output_type": "stream",
     "text": [
      "|------------|----------|\n",
      "| Type       | Value    |\n",
      "|------------|----------|\n",
      "| train loss | 4.404820 |\n",
      "| train acc  | 0.091856 |\n",
      "|------------|----------|\n"
     ]
    },
    {
     "name": "stderr",
     "output_type": "stream",
     "text": [
      "Training Epoch 252: 100%|███████████████████████| 66/66 [00:18<00:00,  3.50it/s]\n"
     ]
    },
    {
     "name": "stdout",
     "output_type": "stream",
     "text": [
      "|------------|----------|\n",
      "| Type       | Value    |\n",
      "|------------|----------|\n",
      "| train loss | 4.404820 |\n",
      "| train acc  | 0.091856 |\n",
      "|------------|----------|\n"
     ]
    },
    {
     "name": "stderr",
     "output_type": "stream",
     "text": [
      "Training Epoch 253: 100%|███████████████████████| 66/66 [00:18<00:00,  3.55it/s]\n"
     ]
    },
    {
     "name": "stdout",
     "output_type": "stream",
     "text": [
      "|------------|----------|\n",
      "| Type       | Value    |\n",
      "|------------|----------|\n",
      "| train loss | 4.405766 |\n",
      "| train acc  | 0.090909 |\n",
      "|------------|----------|\n"
     ]
    },
    {
     "name": "stderr",
     "output_type": "stream",
     "text": [
      "Training Epoch 254: 100%|███████████████████████| 66/66 [00:18<00:00,  3.54it/s]\n"
     ]
    },
    {
     "name": "stdout",
     "output_type": "stream",
     "text": [
      "|------------|----------|\n",
      "| Type       | Value    |\n",
      "|------------|----------|\n",
      "| train loss | 4.405767 |\n",
      "| train acc  | 0.090909 |\n",
      "|------------|----------|\n"
     ]
    },
    {
     "name": "stderr",
     "output_type": "stream",
     "text": [
      "Training Epoch 255: 100%|███████████████████████| 66/66 [00:18<00:00,  3.55it/s]\n"
     ]
    },
    {
     "name": "stdout",
     "output_type": "stream",
     "text": [
      "|------------|----------|\n",
      "| Type       | Value    |\n",
      "|------------|----------|\n",
      "| train loss | 4.404819 |\n",
      "| train acc  | 0.091856 |\n",
      "|------------|----------|\n"
     ]
    },
    {
     "name": "stderr",
     "output_type": "stream",
     "text": [
      "Training Epoch 256: 100%|███████████████████████| 66/66 [00:18<00:00,  3.57it/s]\n"
     ]
    },
    {
     "name": "stdout",
     "output_type": "stream",
     "text": [
      "|------------|----------|\n",
      "| Type       | Value    |\n",
      "|------------|----------|\n",
      "| train loss | 4.404819 |\n",
      "| train acc  | 0.091856 |\n",
      "|------------|----------|\n"
     ]
    },
    {
     "name": "stderr",
     "output_type": "stream",
     "text": [
      "Training Epoch 257: 100%|███████████████████████| 66/66 [00:18<00:00,  3.55it/s]\n"
     ]
    },
    {
     "name": "stdout",
     "output_type": "stream",
     "text": [
      "|------------|----------|\n",
      "| Type       | Value    |\n",
      "|------------|----------|\n",
      "| train loss | 4.404819 |\n",
      "| train acc  | 0.091856 |\n",
      "|------------|----------|\n"
     ]
    },
    {
     "name": "stderr",
     "output_type": "stream",
     "text": [
      "Training Epoch 258: 100%|███████████████████████| 66/66 [00:18<00:00,  3.53it/s]\n"
     ]
    },
    {
     "name": "stdout",
     "output_type": "stream",
     "text": [
      "|------------|----------|\n",
      "| Type       | Value    |\n",
      "|------------|----------|\n",
      "| train loss | 4.405056 |\n",
      "| train acc  | 0.091619 |\n",
      "|------------|----------|\n"
     ]
    },
    {
     "name": "stderr",
     "output_type": "stream",
     "text": [
      "Training Epoch 259: 100%|███████████████████████| 66/66 [00:18<00:00,  3.55it/s]\n"
     ]
    },
    {
     "name": "stdout",
     "output_type": "stream",
     "text": [
      "|------------|----------|\n",
      "| Type       | Value    |\n",
      "|------------|----------|\n",
      "| train loss | 4.404583 |\n",
      "| train acc  | 0.092093 |\n",
      "|------------|----------|\n"
     ]
    },
    {
     "name": "stderr",
     "output_type": "stream",
     "text": [
      "Training Epoch 260: 100%|███████████████████████| 66/66 [00:18<00:00,  3.49it/s]\n"
     ]
    },
    {
     "name": "stdout",
     "output_type": "stream",
     "text": [
      "|------------|----------|\n",
      "| Type       | Value    |\n",
      "|------------|----------|\n",
      "| train loss | 4.405293 |\n",
      "| train acc  | 0.091383 |\n",
      "|------------|----------|\n"
     ]
    },
    {
     "name": "stderr",
     "output_type": "stream",
     "text": [
      "Training Epoch 261: 100%|███████████████████████| 66/66 [00:19<00:00,  3.47it/s]\n"
     ]
    },
    {
     "name": "stdout",
     "output_type": "stream",
     "text": [
      "|------------|----------|\n",
      "| Type       | Value    |\n",
      "|------------|----------|\n",
      "| train loss | 4.404820 |\n",
      "| train acc  | 0.091856 |\n",
      "|------------|----------|\n"
     ]
    },
    {
     "name": "stderr",
     "output_type": "stream",
     "text": [
      "Training Epoch 262: 100%|███████████████████████| 66/66 [00:18<00:00,  3.50it/s]\n"
     ]
    },
    {
     "name": "stdout",
     "output_type": "stream",
     "text": [
      "|------------|----------|\n",
      "| Type       | Value    |\n",
      "|------------|----------|\n",
      "| train loss | 4.406003 |\n",
      "| train acc  | 0.090672 |\n",
      "|------------|----------|\n"
     ]
    },
    {
     "name": "stderr",
     "output_type": "stream",
     "text": [
      "Training Epoch 263: 100%|███████████████████████| 66/66 [00:18<00:00,  3.54it/s]\n"
     ]
    },
    {
     "name": "stdout",
     "output_type": "stream",
     "text": [
      "|------------|----------|\n",
      "| Type       | Value    |\n",
      "|------------|----------|\n",
      "| train loss | 4.404819 |\n",
      "| train acc  | 0.091856 |\n",
      "|------------|----------|\n"
     ]
    },
    {
     "name": "stderr",
     "output_type": "stream",
     "text": [
      "Training Epoch 264: 100%|███████████████████████| 66/66 [00:18<00:00,  3.53it/s]\n"
     ]
    },
    {
     "name": "stdout",
     "output_type": "stream",
     "text": [
      "|------------|----------|\n",
      "| Type       | Value    |\n",
      "|------------|----------|\n",
      "| train loss | 4.404346 |\n",
      "| train acc  | 0.092330 |\n",
      "|------------|----------|\n"
     ]
    },
    {
     "name": "stderr",
     "output_type": "stream",
     "text": [
      "Training Epoch 265: 100%|███████████████████████| 66/66 [00:18<00:00,  3.48it/s]\n"
     ]
    },
    {
     "name": "stdout",
     "output_type": "stream",
     "text": [
      "|------------|----------|\n",
      "| Type       | Value    |\n",
      "|------------|----------|\n",
      "| train loss | 4.404819 |\n",
      "| train acc  | 0.091856 |\n",
      "|------------|----------|\n"
     ]
    },
    {
     "name": "stderr",
     "output_type": "stream",
     "text": [
      "Training Epoch 266: 100%|███████████████████████| 66/66 [00:18<00:00,  3.56it/s]\n"
     ]
    },
    {
     "name": "stdout",
     "output_type": "stream",
     "text": [
      "|------------|----------|\n",
      "| Type       | Value    |\n",
      "|------------|----------|\n",
      "| train loss | 4.405767 |\n",
      "| train acc  | 0.090909 |\n",
      "|------------|----------|\n"
     ]
    },
    {
     "name": "stderr",
     "output_type": "stream",
     "text": [
      "Training Epoch 267: 100%|███████████████████████| 66/66 [00:18<00:00,  3.54it/s]\n"
     ]
    },
    {
     "name": "stdout",
     "output_type": "stream",
     "text": [
      "|------------|----------|\n",
      "| Type       | Value    |\n",
      "|------------|----------|\n",
      "| train loss | 4.405056 |\n",
      "| train acc  | 0.091619 |\n",
      "|------------|----------|\n"
     ]
    },
    {
     "name": "stderr",
     "output_type": "stream",
     "text": [
      "Training Epoch 268: 100%|███████████████████████| 66/66 [00:18<00:00,  3.55it/s]\n"
     ]
    },
    {
     "name": "stdout",
     "output_type": "stream",
     "text": [
      "|------------|----------|\n",
      "| Type       | Value    |\n",
      "|------------|----------|\n",
      "| train loss | 4.404820 |\n",
      "| train acc  | 0.091856 |\n",
      "|------------|----------|\n"
     ]
    },
    {
     "name": "stderr",
     "output_type": "stream",
     "text": [
      "Training Epoch 269: 100%|███████████████████████| 66/66 [00:18<00:00,  3.53it/s]\n"
     ]
    },
    {
     "name": "stdout",
     "output_type": "stream",
     "text": [
      "|------------|----------|\n",
      "| Type       | Value    |\n",
      "|------------|----------|\n",
      "| train loss | 4.405056 |\n",
      "| train acc  | 0.091619 |\n",
      "|------------|----------|\n"
     ]
    },
    {
     "name": "stderr",
     "output_type": "stream",
     "text": [
      "Training Epoch 270: 100%|███████████████████████| 66/66 [00:18<00:00,  3.58it/s]\n"
     ]
    },
    {
     "name": "stdout",
     "output_type": "stream",
     "text": [
      "|------------|----------|\n",
      "| Type       | Value    |\n",
      "|------------|----------|\n",
      "| train loss | 4.405056 |\n",
      "| train acc  | 0.091619 |\n",
      "|------------|----------|\n"
     ]
    },
    {
     "name": "stderr",
     "output_type": "stream",
     "text": [
      "Training Epoch 271: 100%|███████████████████████| 66/66 [00:19<00:00,  3.41it/s]\n"
     ]
    },
    {
     "name": "stdout",
     "output_type": "stream",
     "text": [
      "|------------|----------|\n",
      "| Type       | Value    |\n",
      "|------------|----------|\n",
      "| train loss | 4.404820 |\n",
      "| train acc  | 0.091856 |\n",
      "|------------|----------|\n"
     ]
    },
    {
     "name": "stderr",
     "output_type": "stream",
     "text": [
      "Training Epoch 272: 100%|███████████████████████| 66/66 [00:18<00:00,  3.56it/s]\n"
     ]
    },
    {
     "name": "stdout",
     "output_type": "stream",
     "text": [
      "|------------|----------|\n",
      "| Type       | Value    |\n",
      "|------------|----------|\n",
      "| train loss | 4.405530 |\n",
      "| train acc  | 0.091146 |\n",
      "|------------|----------|\n"
     ]
    },
    {
     "name": "stderr",
     "output_type": "stream",
     "text": [
      "Training Epoch 273: 100%|███████████████████████| 66/66 [00:18<00:00,  3.52it/s]\n"
     ]
    },
    {
     "name": "stdout",
     "output_type": "stream",
     "text": [
      "|------------|----------|\n",
      "| Type       | Value    |\n",
      "|------------|----------|\n",
      "| train loss | 4.405293 |\n",
      "| train acc  | 0.091383 |\n",
      "|------------|----------|\n"
     ]
    },
    {
     "name": "stderr",
     "output_type": "stream",
     "text": [
      "Training Epoch 274: 100%|███████████████████████| 66/66 [00:18<00:00,  3.52it/s]\n"
     ]
    },
    {
     "name": "stdout",
     "output_type": "stream",
     "text": [
      "|------------|----------|\n",
      "| Type       | Value    |\n",
      "|------------|----------|\n",
      "| train loss | 4.406004 |\n",
      "| train acc  | 0.090672 |\n",
      "|------------|----------|\n"
     ]
    },
    {
     "name": "stderr",
     "output_type": "stream",
     "text": [
      "Training Epoch 275: 100%|███████████████████████| 66/66 [00:18<00:00,  3.54it/s]\n"
     ]
    },
    {
     "name": "stdout",
     "output_type": "stream",
     "text": [
      "|------------|----------|\n",
      "| Type       | Value    |\n",
      "|------------|----------|\n",
      "| train loss | 4.405056 |\n",
      "| train acc  | 0.091619 |\n",
      "|------------|----------|\n"
     ]
    },
    {
     "name": "stderr",
     "output_type": "stream",
     "text": [
      "Training Epoch 276: 100%|███████████████████████| 66/66 [00:18<00:00,  3.52it/s]\n"
     ]
    },
    {
     "name": "stdout",
     "output_type": "stream",
     "text": [
      "|------------|----------|\n",
      "| Type       | Value    |\n",
      "|------------|----------|\n",
      "| train loss | 4.405293 |\n",
      "| train acc  | 0.091383 |\n",
      "|------------|----------|\n"
     ]
    },
    {
     "name": "stderr",
     "output_type": "stream",
     "text": [
      "Training Epoch 277: 100%|███████████████████████| 66/66 [00:18<00:00,  3.55it/s]\n"
     ]
    },
    {
     "name": "stdout",
     "output_type": "stream",
     "text": [
      "|------------|----------|\n",
      "| Type       | Value    |\n",
      "|------------|----------|\n",
      "| train loss | 4.404820 |\n",
      "| train acc  | 0.091856 |\n",
      "|------------|----------|\n"
     ]
    },
    {
     "name": "stderr",
     "output_type": "stream",
     "text": [
      "Training Epoch 278: 100%|███████████████████████| 66/66 [00:18<00:00,  3.50it/s]\n"
     ]
    },
    {
     "name": "stdout",
     "output_type": "stream",
     "text": [
      "|------------|----------|\n",
      "| Type       | Value    |\n",
      "|------------|----------|\n",
      "| train loss | 4.405766 |\n",
      "| train acc  | 0.090909 |\n",
      "|------------|----------|\n"
     ]
    },
    {
     "name": "stderr",
     "output_type": "stream",
     "text": [
      "Training Epoch 279: 100%|███████████████████████| 66/66 [00:18<00:00,  3.51it/s]\n"
     ]
    },
    {
     "name": "stdout",
     "output_type": "stream",
     "text": [
      "|------------|----------|\n",
      "| Type       | Value    |\n",
      "|------------|----------|\n",
      "| train loss | 4.405056 |\n",
      "| train acc  | 0.091619 |\n",
      "|------------|----------|\n"
     ]
    },
    {
     "name": "stderr",
     "output_type": "stream",
     "text": [
      "Training Epoch 280: 100%|███████████████████████| 66/66 [00:18<00:00,  3.57it/s]\n"
     ]
    },
    {
     "name": "stdout",
     "output_type": "stream",
     "text": [
      "|------------|----------|\n",
      "| Type       | Value    |\n",
      "|------------|----------|\n",
      "| train loss | 4.405293 |\n",
      "| train acc  | 0.091383 |\n",
      "|------------|----------|\n"
     ]
    },
    {
     "name": "stderr",
     "output_type": "stream",
     "text": [
      "Training Epoch 281: 100%|███████████████████████| 66/66 [00:18<00:00,  3.51it/s]\n"
     ]
    },
    {
     "name": "stdout",
     "output_type": "stream",
     "text": [
      "|------------|----------|\n",
      "| Type       | Value    |\n",
      "|------------|----------|\n",
      "| train loss | 4.404583 |\n",
      "| train acc  | 0.092093 |\n",
      "|------------|----------|\n"
     ]
    },
    {
     "name": "stderr",
     "output_type": "stream",
     "text": [
      "Training Epoch 282: 100%|███████████████████████| 66/66 [00:18<00:00,  3.58it/s]\n"
     ]
    },
    {
     "name": "stdout",
     "output_type": "stream",
     "text": [
      "|------------|----------|\n",
      "| Type       | Value    |\n",
      "|------------|----------|\n",
      "| train loss | 4.404820 |\n",
      "| train acc  | 0.091856 |\n",
      "|------------|----------|\n"
     ]
    },
    {
     "name": "stderr",
     "output_type": "stream",
     "text": [
      "Training Epoch 283: 100%|███████████████████████| 66/66 [00:18<00:00,  3.52it/s]\n"
     ]
    },
    {
     "name": "stdout",
     "output_type": "stream",
     "text": [
      "|------------|----------|\n",
      "| Type       | Value    |\n",
      "|------------|----------|\n",
      "| train loss | 4.405293 |\n",
      "| train acc  | 0.091383 |\n",
      "|------------|----------|\n"
     ]
    },
    {
     "name": "stderr",
     "output_type": "stream",
     "text": [
      "Training Epoch 284: 100%|███████████████████████| 66/66 [00:18<00:00,  3.59it/s]\n"
     ]
    },
    {
     "name": "stdout",
     "output_type": "stream",
     "text": [
      "|------------|----------|\n",
      "| Type       | Value    |\n",
      "|------------|----------|\n",
      "| train loss | 4.404819 |\n",
      "| train acc  | 0.091856 |\n",
      "|------------|----------|\n"
     ]
    },
    {
     "name": "stderr",
     "output_type": "stream",
     "text": [
      "Training Epoch 285: 100%|███████████████████████| 66/66 [00:19<00:00,  3.45it/s]\n"
     ]
    },
    {
     "name": "stdout",
     "output_type": "stream",
     "text": [
      "|------------|----------|\n",
      "| Type       | Value    |\n",
      "|------------|----------|\n",
      "| train loss | 4.404820 |\n",
      "| train acc  | 0.091856 |\n",
      "|------------|----------|\n"
     ]
    },
    {
     "name": "stderr",
     "output_type": "stream",
     "text": [
      "Training Epoch 286: 100%|███████████████████████| 66/66 [00:18<00:00,  3.54it/s]\n"
     ]
    },
    {
     "name": "stdout",
     "output_type": "stream",
     "text": [
      "|------------|----------|\n",
      "| Type       | Value    |\n",
      "|------------|----------|\n",
      "| train loss | 4.405530 |\n",
      "| train acc  | 0.091146 |\n",
      "|------------|----------|\n"
     ]
    },
    {
     "name": "stderr",
     "output_type": "stream",
     "text": [
      "Training Epoch 287: 100%|███████████████████████| 66/66 [00:18<00:00,  3.54it/s]\n"
     ]
    },
    {
     "name": "stdout",
     "output_type": "stream",
     "text": [
      "|------------|----------|\n",
      "| Type       | Value    |\n",
      "|------------|----------|\n",
      "| train loss | 4.405293 |\n",
      "| train acc  | 0.091383 |\n",
      "|------------|----------|\n"
     ]
    },
    {
     "name": "stderr",
     "output_type": "stream",
     "text": [
      "Training Epoch 288: 100%|███████████████████████| 66/66 [00:18<00:00,  3.53it/s]\n"
     ]
    },
    {
     "name": "stdout",
     "output_type": "stream",
     "text": [
      "|------------|----------|\n",
      "| Type       | Value    |\n",
      "|------------|----------|\n",
      "| train loss | 4.404819 |\n",
      "| train acc  | 0.091856 |\n",
      "|------------|----------|\n"
     ]
    },
    {
     "name": "stderr",
     "output_type": "stream",
     "text": [
      "Training Epoch 289: 100%|███████████████████████| 66/66 [00:18<00:00,  3.54it/s]\n"
     ]
    },
    {
     "name": "stdout",
     "output_type": "stream",
     "text": [
      "|------------|----------|\n",
      "| Type       | Value    |\n",
      "|------------|----------|\n",
      "| train loss | 4.405057 |\n",
      "| train acc  | 0.091619 |\n",
      "|------------|----------|\n"
     ]
    },
    {
     "name": "stderr",
     "output_type": "stream",
     "text": [
      "Training Epoch 290: 100%|███████████████████████| 66/66 [00:18<00:00,  3.57it/s]\n"
     ]
    },
    {
     "name": "stdout",
     "output_type": "stream",
     "text": [
      "|------------|----------|\n",
      "| Type       | Value    |\n",
      "|------------|----------|\n",
      "| train loss | 4.406003 |\n",
      "| train acc  | 0.090672 |\n",
      "|------------|----------|\n"
     ]
    },
    {
     "name": "stderr",
     "output_type": "stream",
     "text": [
      "Training Epoch 291: 100%|███████████████████████| 66/66 [00:18<00:00,  3.52it/s]\n"
     ]
    },
    {
     "name": "stdout",
     "output_type": "stream",
     "text": [
      "|------------|----------|\n",
      "| Type       | Value    |\n",
      "|------------|----------|\n",
      "| train loss | 4.405293 |\n",
      "| train acc  | 0.091383 |\n",
      "|------------|----------|\n"
     ]
    },
    {
     "name": "stderr",
     "output_type": "stream",
     "text": [
      "Training Epoch 292: 100%|███████████████████████| 66/66 [00:18<00:00,  3.57it/s]\n"
     ]
    },
    {
     "name": "stdout",
     "output_type": "stream",
     "text": [
      "|------------|----------|\n",
      "| Type       | Value    |\n",
      "|------------|----------|\n",
      "| train loss | 4.405767 |\n",
      "| train acc  | 0.090909 |\n",
      "|------------|----------|\n"
     ]
    },
    {
     "name": "stderr",
     "output_type": "stream",
     "text": [
      "Training Epoch 293: 100%|███████████████████████| 66/66 [00:18<00:00,  3.53it/s]\n"
     ]
    },
    {
     "name": "stdout",
     "output_type": "stream",
     "text": [
      "|------------|----------|\n",
      "| Type       | Value    |\n",
      "|------------|----------|\n",
      "| train loss | 4.406003 |\n",
      "| train acc  | 0.090672 |\n",
      "|------------|----------|\n"
     ]
    },
    {
     "name": "stderr",
     "output_type": "stream",
     "text": [
      "Training Epoch 294: 100%|███████████████████████| 66/66 [00:18<00:00,  3.52it/s]\n"
     ]
    },
    {
     "name": "stdout",
     "output_type": "stream",
     "text": [
      "|------------|----------|\n",
      "| Type       | Value    |\n",
      "|------------|----------|\n",
      "| train loss | 4.404582 |\n",
      "| train acc  | 0.092093 |\n",
      "|------------|----------|\n"
     ]
    },
    {
     "name": "stderr",
     "output_type": "stream",
     "text": [
      "Training Epoch 295: 100%|███████████████████████| 66/66 [00:18<00:00,  3.53it/s]\n"
     ]
    },
    {
     "name": "stdout",
     "output_type": "stream",
     "text": [
      "|------------|----------|\n",
      "| Type       | Value    |\n",
      "|------------|----------|\n",
      "| train loss | 4.405293 |\n",
      "| train acc  | 0.091383 |\n",
      "|------------|----------|\n"
     ]
    },
    {
     "name": "stderr",
     "output_type": "stream",
     "text": [
      "Training Epoch 296: 100%|███████████████████████| 66/66 [00:18<00:00,  3.56it/s]\n"
     ]
    },
    {
     "name": "stdout",
     "output_type": "stream",
     "text": [
      "|------------|----------|\n",
      "| Type       | Value    |\n",
      "|------------|----------|\n",
      "| train loss | 4.405293 |\n",
      "| train acc  | 0.091383 |\n",
      "|------------|----------|\n"
     ]
    },
    {
     "name": "stderr",
     "output_type": "stream",
     "text": [
      "Training Epoch 297: 100%|███████████████████████| 66/66 [00:18<00:00,  3.53it/s]\n"
     ]
    },
    {
     "name": "stdout",
     "output_type": "stream",
     "text": [
      "|------------|----------|\n",
      "| Type       | Value    |\n",
      "|------------|----------|\n",
      "| train loss | 4.404819 |\n",
      "| train acc  | 0.091856 |\n",
      "|------------|----------|\n"
     ]
    },
    {
     "name": "stderr",
     "output_type": "stream",
     "text": [
      "Training Epoch 298: 100%|███████████████████████| 66/66 [00:18<00:00,  3.56it/s]\n"
     ]
    },
    {
     "name": "stdout",
     "output_type": "stream",
     "text": [
      "|------------|----------|\n",
      "| Type       | Value    |\n",
      "|------------|----------|\n",
      "| train loss | 4.405293 |\n",
      "| train acc  | 0.091383 |\n",
      "|------------|----------|\n"
     ]
    },
    {
     "name": "stderr",
     "output_type": "stream",
     "text": [
      "Training Epoch 299: 100%|███████████████████████| 66/66 [00:18<00:00,  3.51it/s]\n"
     ]
    },
    {
     "name": "stdout",
     "output_type": "stream",
     "text": [
      "|------------|----------|\n",
      "| Type       | Value    |\n",
      "|------------|----------|\n",
      "| train loss | 4.405766 |\n",
      "| train acc  | 0.090909 |\n",
      "|------------|----------|\n"
     ]
    }
   ],
   "source": [
    "loss_function = nn.CrossEntropyLoss()\n",
    "max_acc_epoch = train_model(model, loss_function, DataLoader)"
   ]
  },
  {
   "cell_type": "code",
   "execution_count": 12,
   "metadata": {},
   "outputs": [
    {
     "name": "stderr",
     "output_type": "stream",
     "text": [
      "testing : 100%|█████████████████████████████| 2154/2154 [01:12<00:00, 29.76it/s]\n"
     ]
    }
   ],
   "source": [
    "model = load_model(max_acc_epoch)\n",
    "submission = get_output(model, dataset_root, label_index_list)"
   ]
  }
 ],
 "metadata": {
  "kernelspec": {
   "display_name": "Python 3.9.7 64-bit ('PyTorch_p39': conda)",
   "language": "python",
   "name": "python397jvsc74a57bd00a3337c5d7c618b6fb9fafab877a80de5390e792b0cd30d4694a9edc6ed4ede3"
  },
  "language_info": {
   "codemirror_mode": {
    "name": "ipython",
    "version": 3
   },
   "file_extension": ".py",
   "mimetype": "text/x-python",
   "name": "python",
   "nbconvert_exporter": "python",
   "pygments_lexer": "ipython3",
   "version": "3.9.7"
  }
 },
 "nbformat": 4,
 "nbformat_minor": 4
}
